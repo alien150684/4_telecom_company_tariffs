{
 "cells": [
  {
   "cell_type": "markdown",
   "metadata": {
    "toc": true
   },
   "source": [
    "<h1>Содержание<span class=\"tocSkip\"></span></h1>\n",
    "<div class=\"toc\"><ul class=\"toc-item\"><li><span><a href=\"#Описание-проекта\" data-toc-modified-id=\"Описание-проекта-1\"><span class=\"toc-item-num\">1&nbsp;&nbsp;</span>Описание проекта</a></span><ul class=\"toc-item\"><li><span><a href=\"#Задача-проекта\" data-toc-modified-id=\"Задача-проекта-1.1\"><span class=\"toc-item-num\">1.1&nbsp;&nbsp;</span>Задача проекта</a></span></li><li><span><a href=\"#Описание-тарифов\" data-toc-modified-id=\"Описание-тарифов-1.2\"><span class=\"toc-item-num\">1.2&nbsp;&nbsp;</span>Описание тарифов</a></span></li></ul></li><li><span><a href=\"#Изучение-данных-из-файла\" data-toc-modified-id=\"Изучение-данных-из-файла-2\"><span class=\"toc-item-num\">2&nbsp;&nbsp;</span>Изучение данных из файла</a></span></li><li><span><a href=\"#Предобработка-данных\" data-toc-modified-id=\"Предобработка-данных-3\"><span class=\"toc-item-num\">3&nbsp;&nbsp;</span>Предобработка данных</a></span></li><li><span><a href=\"#Анализ-данных\" data-toc-modified-id=\"Анализ-данных-4\"><span class=\"toc-item-num\">4&nbsp;&nbsp;</span>Анализ данных</a></span></li><li><span><a href=\"#Проверка-гипотез\" data-toc-modified-id=\"Проверка-гипотез-5\"><span class=\"toc-item-num\">5&nbsp;&nbsp;</span>Проверка гипотез</a></span></li><li><span><a href=\"#Общий-вывод\" data-toc-modified-id=\"Общий-вывод-6\"><span class=\"toc-item-num\">6&nbsp;&nbsp;</span>Общий вывод</a></span></li></ul></div>"
   ]
  },
  {
   "cell_type": "markdown",
   "metadata": {},
   "source": [
    "# Определение перспективного тарифа для телеком-компании"
   ]
  },
  {
   "cell_type": "markdown",
   "metadata": {},
   "source": [
    "## Описание проекта\n",
    "\n",
    "### Задача проекта\n",
    "Вы аналитик компании «Мегалайн» — федерального оператора сотовой связи. Клиентам предлагают два тарифных плана: «Смарт» и «Ультра». Чтобы скорректировать рекламный бюджет, коммерческий департамент хочет понять, какой тариф приносит больше денег.\n",
    "Вам предстоит сделать предварительный анализ тарифов на небольшой выборке клиентов. В вашем распоряжении данные 500 пользователей «Мегалайна»: кто они, откуда, каким тарифом пользуются, сколько звонков и сообщений каждый отправил за 2018 год. Нужно проанализировать поведение клиентов и сделать вывод — какой тариф лучше.\n",
    "\n",
    "### Описание тарифов\n",
    "\n",
    "Тариф «Смарт»\n",
    "1. Ежемесячная плата: 550 рублей\n",
    "2. Включено 500 минут разговора, 50 сообщений и 15 Гб интернет-трафика\n",
    "3. Стоимость услуг сверх тарифного пакета:\n",
    "    - минута разговора: 3 рубля\n",
    "    - сообщение: 3 рубля\n",
    "    - 1 Гб интернет-трафика: 200 рублей\n",
    "\n",
    "Тариф «Ультра»\n",
    "1. Ежемесячная плата: 1950 рублей\n",
    "2. Включено 3000 минут разговора, 1000 сообщений и 30 Гб интернет-трафика\n",
    "3. Стоимость услуг сверх тарифного пакета:\n",
    "    - минута разговора: 1 рубль\n",
    "    - сообщение: 1 рубль\n",
    "    - 1 Гб интернет-трафика: 150 рублей\n",
    "    \n",
    "**Примечание**.\n",
    "«Мегалайн» всегда округляет секунды до минут, а мегабайты — до гигабайт. Каждый звонок округляется отдельно: даже если он длился всего 1 секунду, будет засчитан как 1 минута.\n",
    "Для веб-трафика отдельные сессии не считаются. Вместо этого общая сумма за месяц округляется в бо́льшую сторону. Если абонент использует 1025 мегабайт в этом месяце, с него возьмут плату за 2 гигабайта. Примите, что неиспользованные за предыдущий месяц звонки, смс, интернет на следующий месяц не переносятся."
   ]
  },
  {
   "cell_type": "markdown",
   "metadata": {},
   "source": [
    "## Изучение данных из файла"
   ]
  },
  {
   "cell_type": "code",
   "execution_count": 1,
   "metadata": {},
   "outputs": [
    {
     "data": {
      "text/html": [
       "<div>\n",
       "<style scoped>\n",
       "    .dataframe tbody tr th:only-of-type {\n",
       "        vertical-align: middle;\n",
       "    }\n",
       "\n",
       "    .dataframe tbody tr th {\n",
       "        vertical-align: top;\n",
       "    }\n",
       "\n",
       "    .dataframe thead th {\n",
       "        text-align: right;\n",
       "    }\n",
       "</style>\n",
       "<table border=\"1\" class=\"dataframe\">\n",
       "  <thead>\n",
       "    <tr style=\"text-align: right;\">\n",
       "      <th></th>\n",
       "      <th>id</th>\n",
       "      <th>call_date</th>\n",
       "      <th>duration</th>\n",
       "      <th>user_id</th>\n",
       "    </tr>\n",
       "  </thead>\n",
       "  <tbody>\n",
       "    <tr>\n",
       "      <td>0</td>\n",
       "      <td>1000_0</td>\n",
       "      <td>2018-07-25</td>\n",
       "      <td>0.00</td>\n",
       "      <td>1000</td>\n",
       "    </tr>\n",
       "    <tr>\n",
       "      <td>1</td>\n",
       "      <td>1000_1</td>\n",
       "      <td>2018-08-17</td>\n",
       "      <td>0.00</td>\n",
       "      <td>1000</td>\n",
       "    </tr>\n",
       "    <tr>\n",
       "      <td>2</td>\n",
       "      <td>1000_2</td>\n",
       "      <td>2018-06-11</td>\n",
       "      <td>2.85</td>\n",
       "      <td>1000</td>\n",
       "    </tr>\n",
       "    <tr>\n",
       "      <td>3</td>\n",
       "      <td>1000_3</td>\n",
       "      <td>2018-09-21</td>\n",
       "      <td>13.80</td>\n",
       "      <td>1000</td>\n",
       "    </tr>\n",
       "    <tr>\n",
       "      <td>4</td>\n",
       "      <td>1000_4</td>\n",
       "      <td>2018-12-15</td>\n",
       "      <td>5.18</td>\n",
       "      <td>1000</td>\n",
       "    </tr>\n",
       "  </tbody>\n",
       "</table>\n",
       "</div>"
      ],
      "text/plain": [
       "       id   call_date  duration  user_id\n",
       "0  1000_0  2018-07-25      0.00     1000\n",
       "1  1000_1  2018-08-17      0.00     1000\n",
       "2  1000_2  2018-06-11      2.85     1000\n",
       "3  1000_3  2018-09-21     13.80     1000\n",
       "4  1000_4  2018-12-15      5.18     1000"
      ]
     },
     "metadata": {},
     "output_type": "display_data"
    },
    {
     "data": {
      "text/html": [
       "<div>\n",
       "<style scoped>\n",
       "    .dataframe tbody tr th:only-of-type {\n",
       "        vertical-align: middle;\n",
       "    }\n",
       "\n",
       "    .dataframe tbody tr th {\n",
       "        vertical-align: top;\n",
       "    }\n",
       "\n",
       "    .dataframe thead th {\n",
       "        text-align: right;\n",
       "    }\n",
       "</style>\n",
       "<table border=\"1\" class=\"dataframe\">\n",
       "  <thead>\n",
       "    <tr style=\"text-align: right;\">\n",
       "      <th></th>\n",
       "      <th>Unnamed: 0</th>\n",
       "      <th>id</th>\n",
       "      <th>mb_used</th>\n",
       "      <th>session_date</th>\n",
       "      <th>user_id</th>\n",
       "    </tr>\n",
       "  </thead>\n",
       "  <tbody>\n",
       "    <tr>\n",
       "      <td>0</td>\n",
       "      <td>0</td>\n",
       "      <td>1000_0</td>\n",
       "      <td>112.95</td>\n",
       "      <td>2018-11-25</td>\n",
       "      <td>1000</td>\n",
       "    </tr>\n",
       "    <tr>\n",
       "      <td>1</td>\n",
       "      <td>1</td>\n",
       "      <td>1000_1</td>\n",
       "      <td>1052.81</td>\n",
       "      <td>2018-09-07</td>\n",
       "      <td>1000</td>\n",
       "    </tr>\n",
       "    <tr>\n",
       "      <td>2</td>\n",
       "      <td>2</td>\n",
       "      <td>1000_2</td>\n",
       "      <td>1197.26</td>\n",
       "      <td>2018-06-25</td>\n",
       "      <td>1000</td>\n",
       "    </tr>\n",
       "    <tr>\n",
       "      <td>3</td>\n",
       "      <td>3</td>\n",
       "      <td>1000_3</td>\n",
       "      <td>550.27</td>\n",
       "      <td>2018-08-22</td>\n",
       "      <td>1000</td>\n",
       "    </tr>\n",
       "    <tr>\n",
       "      <td>4</td>\n",
       "      <td>4</td>\n",
       "      <td>1000_4</td>\n",
       "      <td>302.56</td>\n",
       "      <td>2018-09-24</td>\n",
       "      <td>1000</td>\n",
       "    </tr>\n",
       "  </tbody>\n",
       "</table>\n",
       "</div>"
      ],
      "text/plain": [
       "   Unnamed: 0      id  mb_used session_date  user_id\n",
       "0           0  1000_0   112.95   2018-11-25     1000\n",
       "1           1  1000_1  1052.81   2018-09-07     1000\n",
       "2           2  1000_2  1197.26   2018-06-25     1000\n",
       "3           3  1000_3   550.27   2018-08-22     1000\n",
       "4           4  1000_4   302.56   2018-09-24     1000"
      ]
     },
     "metadata": {},
     "output_type": "display_data"
    },
    {
     "data": {
      "text/html": [
       "<div>\n",
       "<style scoped>\n",
       "    .dataframe tbody tr th:only-of-type {\n",
       "        vertical-align: middle;\n",
       "    }\n",
       "\n",
       "    .dataframe tbody tr th {\n",
       "        vertical-align: top;\n",
       "    }\n",
       "\n",
       "    .dataframe thead th {\n",
       "        text-align: right;\n",
       "    }\n",
       "</style>\n",
       "<table border=\"1\" class=\"dataframe\">\n",
       "  <thead>\n",
       "    <tr style=\"text-align: right;\">\n",
       "      <th></th>\n",
       "      <th>id</th>\n",
       "      <th>message_date</th>\n",
       "      <th>user_id</th>\n",
       "    </tr>\n",
       "  </thead>\n",
       "  <tbody>\n",
       "    <tr>\n",
       "      <td>0</td>\n",
       "      <td>1000_0</td>\n",
       "      <td>2018-06-27</td>\n",
       "      <td>1000</td>\n",
       "    </tr>\n",
       "    <tr>\n",
       "      <td>1</td>\n",
       "      <td>1000_1</td>\n",
       "      <td>2018-10-08</td>\n",
       "      <td>1000</td>\n",
       "    </tr>\n",
       "    <tr>\n",
       "      <td>2</td>\n",
       "      <td>1000_2</td>\n",
       "      <td>2018-08-04</td>\n",
       "      <td>1000</td>\n",
       "    </tr>\n",
       "    <tr>\n",
       "      <td>3</td>\n",
       "      <td>1000_3</td>\n",
       "      <td>2018-06-16</td>\n",
       "      <td>1000</td>\n",
       "    </tr>\n",
       "    <tr>\n",
       "      <td>4</td>\n",
       "      <td>1000_4</td>\n",
       "      <td>2018-12-05</td>\n",
       "      <td>1000</td>\n",
       "    </tr>\n",
       "  </tbody>\n",
       "</table>\n",
       "</div>"
      ],
      "text/plain": [
       "       id message_date  user_id\n",
       "0  1000_0   2018-06-27     1000\n",
       "1  1000_1   2018-10-08     1000\n",
       "2  1000_2   2018-08-04     1000\n",
       "3  1000_3   2018-06-16     1000\n",
       "4  1000_4   2018-12-05     1000"
      ]
     },
     "metadata": {},
     "output_type": "display_data"
    },
    {
     "data": {
      "text/html": [
       "<div>\n",
       "<style scoped>\n",
       "    .dataframe tbody tr th:only-of-type {\n",
       "        vertical-align: middle;\n",
       "    }\n",
       "\n",
       "    .dataframe tbody tr th {\n",
       "        vertical-align: top;\n",
       "    }\n",
       "\n",
       "    .dataframe thead th {\n",
       "        text-align: right;\n",
       "    }\n",
       "</style>\n",
       "<table border=\"1\" class=\"dataframe\">\n",
       "  <thead>\n",
       "    <tr style=\"text-align: right;\">\n",
       "      <th></th>\n",
       "      <th>messages_included</th>\n",
       "      <th>mb_per_month_included</th>\n",
       "      <th>minutes_included</th>\n",
       "      <th>rub_monthly_fee</th>\n",
       "      <th>rub_per_gb</th>\n",
       "      <th>rub_per_message</th>\n",
       "      <th>rub_per_minute</th>\n",
       "      <th>tariff_name</th>\n",
       "    </tr>\n",
       "  </thead>\n",
       "  <tbody>\n",
       "    <tr>\n",
       "      <td>0</td>\n",
       "      <td>50</td>\n",
       "      <td>15360</td>\n",
       "      <td>500</td>\n",
       "      <td>550</td>\n",
       "      <td>200</td>\n",
       "      <td>3</td>\n",
       "      <td>3</td>\n",
       "      <td>smart</td>\n",
       "    </tr>\n",
       "    <tr>\n",
       "      <td>1</td>\n",
       "      <td>1000</td>\n",
       "      <td>30720</td>\n",
       "      <td>3000</td>\n",
       "      <td>1950</td>\n",
       "      <td>150</td>\n",
       "      <td>1</td>\n",
       "      <td>1</td>\n",
       "      <td>ultra</td>\n",
       "    </tr>\n",
       "  </tbody>\n",
       "</table>\n",
       "</div>"
      ],
      "text/plain": [
       "   messages_included  mb_per_month_included  minutes_included  \\\n",
       "0                 50                  15360               500   \n",
       "1               1000                  30720              3000   \n",
       "\n",
       "   rub_monthly_fee  rub_per_gb  rub_per_message  rub_per_minute tariff_name  \n",
       "0              550         200                3               3       smart  \n",
       "1             1950         150                1               1       ultra  "
      ]
     },
     "metadata": {},
     "output_type": "display_data"
    },
    {
     "data": {
      "text/html": [
       "<div>\n",
       "<style scoped>\n",
       "    .dataframe tbody tr th:only-of-type {\n",
       "        vertical-align: middle;\n",
       "    }\n",
       "\n",
       "    .dataframe tbody tr th {\n",
       "        vertical-align: top;\n",
       "    }\n",
       "\n",
       "    .dataframe thead th {\n",
       "        text-align: right;\n",
       "    }\n",
       "</style>\n",
       "<table border=\"1\" class=\"dataframe\">\n",
       "  <thead>\n",
       "    <tr style=\"text-align: right;\">\n",
       "      <th></th>\n",
       "      <th>user_id</th>\n",
       "      <th>age</th>\n",
       "      <th>churn_date</th>\n",
       "      <th>city</th>\n",
       "      <th>first_name</th>\n",
       "      <th>last_name</th>\n",
       "      <th>reg_date</th>\n",
       "      <th>tariff</th>\n",
       "    </tr>\n",
       "  </thead>\n",
       "  <tbody>\n",
       "    <tr>\n",
       "      <td>0</td>\n",
       "      <td>1000</td>\n",
       "      <td>52</td>\n",
       "      <td>NaN</td>\n",
       "      <td>Краснодар</td>\n",
       "      <td>Рафаил</td>\n",
       "      <td>Верещагин</td>\n",
       "      <td>2018-05-25</td>\n",
       "      <td>ultra</td>\n",
       "    </tr>\n",
       "    <tr>\n",
       "      <td>1</td>\n",
       "      <td>1001</td>\n",
       "      <td>41</td>\n",
       "      <td>NaN</td>\n",
       "      <td>Москва</td>\n",
       "      <td>Иван</td>\n",
       "      <td>Ежов</td>\n",
       "      <td>2018-11-01</td>\n",
       "      <td>smart</td>\n",
       "    </tr>\n",
       "    <tr>\n",
       "      <td>2</td>\n",
       "      <td>1002</td>\n",
       "      <td>59</td>\n",
       "      <td>NaN</td>\n",
       "      <td>Стерлитамак</td>\n",
       "      <td>Евгений</td>\n",
       "      <td>Абрамович</td>\n",
       "      <td>2018-06-17</td>\n",
       "      <td>smart</td>\n",
       "    </tr>\n",
       "    <tr>\n",
       "      <td>3</td>\n",
       "      <td>1003</td>\n",
       "      <td>23</td>\n",
       "      <td>NaN</td>\n",
       "      <td>Москва</td>\n",
       "      <td>Белла</td>\n",
       "      <td>Белякова</td>\n",
       "      <td>2018-08-17</td>\n",
       "      <td>ultra</td>\n",
       "    </tr>\n",
       "    <tr>\n",
       "      <td>4</td>\n",
       "      <td>1004</td>\n",
       "      <td>68</td>\n",
       "      <td>NaN</td>\n",
       "      <td>Новокузнецк</td>\n",
       "      <td>Татьяна</td>\n",
       "      <td>Авдеенко</td>\n",
       "      <td>2018-05-14</td>\n",
       "      <td>ultra</td>\n",
       "    </tr>\n",
       "  </tbody>\n",
       "</table>\n",
       "</div>"
      ],
      "text/plain": [
       "   user_id  age churn_date         city first_name  last_name    reg_date  \\\n",
       "0     1000   52        NaN    Краснодар     Рафаил  Верещагин  2018-05-25   \n",
       "1     1001   41        NaN       Москва       Иван       Ежов  2018-11-01   \n",
       "2     1002   59        NaN  Стерлитамак    Евгений  Абрамович  2018-06-17   \n",
       "3     1003   23        NaN       Москва      Белла   Белякова  2018-08-17   \n",
       "4     1004   68        NaN  Новокузнецк    Татьяна   Авдеенко  2018-05-14   \n",
       "\n",
       "  tariff  \n",
       "0  ultra  \n",
       "1  smart  \n",
       "2  smart  \n",
       "3  ultra  \n",
       "4  ultra  "
      ]
     },
     "metadata": {},
     "output_type": "display_data"
    }
   ],
   "source": [
    "import pandas as pd\n",
    "pd.options.display.max_columns = None # отображать все столбцы без разбиения датафрейма на части\n",
    "import numpy as np\n",
    "from scipy import stats as st\n",
    "import matplotlib.pyplot as plt\n",
    "\n",
    "calls = pd.read_csv('/datasets/calls.csv', sep=',', decimal='.')\n",
    "internet = pd.read_csv('/datasets/internet.csv', sep=',', decimal='.')\n",
    "messages = pd.read_csv('/datasets/messages.csv', sep=',', decimal='.')\n",
    "tariffs = pd.read_csv('/datasets/tariffs.csv', sep=',', decimal='.')\n",
    "users = pd.read_csv('/datasets/users.csv', sep=',', decimal='.')\n",
    "\n",
    "display(calls.head())\n",
    "# calls.info()\n",
    "\n",
    "display(internet.head())\n",
    "# internet.info()\n",
    "\n",
    "display(messages.head())\n",
    "# messages.info()\n",
    "\n",
    "display(tariffs.head())\n",
    "# tariffs.info()\n",
    "\n",
    "display(users.head())\n",
    "# users.info()"
   ]
  },
  {
   "cell_type": "markdown",
   "metadata": {},
   "source": [
    "Выводы.\n",
    "\n",
    "- В таблице 'calls' 202607 строк. Пропусков нет. Содержимое столбца 'call_date' необходимо преобразовать методом to_datetime(). Значения в столбце 'duration' округлим до минут в большую сторону, поскольку тарификация поминутная.\n",
    "- В таблице 'internet' 149396 строк. Пропусков нет. Содержимое столбца 'session_date' необходимо преобразовать методом to_datetime(). Для каждого абонента необходимо посчитать сумму трафика по месяцам (столбец 'mb_used'), перевести в Гб и округлить в большую сторону. Столбцец 'Unnamed: 0' можно удалить, поскольку дублирует столбец с индексами.\n",
    "- В таблице 'messages' 123036 строк. Пропусков нет. Содержимое столбца 'message_date' необходимо преобразовать методом to_datetime().\n",
    "- В таблице 'tariffs' 2 строки. Пропусков нет. Предоставляемый в рамках тарифа интернет-трафик необходимо перевести в Гб (столбец 'mb_per_month_included').\n",
    "- В таблице 'users' 500 строк. В столбце 'churn_date' 462 пропуска. В условиях задачи написано: \"если значение пропущено, то тариф ещё действовал на момент выгрузки данных\". Содержимое столбцов 'churn_date' и 'reg_date' необходимо преобразовать методом to_datetime()."
   ]
  },
  {
   "cell_type": "markdown",
   "metadata": {},
   "source": [
    "## Предобработка данных"
   ]
  },
  {
   "cell_type": "code",
   "execution_count": 2,
   "metadata": {},
   "outputs": [],
   "source": [
    "# Для удобства альнейшей работы значения столбца 'tariff_name' в таблице 'tariffs' сделаем индексами\n",
    "tariffs.set_index('tariff_name', inplace=True)"
   ]
  },
  {
   "cell_type": "code",
   "execution_count": 3,
   "metadata": {},
   "outputs": [],
   "source": [
    "# Преобразование типа столбцов с датами в datetime64.\n",
    "calls['call_date'] = pd.to_datetime(calls['call_date'], format='%Y-%m-%d')\n",
    "internet['session_date'] = pd.to_datetime(internet['session_date'], format='%Y-%m-%d')\n",
    "messages['message_date'] = pd.to_datetime(messages['message_date'], format='%Y-%m-%d')\n",
    "users['churn_date'] = pd.to_datetime(users['churn_date'], format='%Y-%m-%d')\n",
    "users['reg_date'] = pd.to_datetime(users['reg_date'], format='%Y-%m-%d')\n",
    "\n",
    "# Определим месяц совершения действий\n",
    "calls['month'] = calls['call_date'].dt.month\n",
    "internet['month'] = internet['session_date'].dt.month\n",
    "messages['month'] = messages['message_date'].dt.month"
   ]
  },
  {
   "cell_type": "code",
   "execution_count": 4,
   "metadata": {},
   "outputs": [],
   "source": [
    "# Значения в столбце 'duration' округлим до минут в большую сторону, поскольку тарификация поминутная.\n",
    "\n",
    "# calls['duration'] = calls['duration'].apply(lambda x: math.ceil(x)) # вариант 1\n",
    "calls['duration'] = np.ceil(calls['duration']).astype('int') # вариант 2\n",
    "\n",
    "# calls.head()"
   ]
  },
  {
   "cell_type": "code",
   "execution_count": 5,
   "metadata": {},
   "outputs": [],
   "source": [
    "# Предоставляемый в рамках тарифа интернет-трафик необходимо перевести в Гб\n",
    "internet['gb_used'] = internet['mb_used'] / 1024\n",
    "tariffs['gbs_included'] = tariffs['mb_per_month_included'] / 1024"
   ]
  },
  {
   "cell_type": "markdown",
   "metadata": {},
   "source": [
    "Количество израсходованных минут по месяцам."
   ]
  },
  {
   "cell_type": "code",
   "execution_count": 6,
   "metadata": {},
   "outputs": [
    {
     "data": {
      "text/html": [
       "<div>\n",
       "<style scoped>\n",
       "    .dataframe tbody tr th:only-of-type {\n",
       "        vertical-align: middle;\n",
       "    }\n",
       "\n",
       "    .dataframe tbody tr th {\n",
       "        vertical-align: top;\n",
       "    }\n",
       "\n",
       "    .dataframe thead th {\n",
       "        text-align: right;\n",
       "    }\n",
       "</style>\n",
       "<table border=\"1\" class=\"dataframe\">\n",
       "  <thead>\n",
       "    <tr style=\"text-align: right;\">\n",
       "      <th>month</th>\n",
       "      <th>1</th>\n",
       "      <th>2</th>\n",
       "      <th>3</th>\n",
       "      <th>4</th>\n",
       "      <th>5</th>\n",
       "      <th>6</th>\n",
       "      <th>7</th>\n",
       "      <th>8</th>\n",
       "      <th>9</th>\n",
       "      <th>10</th>\n",
       "      <th>11</th>\n",
       "      <th>12</th>\n",
       "      <th>unit</th>\n",
       "    </tr>\n",
       "    <tr>\n",
       "      <th>user_id</th>\n",
       "      <th></th>\n",
       "      <th></th>\n",
       "      <th></th>\n",
       "      <th></th>\n",
       "      <th></th>\n",
       "      <th></th>\n",
       "      <th></th>\n",
       "      <th></th>\n",
       "      <th></th>\n",
       "      <th></th>\n",
       "      <th></th>\n",
       "      <th></th>\n",
       "      <th></th>\n",
       "    </tr>\n",
       "  </thead>\n",
       "  <tbody>\n",
       "    <tr>\n",
       "      <td>1000</td>\n",
       "      <td>NaN</td>\n",
       "      <td>NaN</td>\n",
       "      <td>NaN</td>\n",
       "      <td>NaN</td>\n",
       "      <td>159.0</td>\n",
       "      <td>172.0</td>\n",
       "      <td>340.0</td>\n",
       "      <td>408.0</td>\n",
       "      <td>466.0</td>\n",
       "      <td>350.0</td>\n",
       "      <td>338.0</td>\n",
       "      <td>333.0</td>\n",
       "      <td>minute</td>\n",
       "    </tr>\n",
       "    <tr>\n",
       "      <td>1001</td>\n",
       "      <td>NaN</td>\n",
       "      <td>NaN</td>\n",
       "      <td>NaN</td>\n",
       "      <td>NaN</td>\n",
       "      <td>NaN</td>\n",
       "      <td>NaN</td>\n",
       "      <td>NaN</td>\n",
       "      <td>NaN</td>\n",
       "      <td>NaN</td>\n",
       "      <td>NaN</td>\n",
       "      <td>430.0</td>\n",
       "      <td>414.0</td>\n",
       "      <td>minute</td>\n",
       "    </tr>\n",
       "    <tr>\n",
       "      <td>1002</td>\n",
       "      <td>NaN</td>\n",
       "      <td>NaN</td>\n",
       "      <td>NaN</td>\n",
       "      <td>NaN</td>\n",
       "      <td>NaN</td>\n",
       "      <td>117.0</td>\n",
       "      <td>214.0</td>\n",
       "      <td>289.0</td>\n",
       "      <td>206.0</td>\n",
       "      <td>212.0</td>\n",
       "      <td>243.0</td>\n",
       "      <td>236.0</td>\n",
       "      <td>minute</td>\n",
       "    </tr>\n",
       "    <tr>\n",
       "      <td>1003</td>\n",
       "      <td>NaN</td>\n",
       "      <td>NaN</td>\n",
       "      <td>NaN</td>\n",
       "      <td>NaN</td>\n",
       "      <td>NaN</td>\n",
       "      <td>NaN</td>\n",
       "      <td>NaN</td>\n",
       "      <td>380.0</td>\n",
       "      <td>961.0</td>\n",
       "      <td>855.0</td>\n",
       "      <td>824.0</td>\n",
       "      <td>802.0</td>\n",
       "      <td>minute</td>\n",
       "    </tr>\n",
       "    <tr>\n",
       "      <td>1004</td>\n",
       "      <td>NaN</td>\n",
       "      <td>NaN</td>\n",
       "      <td>NaN</td>\n",
       "      <td>NaN</td>\n",
       "      <td>35.0</td>\n",
       "      <td>171.0</td>\n",
       "      <td>135.0</td>\n",
       "      <td>137.0</td>\n",
       "      <td>117.0</td>\n",
       "      <td>145.0</td>\n",
       "      <td>117.0</td>\n",
       "      <td>130.0</td>\n",
       "      <td>minute</td>\n",
       "    </tr>\n",
       "  </tbody>\n",
       "</table>\n",
       "</div>"
      ],
      "text/plain": [
       "month     1   2   3   4      5      6      7      8      9     10     11  \\\n",
       "user_id                                                                    \n",
       "1000    NaN NaN NaN NaN  159.0  172.0  340.0  408.0  466.0  350.0  338.0   \n",
       "1001    NaN NaN NaN NaN    NaN    NaN    NaN    NaN    NaN    NaN  430.0   \n",
       "1002    NaN NaN NaN NaN    NaN  117.0  214.0  289.0  206.0  212.0  243.0   \n",
       "1003    NaN NaN NaN NaN    NaN    NaN    NaN  380.0  961.0  855.0  824.0   \n",
       "1004    NaN NaN NaN NaN   35.0  171.0  135.0  137.0  117.0  145.0  117.0   \n",
       "\n",
       "month       12    unit  \n",
       "user_id                 \n",
       "1000     333.0  minute  \n",
       "1001     414.0  minute  \n",
       "1002     236.0  minute  \n",
       "1003     802.0  minute  \n",
       "1004     130.0  minute  "
      ]
     },
     "execution_count": 6,
     "metadata": {},
     "output_type": "execute_result"
    }
   ],
   "source": [
    "calls_pivot = calls.pivot_table(index=['user_id'], columns='month', values='duration', aggfunc='sum')\n",
    "calls_pivot['unit'] = 'minute'\n",
    "calls_pivot.head()\n",
    "\n",
    "# calls_grouped = calls.groupby(['user_id','month']).agg({'duration':'sum'})\n",
    "# calls_grouped.head()"
   ]
  },
  {
   "cell_type": "markdown",
   "metadata": {},
   "source": [
    "Объём израсходованного интернет-трафика по месяцам."
   ]
  },
  {
   "cell_type": "code",
   "execution_count": 7,
   "metadata": {},
   "outputs": [
    {
     "data": {
      "text/html": [
       "<div>\n",
       "<style scoped>\n",
       "    .dataframe tbody tr th:only-of-type {\n",
       "        vertical-align: middle;\n",
       "    }\n",
       "\n",
       "    .dataframe tbody tr th {\n",
       "        vertical-align: top;\n",
       "    }\n",
       "\n",
       "    .dataframe thead th {\n",
       "        text-align: right;\n",
       "    }\n",
       "</style>\n",
       "<table border=\"1\" class=\"dataframe\">\n",
       "  <thead>\n",
       "    <tr style=\"text-align: right;\">\n",
       "      <th>month</th>\n",
       "      <th>1</th>\n",
       "      <th>2</th>\n",
       "      <th>3</th>\n",
       "      <th>4</th>\n",
       "      <th>5</th>\n",
       "      <th>6</th>\n",
       "      <th>7</th>\n",
       "      <th>8</th>\n",
       "      <th>9</th>\n",
       "      <th>10</th>\n",
       "      <th>11</th>\n",
       "      <th>12</th>\n",
       "      <th>unit</th>\n",
       "    </tr>\n",
       "    <tr>\n",
       "      <th>user_id</th>\n",
       "      <th></th>\n",
       "      <th></th>\n",
       "      <th></th>\n",
       "      <th></th>\n",
       "      <th></th>\n",
       "      <th></th>\n",
       "      <th></th>\n",
       "      <th></th>\n",
       "      <th></th>\n",
       "      <th></th>\n",
       "      <th></th>\n",
       "      <th></th>\n",
       "      <th></th>\n",
       "    </tr>\n",
       "  </thead>\n",
       "  <tbody>\n",
       "    <tr>\n",
       "      <td>1000</td>\n",
       "      <td>NaN</td>\n",
       "      <td>NaN</td>\n",
       "      <td>NaN</td>\n",
       "      <td>NaN</td>\n",
       "      <td>3.0</td>\n",
       "      <td>23.0</td>\n",
       "      <td>14.0</td>\n",
       "      <td>14.0</td>\n",
       "      <td>15.0</td>\n",
       "      <td>15.0</td>\n",
       "      <td>15.0</td>\n",
       "      <td>10.0</td>\n",
       "      <td>gb</td>\n",
       "    </tr>\n",
       "    <tr>\n",
       "      <td>1001</td>\n",
       "      <td>NaN</td>\n",
       "      <td>NaN</td>\n",
       "      <td>NaN</td>\n",
       "      <td>NaN</td>\n",
       "      <td>NaN</td>\n",
       "      <td>NaN</td>\n",
       "      <td>NaN</td>\n",
       "      <td>NaN</td>\n",
       "      <td>NaN</td>\n",
       "      <td>NaN</td>\n",
       "      <td>18.0</td>\n",
       "      <td>14.0</td>\n",
       "      <td>gb</td>\n",
       "    </tr>\n",
       "    <tr>\n",
       "      <td>1002</td>\n",
       "      <td>NaN</td>\n",
       "      <td>NaN</td>\n",
       "      <td>NaN</td>\n",
       "      <td>NaN</td>\n",
       "      <td>NaN</td>\n",
       "      <td>11.0</td>\n",
       "      <td>18.0</td>\n",
       "      <td>20.0</td>\n",
       "      <td>17.0</td>\n",
       "      <td>14.0</td>\n",
       "      <td>19.0</td>\n",
       "      <td>18.0</td>\n",
       "      <td>gb</td>\n",
       "    </tr>\n",
       "    <tr>\n",
       "      <td>1003</td>\n",
       "      <td>NaN</td>\n",
       "      <td>NaN</td>\n",
       "      <td>NaN</td>\n",
       "      <td>NaN</td>\n",
       "      <td>NaN</td>\n",
       "      <td>NaN</td>\n",
       "      <td>NaN</td>\n",
       "      <td>9.0</td>\n",
       "      <td>13.0</td>\n",
       "      <td>15.0</td>\n",
       "      <td>12.0</td>\n",
       "      <td>10.0</td>\n",
       "      <td>gb</td>\n",
       "    </tr>\n",
       "    <tr>\n",
       "      <td>1004</td>\n",
       "      <td>NaN</td>\n",
       "      <td>NaN</td>\n",
       "      <td>NaN</td>\n",
       "      <td>NaN</td>\n",
       "      <td>14.0</td>\n",
       "      <td>18.0</td>\n",
       "      <td>22.0</td>\n",
       "      <td>28.0</td>\n",
       "      <td>15.0</td>\n",
       "      <td>19.0</td>\n",
       "      <td>16.0</td>\n",
       "      <td>18.0</td>\n",
       "      <td>gb</td>\n",
       "    </tr>\n",
       "  </tbody>\n",
       "</table>\n",
       "</div>"
      ],
      "text/plain": [
       "month     1   2   3   4     5     6     7     8     9    10    11    12 unit\n",
       "user_id                                                                     \n",
       "1000    NaN NaN NaN NaN   3.0  23.0  14.0  14.0  15.0  15.0  15.0  10.0   gb\n",
       "1001    NaN NaN NaN NaN   NaN   NaN   NaN   NaN   NaN   NaN  18.0  14.0   gb\n",
       "1002    NaN NaN NaN NaN   NaN  11.0  18.0  20.0  17.0  14.0  19.0  18.0   gb\n",
       "1003    NaN NaN NaN NaN   NaN   NaN   NaN   9.0  13.0  15.0  12.0  10.0   gb\n",
       "1004    NaN NaN NaN NaN  14.0  18.0  22.0  28.0  15.0  19.0  16.0  18.0   gb"
      ]
     },
     "execution_count": 7,
     "metadata": {},
     "output_type": "execute_result"
    }
   ],
   "source": [
    "internet_pivot = internet.pivot_table(index=['user_id'], columns='month', values='gb_used', aggfunc='sum')\n",
    "# internet_grouped = internet.groupby(['user_id','month']).agg({'gb_used':'sum'}).reset_index()\n",
    "\n",
    "# Округлим значения в сводной таблице в большую сторону.\n",
    "internet_pivot = np.ceil(internet_pivot)\n",
    "internet_pivot['unit'] = 'gb'\n",
    "\n",
    "# internet_grouped['gb_used'] = np.ceil(internet_grouped['gb_used']).astype('Int64')\n",
    "\n",
    "internet_pivot.head()\n",
    "# internet_grouped.head()"
   ]
  },
  {
   "cell_type": "markdown",
   "metadata": {},
   "source": [
    "Количество отправленных сообщений по месяцам."
   ]
  },
  {
   "cell_type": "code",
   "execution_count": 8,
   "metadata": {},
   "outputs": [
    {
     "data": {
      "text/html": [
       "<div>\n",
       "<style scoped>\n",
       "    .dataframe tbody tr th:only-of-type {\n",
       "        vertical-align: middle;\n",
       "    }\n",
       "\n",
       "    .dataframe tbody tr th {\n",
       "        vertical-align: top;\n",
       "    }\n",
       "\n",
       "    .dataframe thead th {\n",
       "        text-align: right;\n",
       "    }\n",
       "</style>\n",
       "<table border=\"1\" class=\"dataframe\">\n",
       "  <thead>\n",
       "    <tr style=\"text-align: right;\">\n",
       "      <th>month</th>\n",
       "      <th>1</th>\n",
       "      <th>2</th>\n",
       "      <th>3</th>\n",
       "      <th>4</th>\n",
       "      <th>5</th>\n",
       "      <th>6</th>\n",
       "      <th>7</th>\n",
       "      <th>8</th>\n",
       "      <th>9</th>\n",
       "      <th>10</th>\n",
       "      <th>11</th>\n",
       "      <th>12</th>\n",
       "      <th>unit</th>\n",
       "    </tr>\n",
       "    <tr>\n",
       "      <th>user_id</th>\n",
       "      <th></th>\n",
       "      <th></th>\n",
       "      <th></th>\n",
       "      <th></th>\n",
       "      <th></th>\n",
       "      <th></th>\n",
       "      <th></th>\n",
       "      <th></th>\n",
       "      <th></th>\n",
       "      <th></th>\n",
       "      <th></th>\n",
       "      <th></th>\n",
       "      <th></th>\n",
       "    </tr>\n",
       "  </thead>\n",
       "  <tbody>\n",
       "    <tr>\n",
       "      <td>1000</td>\n",
       "      <td>NaN</td>\n",
       "      <td>NaN</td>\n",
       "      <td>NaN</td>\n",
       "      <td>NaN</td>\n",
       "      <td>22.0</td>\n",
       "      <td>60.0</td>\n",
       "      <td>75.0</td>\n",
       "      <td>81.0</td>\n",
       "      <td>57.0</td>\n",
       "      <td>73.0</td>\n",
       "      <td>58.0</td>\n",
       "      <td>70.0</td>\n",
       "      <td>message</td>\n",
       "    </tr>\n",
       "    <tr>\n",
       "      <td>1002</td>\n",
       "      <td>NaN</td>\n",
       "      <td>NaN</td>\n",
       "      <td>NaN</td>\n",
       "      <td>NaN</td>\n",
       "      <td>NaN</td>\n",
       "      <td>4.0</td>\n",
       "      <td>11.0</td>\n",
       "      <td>13.0</td>\n",
       "      <td>4.0</td>\n",
       "      <td>10.0</td>\n",
       "      <td>16.0</td>\n",
       "      <td>12.0</td>\n",
       "      <td>message</td>\n",
       "    </tr>\n",
       "    <tr>\n",
       "      <td>1003</td>\n",
       "      <td>NaN</td>\n",
       "      <td>NaN</td>\n",
       "      <td>NaN</td>\n",
       "      <td>NaN</td>\n",
       "      <td>NaN</td>\n",
       "      <td>NaN</td>\n",
       "      <td>NaN</td>\n",
       "      <td>37.0</td>\n",
       "      <td>91.0</td>\n",
       "      <td>83.0</td>\n",
       "      <td>94.0</td>\n",
       "      <td>75.0</td>\n",
       "      <td>message</td>\n",
       "    </tr>\n",
       "    <tr>\n",
       "      <td>1004</td>\n",
       "      <td>NaN</td>\n",
       "      <td>NaN</td>\n",
       "      <td>NaN</td>\n",
       "      <td>NaN</td>\n",
       "      <td>95.0</td>\n",
       "      <td>134.0</td>\n",
       "      <td>181.0</td>\n",
       "      <td>151.0</td>\n",
       "      <td>146.0</td>\n",
       "      <td>165.0</td>\n",
       "      <td>158.0</td>\n",
       "      <td>162.0</td>\n",
       "      <td>message</td>\n",
       "    </tr>\n",
       "    <tr>\n",
       "      <td>1005</td>\n",
       "      <td>7.0</td>\n",
       "      <td>38.0</td>\n",
       "      <td>56.0</td>\n",
       "      <td>41.0</td>\n",
       "      <td>42.0</td>\n",
       "      <td>47.0</td>\n",
       "      <td>56.0</td>\n",
       "      <td>64.0</td>\n",
       "      <td>52.0</td>\n",
       "      <td>44.0</td>\n",
       "      <td>51.0</td>\n",
       "      <td>54.0</td>\n",
       "      <td>message</td>\n",
       "    </tr>\n",
       "  </tbody>\n",
       "</table>\n",
       "</div>"
      ],
      "text/plain": [
       "month      1     2     3     4     5      6      7      8      9     10  \\\n",
       "user_id                                                                   \n",
       "1000     NaN   NaN   NaN   NaN  22.0   60.0   75.0   81.0   57.0   73.0   \n",
       "1002     NaN   NaN   NaN   NaN   NaN    4.0   11.0   13.0    4.0   10.0   \n",
       "1003     NaN   NaN   NaN   NaN   NaN    NaN    NaN   37.0   91.0   83.0   \n",
       "1004     NaN   NaN   NaN   NaN  95.0  134.0  181.0  151.0  146.0  165.0   \n",
       "1005     7.0  38.0  56.0  41.0  42.0   47.0   56.0   64.0   52.0   44.0   \n",
       "\n",
       "month       11     12     unit  \n",
       "user_id                         \n",
       "1000      58.0   70.0  message  \n",
       "1002      16.0   12.0  message  \n",
       "1003      94.0   75.0  message  \n",
       "1004     158.0  162.0  message  \n",
       "1005      51.0   54.0  message  "
      ]
     },
     "execution_count": 8,
     "metadata": {},
     "output_type": "execute_result"
    }
   ],
   "source": [
    "messages_pivot = messages.pivot_table(index=['user_id'], columns='month', values='id', aggfunc='count')\n",
    "messages_pivot['unit'] = 'message'\n",
    "\n",
    "# messages_grouped = internet.groupby(['user_id','month']).agg({'id':'count'}).reset_index()\n",
    "\n",
    "messages_pivot.head()\n",
    "# messages_grouped.head()"
   ]
  },
  {
   "cell_type": "markdown",
   "metadata": {},
   "source": [
    "Сводная таблица затрат минут, гигабайт и сообщений по месяцам."
   ]
  },
  {
   "cell_type": "code",
   "execution_count": 9,
   "metadata": {},
   "outputs": [
    {
     "data": {
      "text/html": [
       "<div>\n",
       "<style scoped>\n",
       "    .dataframe tbody tr th:only-of-type {\n",
       "        vertical-align: middle;\n",
       "    }\n",
       "\n",
       "    .dataframe tbody tr th {\n",
       "        vertical-align: top;\n",
       "    }\n",
       "\n",
       "    .dataframe thead th {\n",
       "        text-align: right;\n",
       "    }\n",
       "</style>\n",
       "<table border=\"1\" class=\"dataframe\">\n",
       "  <thead>\n",
       "    <tr style=\"text-align: right;\">\n",
       "      <th></th>\n",
       "      <th>user_id</th>\n",
       "      <th>tariff</th>\n",
       "      <th>1</th>\n",
       "      <th>2</th>\n",
       "      <th>3</th>\n",
       "      <th>4</th>\n",
       "      <th>5</th>\n",
       "      <th>6</th>\n",
       "      <th>7</th>\n",
       "      <th>8</th>\n",
       "      <th>9</th>\n",
       "      <th>10</th>\n",
       "      <th>11</th>\n",
       "      <th>12</th>\n",
       "      <th>unit</th>\n",
       "    </tr>\n",
       "  </thead>\n",
       "  <tbody>\n",
       "    <tr>\n",
       "      <td>0</td>\n",
       "      <td>1000</td>\n",
       "      <td>ultra</td>\n",
       "      <td>NaN</td>\n",
       "      <td>NaN</td>\n",
       "      <td>NaN</td>\n",
       "      <td>NaN</td>\n",
       "      <td>159.0</td>\n",
       "      <td>172.0</td>\n",
       "      <td>340.0</td>\n",
       "      <td>408.0</td>\n",
       "      <td>466.0</td>\n",
       "      <td>350.0</td>\n",
       "      <td>338.0</td>\n",
       "      <td>333.0</td>\n",
       "      <td>minute</td>\n",
       "    </tr>\n",
       "    <tr>\n",
       "      <td>1</td>\n",
       "      <td>1000</td>\n",
       "      <td>ultra</td>\n",
       "      <td>NaN</td>\n",
       "      <td>NaN</td>\n",
       "      <td>NaN</td>\n",
       "      <td>NaN</td>\n",
       "      <td>3.0</td>\n",
       "      <td>23.0</td>\n",
       "      <td>14.0</td>\n",
       "      <td>14.0</td>\n",
       "      <td>15.0</td>\n",
       "      <td>15.0</td>\n",
       "      <td>15.0</td>\n",
       "      <td>10.0</td>\n",
       "      <td>gb</td>\n",
       "    </tr>\n",
       "    <tr>\n",
       "      <td>2</td>\n",
       "      <td>1000</td>\n",
       "      <td>ultra</td>\n",
       "      <td>NaN</td>\n",
       "      <td>NaN</td>\n",
       "      <td>NaN</td>\n",
       "      <td>NaN</td>\n",
       "      <td>22.0</td>\n",
       "      <td>60.0</td>\n",
       "      <td>75.0</td>\n",
       "      <td>81.0</td>\n",
       "      <td>57.0</td>\n",
       "      <td>73.0</td>\n",
       "      <td>58.0</td>\n",
       "      <td>70.0</td>\n",
       "      <td>message</td>\n",
       "    </tr>\n",
       "    <tr>\n",
       "      <td>3</td>\n",
       "      <td>1001</td>\n",
       "      <td>smart</td>\n",
       "      <td>NaN</td>\n",
       "      <td>NaN</td>\n",
       "      <td>NaN</td>\n",
       "      <td>NaN</td>\n",
       "      <td>NaN</td>\n",
       "      <td>NaN</td>\n",
       "      <td>NaN</td>\n",
       "      <td>NaN</td>\n",
       "      <td>NaN</td>\n",
       "      <td>NaN</td>\n",
       "      <td>430.0</td>\n",
       "      <td>414.0</td>\n",
       "      <td>minute</td>\n",
       "    </tr>\n",
       "    <tr>\n",
       "      <td>4</td>\n",
       "      <td>1001</td>\n",
       "      <td>smart</td>\n",
       "      <td>NaN</td>\n",
       "      <td>NaN</td>\n",
       "      <td>NaN</td>\n",
       "      <td>NaN</td>\n",
       "      <td>NaN</td>\n",
       "      <td>NaN</td>\n",
       "      <td>NaN</td>\n",
       "      <td>NaN</td>\n",
       "      <td>NaN</td>\n",
       "      <td>NaN</td>\n",
       "      <td>18.0</td>\n",
       "      <td>14.0</td>\n",
       "      <td>gb</td>\n",
       "    </tr>\n",
       "    <tr>\n",
       "      <td>5</td>\n",
       "      <td>1002</td>\n",
       "      <td>smart</td>\n",
       "      <td>NaN</td>\n",
       "      <td>NaN</td>\n",
       "      <td>NaN</td>\n",
       "      <td>NaN</td>\n",
       "      <td>NaN</td>\n",
       "      <td>117.0</td>\n",
       "      <td>214.0</td>\n",
       "      <td>289.0</td>\n",
       "      <td>206.0</td>\n",
       "      <td>212.0</td>\n",
       "      <td>243.0</td>\n",
       "      <td>236.0</td>\n",
       "      <td>minute</td>\n",
       "    </tr>\n",
       "    <tr>\n",
       "      <td>6</td>\n",
       "      <td>1002</td>\n",
       "      <td>smart</td>\n",
       "      <td>NaN</td>\n",
       "      <td>NaN</td>\n",
       "      <td>NaN</td>\n",
       "      <td>NaN</td>\n",
       "      <td>NaN</td>\n",
       "      <td>11.0</td>\n",
       "      <td>18.0</td>\n",
       "      <td>20.0</td>\n",
       "      <td>17.0</td>\n",
       "      <td>14.0</td>\n",
       "      <td>19.0</td>\n",
       "      <td>18.0</td>\n",
       "      <td>gb</td>\n",
       "    </tr>\n",
       "    <tr>\n",
       "      <td>7</td>\n",
       "      <td>1002</td>\n",
       "      <td>smart</td>\n",
       "      <td>NaN</td>\n",
       "      <td>NaN</td>\n",
       "      <td>NaN</td>\n",
       "      <td>NaN</td>\n",
       "      <td>NaN</td>\n",
       "      <td>4.0</td>\n",
       "      <td>11.0</td>\n",
       "      <td>13.0</td>\n",
       "      <td>4.0</td>\n",
       "      <td>10.0</td>\n",
       "      <td>16.0</td>\n",
       "      <td>12.0</td>\n",
       "      <td>message</td>\n",
       "    </tr>\n",
       "  </tbody>\n",
       "</table>\n",
       "</div>"
      ],
      "text/plain": [
       "   user_id tariff   1   2   3   4      5      6      7      8      9     10  \\\n",
       "0     1000  ultra NaN NaN NaN NaN  159.0  172.0  340.0  408.0  466.0  350.0   \n",
       "1     1000  ultra NaN NaN NaN NaN    3.0   23.0   14.0   14.0   15.0   15.0   \n",
       "2     1000  ultra NaN NaN NaN NaN   22.0   60.0   75.0   81.0   57.0   73.0   \n",
       "3     1001  smart NaN NaN NaN NaN    NaN    NaN    NaN    NaN    NaN    NaN   \n",
       "4     1001  smart NaN NaN NaN NaN    NaN    NaN    NaN    NaN    NaN    NaN   \n",
       "5     1002  smart NaN NaN NaN NaN    NaN  117.0  214.0  289.0  206.0  212.0   \n",
       "6     1002  smart NaN NaN NaN NaN    NaN   11.0   18.0   20.0   17.0   14.0   \n",
       "7     1002  smart NaN NaN NaN NaN    NaN    4.0   11.0   13.0    4.0   10.0   \n",
       "\n",
       "      11     12     unit  \n",
       "0  338.0  333.0   minute  \n",
       "1   15.0   10.0       gb  \n",
       "2   58.0   70.0  message  \n",
       "3  430.0  414.0   minute  \n",
       "4   18.0   14.0       gb  \n",
       "5  243.0  236.0   minute  \n",
       "6   19.0   18.0       gb  \n",
       "7   16.0   12.0  message  "
      ]
     },
     "execution_count": 9,
     "metadata": {},
     "output_type": "execute_result"
    }
   ],
   "source": [
    "sources_costs = pd.concat([calls_pivot, internet_pivot, messages_pivot], axis=0)\n",
    "sources_costs = users[['user_id', 'tariff']].join(sources_costs, on='user_id', how='right').reset_index(drop=True)\n",
    "sources_costs.head(8)"
   ]
  },
  {
   "cell_type": "markdown",
   "metadata": {},
   "source": [
    "Затраты пользователей на звонки, интернет и сообщения по месяцам сверх абонентской платы."
   ]
  },
  {
   "cell_type": "code",
   "execution_count": 10,
   "metadata": {},
   "outputs": [
    {
     "data": {
      "text/html": [
       "<div>\n",
       "<style scoped>\n",
       "    .dataframe tbody tr th:only-of-type {\n",
       "        vertical-align: middle;\n",
       "    }\n",
       "\n",
       "    .dataframe tbody tr th {\n",
       "        vertical-align: top;\n",
       "    }\n",
       "\n",
       "    .dataframe thead th {\n",
       "        text-align: right;\n",
       "    }\n",
       "</style>\n",
       "<table border=\"1\" class=\"dataframe\">\n",
       "  <thead>\n",
       "    <tr style=\"text-align: right;\">\n",
       "      <th></th>\n",
       "      <th>user_id</th>\n",
       "      <th>tariff</th>\n",
       "      <th>1</th>\n",
       "      <th>2</th>\n",
       "      <th>3</th>\n",
       "      <th>4</th>\n",
       "      <th>5</th>\n",
       "      <th>6</th>\n",
       "      <th>7</th>\n",
       "      <th>8</th>\n",
       "      <th>9</th>\n",
       "      <th>10</th>\n",
       "      <th>11</th>\n",
       "      <th>12</th>\n",
       "      <th>unit</th>\n",
       "    </tr>\n",
       "  </thead>\n",
       "  <tbody>\n",
       "    <tr>\n",
       "      <td>0</td>\n",
       "      <td>1000</td>\n",
       "      <td>ultra</td>\n",
       "      <td>NaN</td>\n",
       "      <td>NaN</td>\n",
       "      <td>NaN</td>\n",
       "      <td>NaN</td>\n",
       "      <td>0.0</td>\n",
       "      <td>0.0</td>\n",
       "      <td>0.0</td>\n",
       "      <td>0.0</td>\n",
       "      <td>0.0</td>\n",
       "      <td>0.0</td>\n",
       "      <td>0.0</td>\n",
       "      <td>0.0</td>\n",
       "      <td>rub</td>\n",
       "    </tr>\n",
       "    <tr>\n",
       "      <td>1</td>\n",
       "      <td>1000</td>\n",
       "      <td>ultra</td>\n",
       "      <td>NaN</td>\n",
       "      <td>NaN</td>\n",
       "      <td>NaN</td>\n",
       "      <td>NaN</td>\n",
       "      <td>0.0</td>\n",
       "      <td>0.0</td>\n",
       "      <td>0.0</td>\n",
       "      <td>0.0</td>\n",
       "      <td>0.0</td>\n",
       "      <td>0.0</td>\n",
       "      <td>0.0</td>\n",
       "      <td>0.0</td>\n",
       "      <td>rub</td>\n",
       "    </tr>\n",
       "    <tr>\n",
       "      <td>2</td>\n",
       "      <td>1000</td>\n",
       "      <td>ultra</td>\n",
       "      <td>NaN</td>\n",
       "      <td>NaN</td>\n",
       "      <td>NaN</td>\n",
       "      <td>NaN</td>\n",
       "      <td>0.0</td>\n",
       "      <td>0.0</td>\n",
       "      <td>0.0</td>\n",
       "      <td>0.0</td>\n",
       "      <td>0.0</td>\n",
       "      <td>0.0</td>\n",
       "      <td>0.0</td>\n",
       "      <td>0.0</td>\n",
       "      <td>rub</td>\n",
       "    </tr>\n",
       "    <tr>\n",
       "      <td>3</td>\n",
       "      <td>1001</td>\n",
       "      <td>smart</td>\n",
       "      <td>NaN</td>\n",
       "      <td>NaN</td>\n",
       "      <td>NaN</td>\n",
       "      <td>NaN</td>\n",
       "      <td>NaN</td>\n",
       "      <td>NaN</td>\n",
       "      <td>NaN</td>\n",
       "      <td>NaN</td>\n",
       "      <td>NaN</td>\n",
       "      <td>NaN</td>\n",
       "      <td>0.0</td>\n",
       "      <td>0.0</td>\n",
       "      <td>rub</td>\n",
       "    </tr>\n",
       "    <tr>\n",
       "      <td>4</td>\n",
       "      <td>1001</td>\n",
       "      <td>smart</td>\n",
       "      <td>NaN</td>\n",
       "      <td>NaN</td>\n",
       "      <td>NaN</td>\n",
       "      <td>NaN</td>\n",
       "      <td>NaN</td>\n",
       "      <td>NaN</td>\n",
       "      <td>NaN</td>\n",
       "      <td>NaN</td>\n",
       "      <td>NaN</td>\n",
       "      <td>NaN</td>\n",
       "      <td>600.0</td>\n",
       "      <td>0.0</td>\n",
       "      <td>rub</td>\n",
       "    </tr>\n",
       "    <tr>\n",
       "      <td>5</td>\n",
       "      <td>1002</td>\n",
       "      <td>smart</td>\n",
       "      <td>NaN</td>\n",
       "      <td>NaN</td>\n",
       "      <td>NaN</td>\n",
       "      <td>NaN</td>\n",
       "      <td>NaN</td>\n",
       "      <td>0.0</td>\n",
       "      <td>0.0</td>\n",
       "      <td>0.0</td>\n",
       "      <td>0.0</td>\n",
       "      <td>0.0</td>\n",
       "      <td>0.0</td>\n",
       "      <td>0.0</td>\n",
       "      <td>rub</td>\n",
       "    </tr>\n",
       "    <tr>\n",
       "      <td>6</td>\n",
       "      <td>1002</td>\n",
       "      <td>smart</td>\n",
       "      <td>NaN</td>\n",
       "      <td>NaN</td>\n",
       "      <td>NaN</td>\n",
       "      <td>NaN</td>\n",
       "      <td>NaN</td>\n",
       "      <td>0.0</td>\n",
       "      <td>600.0</td>\n",
       "      <td>1000.0</td>\n",
       "      <td>400.0</td>\n",
       "      <td>0.0</td>\n",
       "      <td>800.0</td>\n",
       "      <td>600.0</td>\n",
       "      <td>rub</td>\n",
       "    </tr>\n",
       "    <tr>\n",
       "      <td>7</td>\n",
       "      <td>1002</td>\n",
       "      <td>smart</td>\n",
       "      <td>NaN</td>\n",
       "      <td>NaN</td>\n",
       "      <td>NaN</td>\n",
       "      <td>NaN</td>\n",
       "      <td>NaN</td>\n",
       "      <td>0.0</td>\n",
       "      <td>0.0</td>\n",
       "      <td>0.0</td>\n",
       "      <td>0.0</td>\n",
       "      <td>0.0</td>\n",
       "      <td>0.0</td>\n",
       "      <td>0.0</td>\n",
       "      <td>rub</td>\n",
       "    </tr>\n",
       "  </tbody>\n",
       "</table>\n",
       "</div>"
      ],
      "text/plain": [
       "   user_id tariff   1   2   3   4    5    6      7       8      9   10     11  \\\n",
       "0     1000  ultra NaN NaN NaN NaN  0.0  0.0    0.0     0.0    0.0  0.0    0.0   \n",
       "1     1000  ultra NaN NaN NaN NaN  0.0  0.0    0.0     0.0    0.0  0.0    0.0   \n",
       "2     1000  ultra NaN NaN NaN NaN  0.0  0.0    0.0     0.0    0.0  0.0    0.0   \n",
       "3     1001  smart NaN NaN NaN NaN  NaN  NaN    NaN     NaN    NaN  NaN    0.0   \n",
       "4     1001  smart NaN NaN NaN NaN  NaN  NaN    NaN     NaN    NaN  NaN  600.0   \n",
       "5     1002  smart NaN NaN NaN NaN  NaN  0.0    0.0     0.0    0.0  0.0    0.0   \n",
       "6     1002  smart NaN NaN NaN NaN  NaN  0.0  600.0  1000.0  400.0  0.0  800.0   \n",
       "7     1002  smart NaN NaN NaN NaN  NaN  0.0    0.0     0.0    0.0  0.0    0.0   \n",
       "\n",
       "      12 unit  \n",
       "0    0.0  rub  \n",
       "1    0.0  rub  \n",
       "2    0.0  rub  \n",
       "3    0.0  rub  \n",
       "4    0.0  rub  \n",
       "5    0.0  rub  \n",
       "6  600.0  rub  \n",
       "7    0.0  rub  "
      ]
     },
     "execution_count": 10,
     "metadata": {},
     "output_type": "execute_result"
    }
   ],
   "source": [
    "add_costs = sources_costs.copy()\n",
    "number_mounth = [1, 2, 3, 4, 5, 6, 7, 8, 9, 10, 11, 12]\n",
    "\n",
    "# Расчёт затрат на звонки, интернет и сообщения в зависимости от тарифа\n",
    "for tariff in ('smart', 'ultra'):\n",
    "    for unit in ('minute', 'gb', 'message'):\n",
    "        add_costs.loc[(add_costs['tariff'] == tariff) & \n",
    "                      (add_costs['unit'] == unit), number_mounth] -= tariffs.loc[tariff, f'{unit}s_included']\n",
    "        add_costs.loc[(add_costs['tariff'] == tariff) & \n",
    "                      (add_costs['unit'] == unit), number_mounth] *= tariffs.loc[tariff, f'rub_per_{unit}']\n",
    "\n",
    "# Обнуление отрицательных значений. Они означают, что пользователь не превысил лимиты тарифа.\n",
    "add_costs[number_mounth] = add_costs[number_mounth].clip(lower=0)\n",
    "\n",
    "# Заменим значения в столбце 'unit' на 'rub'\n",
    "add_costs['unit'] = 'rub'\n",
    "\n",
    "add_costs.head(8)\n",
    "# add_costs.info()"
   ]
  },
  {
   "cell_type": "markdown",
   "metadata": {},
   "source": [
    "Затраты пользователей по месяцам сверх абонентской платы."
   ]
  },
  {
   "cell_type": "code",
   "execution_count": 11,
   "metadata": {},
   "outputs": [
    {
     "data": {
      "text/html": [
       "<div>\n",
       "<style scoped>\n",
       "    .dataframe tbody tr th:only-of-type {\n",
       "        vertical-align: middle;\n",
       "    }\n",
       "\n",
       "    .dataframe tbody tr th {\n",
       "        vertical-align: top;\n",
       "    }\n",
       "\n",
       "    .dataframe thead th {\n",
       "        text-align: right;\n",
       "    }\n",
       "</style>\n",
       "<table border=\"1\" class=\"dataframe\">\n",
       "  <thead>\n",
       "    <tr style=\"text-align: right;\">\n",
       "      <th></th>\n",
       "      <th>user_id</th>\n",
       "      <th>city</th>\n",
       "      <th>tariff</th>\n",
       "      <th>1</th>\n",
       "      <th>2</th>\n",
       "      <th>3</th>\n",
       "      <th>4</th>\n",
       "      <th>5</th>\n",
       "      <th>6</th>\n",
       "      <th>7</th>\n",
       "      <th>8</th>\n",
       "      <th>9</th>\n",
       "      <th>10</th>\n",
       "      <th>11</th>\n",
       "      <th>12</th>\n",
       "    </tr>\n",
       "  </thead>\n",
       "  <tbody>\n",
       "    <tr>\n",
       "      <td>0</td>\n",
       "      <td>1000</td>\n",
       "      <td>Краснодар</td>\n",
       "      <td>ultra</td>\n",
       "      <td>NaN</td>\n",
       "      <td>NaN</td>\n",
       "      <td>NaN</td>\n",
       "      <td>NaN</td>\n",
       "      <td>0.0</td>\n",
       "      <td>0.0</td>\n",
       "      <td>0.0</td>\n",
       "      <td>0.0</td>\n",
       "      <td>0.0</td>\n",
       "      <td>0.0</td>\n",
       "      <td>0.0</td>\n",
       "      <td>0.0</td>\n",
       "    </tr>\n",
       "    <tr>\n",
       "      <td>1</td>\n",
       "      <td>1001</td>\n",
       "      <td>Москва</td>\n",
       "      <td>smart</td>\n",
       "      <td>NaN</td>\n",
       "      <td>NaN</td>\n",
       "      <td>NaN</td>\n",
       "      <td>NaN</td>\n",
       "      <td>NaN</td>\n",
       "      <td>NaN</td>\n",
       "      <td>NaN</td>\n",
       "      <td>NaN</td>\n",
       "      <td>NaN</td>\n",
       "      <td>NaN</td>\n",
       "      <td>600.0</td>\n",
       "      <td>0.0</td>\n",
       "    </tr>\n",
       "    <tr>\n",
       "      <td>2</td>\n",
       "      <td>1002</td>\n",
       "      <td>Стерлитамак</td>\n",
       "      <td>smart</td>\n",
       "      <td>NaN</td>\n",
       "      <td>NaN</td>\n",
       "      <td>NaN</td>\n",
       "      <td>NaN</td>\n",
       "      <td>NaN</td>\n",
       "      <td>0.0</td>\n",
       "      <td>600.0</td>\n",
       "      <td>1000.0</td>\n",
       "      <td>400.0</td>\n",
       "      <td>0.0</td>\n",
       "      <td>800.0</td>\n",
       "      <td>600.0</td>\n",
       "    </tr>\n",
       "    <tr>\n",
       "      <td>3</td>\n",
       "      <td>1003</td>\n",
       "      <td>Москва</td>\n",
       "      <td>ultra</td>\n",
       "      <td>NaN</td>\n",
       "      <td>NaN</td>\n",
       "      <td>NaN</td>\n",
       "      <td>NaN</td>\n",
       "      <td>NaN</td>\n",
       "      <td>NaN</td>\n",
       "      <td>NaN</td>\n",
       "      <td>0.0</td>\n",
       "      <td>0.0</td>\n",
       "      <td>0.0</td>\n",
       "      <td>0.0</td>\n",
       "      <td>0.0</td>\n",
       "    </tr>\n",
       "    <tr>\n",
       "      <td>4</td>\n",
       "      <td>1004</td>\n",
       "      <td>Новокузнецк</td>\n",
       "      <td>ultra</td>\n",
       "      <td>NaN</td>\n",
       "      <td>NaN</td>\n",
       "      <td>NaN</td>\n",
       "      <td>NaN</td>\n",
       "      <td>0.0</td>\n",
       "      <td>0.0</td>\n",
       "      <td>0.0</td>\n",
       "      <td>0.0</td>\n",
       "      <td>0.0</td>\n",
       "      <td>0.0</td>\n",
       "      <td>0.0</td>\n",
       "      <td>0.0</td>\n",
       "    </tr>\n",
       "  </tbody>\n",
       "</table>\n",
       "</div>"
      ],
      "text/plain": [
       "   user_id         city tariff   1   2   3   4    5    6      7       8  \\\n",
       "0     1000    Краснодар  ultra NaN NaN NaN NaN  0.0  0.0    0.0     0.0   \n",
       "1     1001       Москва  smart NaN NaN NaN NaN  NaN  NaN    NaN     NaN   \n",
       "2     1002  Стерлитамак  smart NaN NaN NaN NaN  NaN  0.0  600.0  1000.0   \n",
       "3     1003       Москва  ultra NaN NaN NaN NaN  NaN  NaN    NaN     0.0   \n",
       "4     1004  Новокузнецк  ultra NaN NaN NaN NaN  0.0  0.0    0.0     0.0   \n",
       "\n",
       "       9   10     11     12  \n",
       "0    0.0  0.0    0.0    0.0  \n",
       "1    NaN  NaN  600.0    0.0  \n",
       "2  400.0  0.0  800.0  600.0  \n",
       "3    0.0  0.0    0.0    0.0  \n",
       "4    0.0  0.0    0.0    0.0  "
      ]
     },
     "execution_count": 11,
     "metadata": {},
     "output_type": "execute_result"
    }
   ],
   "source": [
    "# При группировке и суммировании данных методом sum() возникает проблема: если в столбце все значения -\n",
    "# NaN, то сумма получается 0. Мне этого НЕ надо, поскольку у нуля и NaN в таблице разный смысл.\n",
    "# Пришлось агрегировать данные с помощью специальной функции.\n",
    "\n",
    "def group_sum(group):\n",
    "    return group.values.sum()\n",
    "\n",
    "sum_add_costs = add_costs.groupby('user_id')[number_mounth].agg(group_sum)\n",
    "\n",
    "# Добавим столбец'tariff'.\n",
    "sum_add_costs = users[['user_id', 'city', 'tariff']].join(sum_add_costs, on='user_id', how='right')\n",
    "sum_add_costs.head()"
   ]
  },
  {
   "cell_type": "markdown",
   "metadata": {},
   "source": [
    "Затраты пользователей по месяцам с учётом абонентской платы."
   ]
  },
  {
   "cell_type": "code",
   "execution_count": 12,
   "metadata": {},
   "outputs": [
    {
     "data": {
      "text/html": [
       "<div>\n",
       "<style scoped>\n",
       "    .dataframe tbody tr th:only-of-type {\n",
       "        vertical-align: middle;\n",
       "    }\n",
       "\n",
       "    .dataframe tbody tr th {\n",
       "        vertical-align: top;\n",
       "    }\n",
       "\n",
       "    .dataframe thead th {\n",
       "        text-align: right;\n",
       "    }\n",
       "</style>\n",
       "<table border=\"1\" class=\"dataframe\">\n",
       "  <thead>\n",
       "    <tr style=\"text-align: right;\">\n",
       "      <th></th>\n",
       "      <th>user_id</th>\n",
       "      <th>city</th>\n",
       "      <th>tariff</th>\n",
       "      <th>1</th>\n",
       "      <th>2</th>\n",
       "      <th>3</th>\n",
       "      <th>4</th>\n",
       "      <th>5</th>\n",
       "      <th>6</th>\n",
       "      <th>7</th>\n",
       "      <th>8</th>\n",
       "      <th>9</th>\n",
       "      <th>10</th>\n",
       "      <th>11</th>\n",
       "      <th>12</th>\n",
       "    </tr>\n",
       "  </thead>\n",
       "  <tbody>\n",
       "    <tr>\n",
       "      <td>0</td>\n",
       "      <td>1000</td>\n",
       "      <td>Краснодар</td>\n",
       "      <td>ultra</td>\n",
       "      <td>NaN</td>\n",
       "      <td>NaN</td>\n",
       "      <td>NaN</td>\n",
       "      <td>NaN</td>\n",
       "      <td>1950.0</td>\n",
       "      <td>1950.0</td>\n",
       "      <td>1950.0</td>\n",
       "      <td>1950.0</td>\n",
       "      <td>1950.0</td>\n",
       "      <td>1950.0</td>\n",
       "      <td>1950.0</td>\n",
       "      <td>1950.0</td>\n",
       "    </tr>\n",
       "    <tr>\n",
       "      <td>1</td>\n",
       "      <td>1001</td>\n",
       "      <td>Москва</td>\n",
       "      <td>smart</td>\n",
       "      <td>NaN</td>\n",
       "      <td>NaN</td>\n",
       "      <td>NaN</td>\n",
       "      <td>NaN</td>\n",
       "      <td>NaN</td>\n",
       "      <td>NaN</td>\n",
       "      <td>NaN</td>\n",
       "      <td>NaN</td>\n",
       "      <td>NaN</td>\n",
       "      <td>NaN</td>\n",
       "      <td>1150.0</td>\n",
       "      <td>550.0</td>\n",
       "    </tr>\n",
       "    <tr>\n",
       "      <td>2</td>\n",
       "      <td>1002</td>\n",
       "      <td>Стерлитамак</td>\n",
       "      <td>smart</td>\n",
       "      <td>NaN</td>\n",
       "      <td>NaN</td>\n",
       "      <td>NaN</td>\n",
       "      <td>NaN</td>\n",
       "      <td>NaN</td>\n",
       "      <td>550.0</td>\n",
       "      <td>1150.0</td>\n",
       "      <td>1550.0</td>\n",
       "      <td>950.0</td>\n",
       "      <td>550.0</td>\n",
       "      <td>1350.0</td>\n",
       "      <td>1150.0</td>\n",
       "    </tr>\n",
       "    <tr>\n",
       "      <td>3</td>\n",
       "      <td>1003</td>\n",
       "      <td>Москва</td>\n",
       "      <td>ultra</td>\n",
       "      <td>NaN</td>\n",
       "      <td>NaN</td>\n",
       "      <td>NaN</td>\n",
       "      <td>NaN</td>\n",
       "      <td>NaN</td>\n",
       "      <td>NaN</td>\n",
       "      <td>NaN</td>\n",
       "      <td>1950.0</td>\n",
       "      <td>1950.0</td>\n",
       "      <td>1950.0</td>\n",
       "      <td>1950.0</td>\n",
       "      <td>1950.0</td>\n",
       "    </tr>\n",
       "    <tr>\n",
       "      <td>4</td>\n",
       "      <td>1004</td>\n",
       "      <td>Новокузнецк</td>\n",
       "      <td>ultra</td>\n",
       "      <td>NaN</td>\n",
       "      <td>NaN</td>\n",
       "      <td>NaN</td>\n",
       "      <td>NaN</td>\n",
       "      <td>1950.0</td>\n",
       "      <td>1950.0</td>\n",
       "      <td>1950.0</td>\n",
       "      <td>1950.0</td>\n",
       "      <td>1950.0</td>\n",
       "      <td>1950.0</td>\n",
       "      <td>1950.0</td>\n",
       "      <td>1950.0</td>\n",
       "    </tr>\n",
       "  </tbody>\n",
       "</table>\n",
       "</div>"
      ],
      "text/plain": [
       "   user_id         city tariff   1   2   3   4       5       6       7  \\\n",
       "0     1000    Краснодар  ultra NaN NaN NaN NaN  1950.0  1950.0  1950.0   \n",
       "1     1001       Москва  smart NaN NaN NaN NaN     NaN     NaN     NaN   \n",
       "2     1002  Стерлитамак  smart NaN NaN NaN NaN     NaN   550.0  1150.0   \n",
       "3     1003       Москва  ultra NaN NaN NaN NaN     NaN     NaN     NaN   \n",
       "4     1004  Новокузнецк  ultra NaN NaN NaN NaN  1950.0  1950.0  1950.0   \n",
       "\n",
       "        8       9      10      11      12  \n",
       "0  1950.0  1950.0  1950.0  1950.0  1950.0  \n",
       "1     NaN     NaN     NaN  1150.0   550.0  \n",
       "2  1550.0   950.0   550.0  1350.0  1150.0  \n",
       "3  1950.0  1950.0  1950.0  1950.0  1950.0  \n",
       "4  1950.0  1950.0  1950.0  1950.0  1950.0  "
      ]
     },
     "execution_count": 12,
     "metadata": {},
     "output_type": "execute_result"
    }
   ],
   "source": [
    "sum_costs = sum_add_costs.copy()\n",
    "sum_costs.loc[sum_costs['tariff'] == 'smart', number_mounth] += tariffs.loc['smart', 'rub_monthly_fee']\n",
    "sum_costs.loc[sum_costs['tariff'] == 'ultra', number_mounth] += tariffs.loc['ultra', 'rub_monthly_fee']\n",
    "sum_costs.head()"
   ]
  },
  {
   "cell_type": "markdown",
   "metadata": {},
   "source": [
    "## Анализ данных"
   ]
  },
  {
   "cell_type": "markdown",
   "metadata": {},
   "source": [
    "Определим точечные оценки распределений количества израсходованных минут, гигабайт и сообщений для разных тарифов."
   ]
  },
  {
   "cell_type": "code",
   "execution_count": 13,
   "metadata": {},
   "outputs": [
    {
     "data": {
      "text/html": [
       "<div>\n",
       "<style scoped>\n",
       "    .dataframe tbody tr th:only-of-type {\n",
       "        vertical-align: middle;\n",
       "    }\n",
       "\n",
       "    .dataframe tbody tr th {\n",
       "        vertical-align: top;\n",
       "    }\n",
       "\n",
       "    .dataframe thead th {\n",
       "        text-align: right;\n",
       "    }\n",
       "</style>\n",
       "<table border=\"1\" class=\"dataframe\">\n",
       "  <thead>\n",
       "    <tr style=\"text-align: right;\">\n",
       "      <th></th>\n",
       "      <th>estimates</th>\n",
       "      <th>smart_minutes</th>\n",
       "      <th>ultra_minutes</th>\n",
       "      <th>smart_gbs</th>\n",
       "      <th>ultra_gbs</th>\n",
       "      <th>smart_messages</th>\n",
       "      <th>ultra_messages</th>\n",
       "    </tr>\n",
       "  </thead>\n",
       "  <tbody>\n",
       "    <tr>\n",
       "      <td>0</td>\n",
       "      <td>mean</td>\n",
       "      <td>419.1</td>\n",
       "      <td>545.5</td>\n",
       "      <td>16.3</td>\n",
       "      <td>19.7</td>\n",
       "      <td>38.7</td>\n",
       "      <td>61.2</td>\n",
       "    </tr>\n",
       "    <tr>\n",
       "      <td>1</td>\n",
       "      <td>median</td>\n",
       "      <td>423.0</td>\n",
       "      <td>528.0</td>\n",
       "      <td>17.0</td>\n",
       "      <td>19.0</td>\n",
       "      <td>34.0</td>\n",
       "      <td>51.0</td>\n",
       "    </tr>\n",
       "    <tr>\n",
       "      <td>2</td>\n",
       "      <td>var</td>\n",
       "      <td>35844.2</td>\n",
       "      <td>94203.4</td>\n",
       "      <td>32.9</td>\n",
       "      <td>94.1</td>\n",
       "      <td>717.6</td>\n",
       "      <td>2109.7</td>\n",
       "    </tr>\n",
       "    <tr>\n",
       "      <td>3</td>\n",
       "      <td>std</td>\n",
       "      <td>189.3</td>\n",
       "      <td>306.9</td>\n",
       "      <td>5.7</td>\n",
       "      <td>9.7</td>\n",
       "      <td>26.8</td>\n",
       "      <td>45.9</td>\n",
       "    </tr>\n",
       "  </tbody>\n",
       "</table>\n",
       "</div>"
      ],
      "text/plain": [
       "  estimates  smart_minutes  ultra_minutes  smart_gbs  ultra_gbs  \\\n",
       "0      mean          419.1          545.5       16.3       19.7   \n",
       "1    median          423.0          528.0       17.0       19.0   \n",
       "2       var        35844.2        94203.4       32.9       94.1   \n",
       "3       std          189.3          306.9        5.7        9.7   \n",
       "\n",
       "   smart_messages  ultra_messages  \n",
       "0            38.7            61.2  \n",
       "1            34.0            51.0  \n",
       "2           717.6          2109.7  \n",
       "3            26.8            45.9  "
      ]
     },
     "metadata": {},
     "output_type": "display_data"
    }
   ],
   "source": [
    "estimates = pd.DataFrame(data=['mean', 'median', 'var', 'std'], columns = ['estimates'])\n",
    "axs = pd.Series()\n",
    "\n",
    "for unit in ('minute', 'gb', 'message'):\n",
    "    for tariff in ('smart', 'ultra'):\n",
    "        # выборка значений\n",
    "        axs[f'{tariff}_{unit}s'] = (sources_costs.loc[(sources_costs['tariff'] == tariff) &\n",
    "                                                      (sources_costs['unit'] == unit), number_mounth]\n",
    "                                                  .melt())\n",
    "        # точечные оценки генерального среднего, медианы, дисперсии, среднего квадратичного отклонения\n",
    "        estimates = estimates.join(\n",
    "                                   axs[f'{tariff}_{unit}s'].agg({'value': ['mean', 'median', 'var', 'std']})\n",
    "                                                           .round(1)\n",
    "                                                           .rename(columns={'value': f'{tariff}_{unit}s'}),\n",
    "                                   on='estimates', how='right')\n",
    "        \n",
    "display(estimates)\n",
    "# axs['smart_minutes'].head()"
   ]
  },
  {
   "cell_type": "markdown",
   "metadata": {},
   "source": [
    "Построим гистограммы распределений количества израсходованных минут, гигабайт и сообщений для разных тарифов."
   ]
  },
  {
   "cell_type": "code",
   "execution_count": 14,
   "metadata": {},
   "outputs": [
    {
     "data": {
      "image/png": "[encoded data removed]",
      "text/plain": [
       "<Figure size 432x288 with 1 Axes>"
      ]
     },
     "metadata": {
      "needs_background": "light"
     },
     "output_type": "display_data"
    },
    {
     "data": {
      "image/png": "[encoded data removed]",
      "text/plain": [
       "<Figure size 432x288 with 1 Axes>"
      ]
     },
     "metadata": {
      "needs_background": "light"
     },
     "output_type": "display_data"
    },
    {
     "data": {
      "image/png": "[encoded data removed]",
      "text/plain": [
       "<Figure size 432x288 with 1 Axes>"
      ]
     },
     "metadata": {
      "needs_background": "light"
     },
     "output_type": "display_data"
    }
   ],
   "source": [
    "for unit in ('minute', 'gb', 'message'):\n",
    "    ax = axs[f'smart_{unit}s'].plot(\n",
    "                                    kind='hist',\n",
    "                                    y='value',\n",
    "                                    histtype='step',\n",
    "                                   #range=(0, 500),\n",
    "                                    bins=15,\n",
    "                                    linewidth=3,\n",
    "                                    alpha=0.7,\n",
    "                                    label=f'smart_{unit}s',\n",
    "                                    )\n",
    "    axs[f'ultra_{unit}s'].plot(\n",
    "                                    kind='hist',\n",
    "                                    y='value',\n",
    "                                    histtype='step',\n",
    "                                   #range=(0, 500),\n",
    "                                    bins=15,\n",
    "                                    linewidth=3,\n",
    "                                    alpha=0.7,\n",
    "                                    label=f'ultra_{unit}s',\n",
    "                                    ax=ax,\n",
    "                                    grid=True,\n",
    "                                    legend=True,\n",
    "                                    title=f'Гистограммы распределения количества израсходованных {unit}s'\n",
    "                                  )"
   ]
  },
  {
   "cell_type": "markdown",
   "metadata": {},
   "source": [
    "Оценим вероятность абонента превысить лимит по каждому виду услуги."
   ]
  },
  {
   "cell_type": "code",
   "execution_count": 15,
   "metadata": {},
   "outputs": [
    {
     "name": "stdout",
     "output_type": "stream",
     "text": [
      "Оценка вероятностей превысить лимит minutes:\n",
      "- тарифа smart: 34%\n",
      "- тарифа ultra: 0%\n",
      "Оценка вероятностей превысить лимит gbs:\n",
      "- тарифа smart: 59%\n",
      "- тарифа ultra: 14%\n",
      "Оценка вероятностей превысить лимит messages:\n",
      "- тарифа smart: 29%\n",
      "- тарифа ultra: 0%\n"
     ]
    }
   ],
   "source": [
    "for unit in ('minute', 'gb', 'message'):\n",
    "    print(f'Оценка вероятностей превысить лимит {unit}s:')\n",
    "    for tariff in ('smart', 'ultra'):\n",
    "        prob_lim = sum(axs[f'{tariff}_{unit}s']['value'] > tariffs.loc[tariff, f'{unit}s_included']) / sum(~axs[f'{tariff}_{unit}s']['value'].isna())\n",
    "        print(f'- тарифа {tariff}: {prob_lim:.0%}')\n",
    "# sum(axs['smart_minutes']['value'] != np.nan)\n",
    "# axs['smart_minutes'].info()\n",
    "# axs['smart_minutes']['value'].isna()"
   ]
  },
  {
   "cell_type": "markdown",
   "metadata": {},
   "source": [
    "Выводы.\n",
    "- Точечные оценки характеристик распределений для тарифа 'ultra' ожидаемо больше соответствующих показателей для тарифа 'smart'. Абоненты тарифа 'ultra' тратят больше минут, Гб и сообщений в среднем на 30, 21 и 58% соответственно. Несмотря на это, вероятности превысить лимиты абонентами тарифа 'ultra' значительно меньше из-за большого \"пакета\" минут, Гб и сообщений, предоставляемого в рамках тарифа.\n",
    "- Гистограммы распределения израсходованных минут и Гб напоминают нормальное распределение. Гистограммы отправленных сообщений (sms) по форме больше напоминают эспоненциальное распределение, а не нормальное, из-за явно выраженных \"хвостов\" справа. Правосторонняя ассиметрия распределения приводит к расхождению среднего и медианного значения. Для тарифа 'ultra' средее значение отправленных сообщений 61,2, а медианное только 51. "
   ]
  },
  {
   "cell_type": "markdown",
   "metadata": {},
   "source": [
    "## Проверка гипотез"
   ]
  },
  {
   "cell_type": "code",
   "execution_count": 16,
   "metadata": {},
   "outputs": [
    {
     "name": "stdout",
     "output_type": "stream",
     "text": [
      "Оценка средней выручки пользователей тарифа «Смарт»: 1296.37 руб.\n",
      "Оценка средней выручки пользователей тарифа «Ультра»: 2070.89 руб.\n",
      "\n",
      "Проверим гипотезу о равенстве средних двух генеральных совокупностей. \n",
      "Нулевая гипотеза: средняя выручка пользователей тарифов «Ультра» и «Смарт» одна и та же.\n",
      "Альтернативная гипотеза: средняя выручка пользователей тарифов «Ультра» и «Смарт» разная. \n",
      "\n",
      "p-значение: 2.89194250205224e-244 \n",
      "\n",
      "Вывод: отвергаем нулевую гипотезу. Полученное значение p-value указывает вероятность \n",
      "получить случайно полученную или бОльшую разницу в значениях средней выручки пользователей тарифов \n",
      "«Ультра» и «Смарт». Эта вероятность близка к нулю.\n"
     ]
    }
   ],
   "source": [
    "# Cредняя выручка пользователей тарифа «Смарт»\n",
    "proceeds_smart = (sum_costs.loc[sum_costs['tariff'] == 'smart', number_mounth]\n",
    "                            .melt()\n",
    "                            .dropna()\n",
    "                            .loc[:,'value']\n",
    "                  )\n",
    "\n",
    "# Cредняя выручка пользователей тарифа «Ультра»\n",
    "proceeds_ultra = (sum_costs.loc[sum_costs['tariff'] == 'ultra', number_mounth]\n",
    "                            .melt()\n",
    "                            .dropna()\n",
    "                            .loc[:,'value']\n",
    "                  )\n",
    "\n",
    "print('Оценка средней выручки пользователей тарифа «Смарт»:', proceeds_smart.agg({'value': 'mean'}).loc['value'].round(2), 'руб.')\n",
    "print('Оценка средней выручки пользователей тарифа «Ультра»:', proceeds_ultra.agg({'value': 'mean'}).loc['value'].round(2), 'руб.\\n')\n",
    "\n",
    "# Проверим гипотезу о равенстве средних двух генеральных совокупностей\n",
    "\n",
    "alpha = 0.05  # критический уровень статистической значимости\n",
    "\n",
    "results = st.ttest_ind(proceeds_smart, proceeds_ultra, equal_var=False)\n",
    "\n",
    "print('''Проверим гипотезу о равенстве средних двух генеральных совокупностей. \n",
    "Нулевая гипотеза: средняя выручка пользователей тарифов «Ультра» и «Смарт» одна и та же.\n",
    "Альтернативная гипотеза: средняя выручка пользователей тарифов «Ультра» и «Смарт» разная. \\n''')\n",
    "print('p-значение:', results.pvalue, '\\n')\n",
    "\n",
    "if results.pvalue < alpha:\n",
    "    print('''Вывод: отвергаем нулевую гипотезу. Полученное значение p-value указывает вероятность \n",
    "получить случайно полученную или бОльшую разницу в значениях средней выручки пользователей тарифов \n",
    "«Ультра» и «Смарт». Эта вероятность близка к нулю.''')\n",
    "\n",
    "else:\n",
    "    print('Вывод: не получилось отвергнуть нулевую гипотезу.')"
   ]
  },
  {
   "cell_type": "code",
   "execution_count": 17,
   "metadata": {},
   "outputs": [
    {
     "name": "stdout",
     "output_type": "stream",
     "text": [
      "Оценка средней выручки пользователей из Москвы: 1554.28 руб.\n",
      "Оценка средней выручки пользователей не из Москвы: 1529.69 руб.\n",
      "\n",
      "Проверим гипотезу о равенстве средних двух генеральных совокупностей. \n",
      "Нулевая гипотеза: средняя выручка пользователей из Москвы и других регионов одна и та же.\n",
      "Альтернативная гипотеза: средняя выручка пользователей из Москвы и других регионов разная. \n",
      "\n",
      "p-значение: 0.47486712986624957 \n",
      "\n",
      "Вывод: не получилось отвергнуть нулевую гипотезу.\n",
      "Полученное значение p-value говорит о том, что с вероятностью 47% текущее или бОльшее различие в\n",
      "средней выручке пользовтелей Москвы и других регионов можно получить случайно. Это слишком большая \n",
      "вероятность. Разница в средней выручке незначима.\n"
     ]
    }
   ],
   "source": [
    "# Cредняя выручка пользователей из Москвы\n",
    "proceeds_mosсow = (sum_costs.loc[sum_costs['city'] == 'Москва', number_mounth]\n",
    "                            .melt()\n",
    "                            .dropna()\n",
    "                            .loc[:,'value']\n",
    "                  )\n",
    "\n",
    "# Cредняя выручка пользователей не из Москвы\n",
    "proceeds_not_mosсow = (sum_costs.loc[sum_costs['city'] != 'Москва', number_mounth]\n",
    "                                .melt()\n",
    "                                .dropna()\n",
    "                                .loc[:,'value']\n",
    "                  )\n",
    "\n",
    "print('Оценка средней выручки пользователей из Москвы:', proceeds_mosсow.agg({'value': 'mean'}).loc['value'].round(2), 'руб.')\n",
    "print('Оценка средней выручки пользователей не из Москвы:', proceeds_not_mosсow.agg({'value': 'mean'}).loc['value'].round(2), 'руб.\\n')\n",
    "\n",
    "# Проверим гипотезу о равенстве средних двух генеральных совокупностей\n",
    "\n",
    "alpha = 0.05  # критический уровень статистической значимости\n",
    "\n",
    "results = st.ttest_ind(proceeds_mosсow, proceeds_not_mosсow, equal_var=False)\n",
    "\n",
    "print('''Проверим гипотезу о равенстве средних двух генеральных совокупностей. \n",
    "Нулевая гипотеза: средняя выручка пользователей из Москвы и других регионов одна и та же.\n",
    "Альтернативная гипотеза: средняя выручка пользователей из Москвы и других регионов разная. \\n''')\n",
    "print('p-значение:', results.pvalue, '\\n')\n",
    "\n",
    "if results.pvalue < alpha:\n",
    "    print('Вывод: отвергаем нулевую гипотезу.')\n",
    "else:\n",
    "    print('Вывод: не получилось отвергнуть нулевую гипотезу.')\n",
    "    print(f'''Полученное значение p-value говорит о том, что с вероятностью {results.pvalue:.0%} текущее или бОльшее различие в\n",
    "средней выручке пользовтелей Москвы и других регионов можно получить случайно. Это слишком большая \n",
    "вероятность. Разница в средней выручке незначима.''')"
   ]
  },
  {
   "cell_type": "markdown",
   "metadata": {},
   "source": [
    "## Общий вывод"
   ]
  },
  {
   "cell_type": "markdown",
   "metadata": {},
   "source": [
    "Оценки средней выручки для пользователей тарифов «Смарт» и «Ультра» равны 1296.37 и 2070.89 руб. соответственно.\n",
    "\n",
    "- Для телеком-компании «Мегалайн» выгоднее подключать клиентов к тарифу «Ультра».\n",
    "- Клиенту выгоднее подключаться к тарифу «Смарт». Вероятности превысить лимиты по количеству минут, Гб и сообщений приблизительно равны 34%, 59%, 29% соответственно. Несомтря на это, средние затраты на услуги меньше у пользователей тарифа «Смарт»."
   ]
  }
 ],
 "metadata": {
  "ExecuteTimeLog": [
   {
    "duration": 2277,
    "start_time": "2021-12-27T11:47:45.264Z"
   },
   {
    "duration": 252,
    "start_time": "2021-12-27T11:48:01.049Z"
   },
   {
    "duration": 590,
    "start_time": "2021-12-27T11:51:10.232Z"
   },
   {
    "duration": 549,
    "start_time": "2021-12-27T12:55:34.467Z"
   },
   {
    "duration": 544,
    "start_time": "2021-12-27T12:57:16.292Z"
   },
   {
    "duration": 520,
    "start_time": "2021-12-27T12:57:43.476Z"
   },
   {
    "duration": 525,
    "start_time": "2021-12-27T12:57:48.226Z"
   },
   {
    "duration": 522,
    "start_time": "2021-12-27T12:59:10.119Z"
   },
   {
    "duration": 642,
    "start_time": "2021-12-27T13:06:09.485Z"
   },
   {
    "duration": 1867,
    "start_time": "2021-12-27T15:44:42.677Z"
   },
   {
    "duration": 563,
    "start_time": "2021-12-27T15:48:11.681Z"
   },
   {
    "duration": 541,
    "start_time": "2021-12-27T15:54:01.445Z"
   },
   {
    "duration": 594,
    "start_time": "2021-12-27T15:54:31.172Z"
   },
   {
    "duration": 822,
    "start_time": "2021-12-27T15:54:55.308Z"
   },
   {
    "duration": 625,
    "start_time": "2021-12-27T15:57:21.189Z"
   },
   {
    "duration": 640,
    "start_time": "2021-12-27T15:58:03.341Z"
   },
   {
    "duration": 506,
    "start_time": "2021-12-27T16:00:08.802Z"
   },
   {
    "duration": 513,
    "start_time": "2021-12-27T16:05:34.355Z"
   },
   {
    "duration": 496,
    "start_time": "2021-12-27T16:06:50.068Z"
   },
   {
    "duration": 528,
    "start_time": "2021-12-27T16:07:01.460Z"
   },
   {
    "duration": 522,
    "start_time": "2021-12-27T16:07:15.865Z"
   },
   {
    "duration": 529,
    "start_time": "2021-12-27T16:08:17.838Z"
   },
   {
    "duration": 511,
    "start_time": "2021-12-27T16:11:38.722Z"
   },
   {
    "duration": 704,
    "start_time": "2021-12-27T16:12:04.728Z"
   },
   {
    "duration": 515,
    "start_time": "2021-12-27T16:19:08.510Z"
   },
   {
    "duration": 478,
    "start_time": "2021-12-27T16:19:20.515Z"
   },
   {
    "duration": 2225,
    "start_time": "2021-12-27T16:19:45.087Z"
   },
   {
    "duration": 631,
    "start_time": "2021-12-27T16:19:58.178Z"
   },
   {
    "duration": 500,
    "start_time": "2021-12-27T16:20:10.562Z"
   },
   {
    "duration": 538,
    "start_time": "2021-12-27T16:20:22.145Z"
   },
   {
    "duration": 498,
    "start_time": "2021-12-27T17:02:38.024Z"
   },
   {
    "duration": 478,
    "start_time": "2021-12-27T17:03:07.099Z"
   },
   {
    "duration": 293,
    "start_time": "2021-12-27T17:03:21.803Z"
   },
   {
    "duration": 6,
    "start_time": "2021-12-27T17:03:40.968Z"
   },
   {
    "duration": 6,
    "start_time": "2021-12-27T17:04:06.222Z"
   },
   {
    "duration": 5,
    "start_time": "2021-12-27T17:04:43.813Z"
   },
   {
    "duration": 10,
    "start_time": "2021-12-27T17:06:02.013Z"
   },
   {
    "duration": 20,
    "start_time": "2021-12-27T17:07:08.211Z"
   },
   {
    "duration": 21,
    "start_time": "2021-12-27T17:08:00.043Z"
   },
   {
    "duration": 27,
    "start_time": "2021-12-27T17:08:15.397Z"
   },
   {
    "duration": 3,
    "start_time": "2021-12-27T17:08:31.041Z"
   },
   {
    "duration": 528,
    "start_time": "2021-12-27T17:10:28.278Z"
   },
   {
    "duration": 41,
    "start_time": "2021-12-27T17:13:00.032Z"
   },
   {
    "duration": 14,
    "start_time": "2021-12-27T17:13:08.708Z"
   },
   {
    "duration": 505,
    "start_time": "2021-12-27T17:13:36.445Z"
   },
   {
    "duration": 546,
    "start_time": "2021-12-27T17:13:53.006Z"
   },
   {
    "duration": 576,
    "start_time": "2021-12-27T17:17:53.136Z"
   },
   {
    "duration": 500,
    "start_time": "2021-12-27T17:18:18.904Z"
   },
   {
    "duration": 522,
    "start_time": "2021-12-27T17:18:44.493Z"
   },
   {
    "duration": 532,
    "start_time": "2021-12-27T17:18:56.809Z"
   },
   {
    "duration": 373,
    "start_time": "2021-12-27T17:20:36.379Z"
   },
   {
    "duration": 7319,
    "start_time": "2021-12-27T17:20:55.219Z"
   },
   {
    "duration": 7455,
    "start_time": "2021-12-27T17:21:15.833Z"
   },
   {
    "duration": 16,
    "start_time": "2021-12-27T17:21:31.168Z"
   },
   {
    "duration": 371,
    "start_time": "2021-12-27T17:21:34.707Z"
   },
   {
    "duration": 36,
    "start_time": "2021-12-27T17:22:08.619Z"
   },
   {
    "duration": 7728,
    "start_time": "2021-12-27T17:22:14.527Z"
   },
   {
    "duration": 20,
    "start_time": "2021-12-27T17:23:04.605Z"
   },
   {
    "duration": 23,
    "start_time": "2021-12-27T17:23:07.932Z"
   },
   {
    "duration": 325,
    "start_time": "2021-12-27T17:23:40.831Z"
   },
   {
    "duration": 28,
    "start_time": "2021-12-27T17:23:56.077Z"
   },
   {
    "duration": 23,
    "start_time": "2021-12-27T17:29:15.662Z"
   },
   {
    "duration": 326,
    "start_time": "2021-12-27T17:29:37.348Z"
   },
   {
    "duration": 759,
    "start_time": "2021-12-27T17:30:56.095Z"
   },
   {
    "duration": 103,
    "start_time": "2021-12-27T17:31:04.081Z"
   },
   {
    "duration": 24,
    "start_time": "2021-12-27T17:31:18.936Z"
   },
   {
    "duration": 290,
    "start_time": "2021-12-27T17:34:25.983Z"
   },
   {
    "duration": 387,
    "start_time": "2021-12-27T17:35:28.211Z"
   },
   {
    "duration": 103,
    "start_time": "2021-12-27T17:43:15.506Z"
   },
   {
    "duration": 91,
    "start_time": "2021-12-27T17:43:39.537Z"
   },
   {
    "duration": 397,
    "start_time": "2021-12-27T17:45:40.810Z"
   },
   {
    "duration": 246,
    "start_time": "2021-12-27T17:56:57.964Z"
   },
   {
    "duration": 134,
    "start_time": "2021-12-27T17:57:09.934Z"
   },
   {
    "duration": 148,
    "start_time": "2021-12-27T17:57:31.907Z"
   },
   {
    "duration": 135,
    "start_time": "2021-12-27T17:58:53.331Z"
   },
   {
    "duration": 138,
    "start_time": "2021-12-27T17:58:57.812Z"
   },
   {
    "duration": 129,
    "start_time": "2021-12-27T17:59:28.756Z"
   },
   {
    "duration": 7,
    "start_time": "2021-12-27T18:03:07.796Z"
   },
   {
    "duration": 8,
    "start_time": "2021-12-27T18:03:20.447Z"
   },
   {
    "duration": 14,
    "start_time": "2021-12-27T18:03:24.427Z"
   },
   {
    "duration": 153,
    "start_time": "2021-12-27T18:03:52.487Z"
   },
   {
    "duration": 10,
    "start_time": "2021-12-27T18:05:20.777Z"
   },
   {
    "duration": 142,
    "start_time": "2021-12-27T18:06:27.859Z"
   },
   {
    "duration": 133,
    "start_time": "2021-12-27T18:09:23.018Z"
   },
   {
    "duration": 278,
    "start_time": "2021-12-27T18:12:21.204Z"
   },
   {
    "duration": 278,
    "start_time": "2021-12-27T18:16:21.046Z"
   },
   {
    "duration": 294,
    "start_time": "2021-12-27T18:17:01.525Z"
   },
   {
    "duration": 341,
    "start_time": "2021-12-27T18:17:16.621Z"
   },
   {
    "duration": 7,
    "start_time": "2021-12-27T18:17:32.462Z"
   },
   {
    "duration": 14,
    "start_time": "2021-12-27T18:18:07.398Z"
   },
   {
    "duration": 20,
    "start_time": "2021-12-27T18:18:11.025Z"
   },
   {
    "duration": 5,
    "start_time": "2021-12-27T18:18:26.087Z"
   },
   {
    "duration": 4,
    "start_time": "2021-12-27T18:19:00.837Z"
   },
   {
    "duration": 686,
    "start_time": "2021-12-27T18:21:27.037Z"
   },
   {
    "duration": 589,
    "start_time": "2021-12-27T18:21:46.994Z"
   },
   {
    "duration": 537,
    "start_time": "2021-12-27T18:22:34.627Z"
   },
   {
    "duration": 7,
    "start_time": "2021-12-27T18:27:27.003Z"
   },
   {
    "duration": 134,
    "start_time": "2021-12-27T18:31:08.640Z"
   },
   {
    "duration": 96,
    "start_time": "2021-12-27T18:32:03.943Z"
   },
   {
    "duration": 638,
    "start_time": "2021-12-27T19:53:49.410Z"
   },
   {
    "duration": 682,
    "start_time": "2021-12-27T19:54:09.354Z"
   },
   {
    "duration": 60,
    "start_time": "2021-12-27T19:54:45.500Z"
   },
   {
    "duration": 51,
    "start_time": "2021-12-27T19:57:01.749Z"
   },
   {
    "duration": 86,
    "start_time": "2021-12-27T19:59:13.134Z"
   },
   {
    "duration": 139,
    "start_time": "2021-12-27T20:01:24.217Z"
   },
   {
    "duration": 558,
    "start_time": "2021-12-27T20:01:50.804Z"
   },
   {
    "duration": 3,
    "start_time": "2021-12-27T20:01:51.365Z"
   },
   {
    "duration": 201,
    "start_time": "2021-12-27T20:01:51.371Z"
   },
   {
    "duration": 210,
    "start_time": "2021-12-27T20:01:51.575Z"
   },
   {
    "duration": 7,
    "start_time": "2021-12-27T20:01:51.787Z"
   },
   {
    "duration": 93,
    "start_time": "2021-12-27T20:01:51.798Z"
   },
   {
    "duration": 90,
    "start_time": "2021-12-27T20:01:51.894Z"
   },
   {
    "duration": 305,
    "start_time": "2021-12-27T20:05:18.578Z"
   },
   {
    "duration": 50,
    "start_time": "2021-12-27T20:06:33.007Z"
   },
   {
    "duration": 484,
    "start_time": "2021-12-27T20:08:22.590Z"
   },
   {
    "duration": 54,
    "start_time": "2021-12-27T20:08:39.664Z"
   },
   {
    "duration": 766,
    "start_time": "2021-12-27T20:09:41.100Z"
   },
   {
    "duration": 44,
    "start_time": "2021-12-27T20:10:04.781Z"
   },
   {
    "duration": 7,
    "start_time": "2021-12-27T20:11:42.469Z"
   },
   {
    "duration": 8,
    "start_time": "2021-12-27T20:11:47.901Z"
   },
   {
    "duration": 10,
    "start_time": "2021-12-27T20:11:54.744Z"
   },
   {
    "duration": 508,
    "start_time": "2021-12-27T20:13:14.517Z"
   },
   {
    "duration": 334,
    "start_time": "2021-12-27T20:19:41.556Z"
   },
   {
    "duration": 49,
    "start_time": "2021-12-27T20:20:02.261Z"
   },
   {
    "duration": 429,
    "start_time": "2021-12-27T20:20:14.628Z"
   },
   {
    "duration": 50,
    "start_time": "2021-12-27T20:20:29.677Z"
   },
   {
    "duration": 351,
    "start_time": "2021-12-27T20:21:00.017Z"
   },
   {
    "duration": 325,
    "start_time": "2021-12-27T20:21:03.570Z"
   },
   {
    "duration": 68,
    "start_time": "2021-12-27T20:21:18.976Z"
   },
   {
    "duration": 68,
    "start_time": "2021-12-27T20:21:27.517Z"
   },
   {
    "duration": 73,
    "start_time": "2021-12-27T20:22:59.920Z"
   },
   {
    "duration": 526,
    "start_time": "2021-12-27T20:26:15.630Z"
   },
   {
    "duration": 3,
    "start_time": "2021-12-27T20:26:16.158Z"
   },
   {
    "duration": 185,
    "start_time": "2021-12-27T20:26:16.164Z"
   },
   {
    "duration": 8,
    "start_time": "2021-12-27T20:26:16.352Z"
   },
   {
    "duration": 6,
    "start_time": "2021-12-27T20:26:16.363Z"
   },
   {
    "duration": 335,
    "start_time": "2021-12-27T20:26:16.371Z"
   },
   {
    "duration": -167,
    "start_time": "2021-12-27T20:26:16.876Z"
   },
   {
    "duration": -173,
    "start_time": "2021-12-27T20:26:16.884Z"
   },
   {
    "duration": 530,
    "start_time": "2021-12-27T20:26:50.654Z"
   },
   {
    "duration": 3,
    "start_time": "2021-12-27T20:26:51.187Z"
   },
   {
    "duration": 191,
    "start_time": "2021-12-27T20:26:51.193Z"
   },
   {
    "duration": 9,
    "start_time": "2021-12-27T20:26:51.387Z"
   },
   {
    "duration": 7,
    "start_time": "2021-12-27T20:26:51.399Z"
   },
   {
    "duration": 58,
    "start_time": "2021-12-27T20:26:51.426Z"
   },
   {
    "duration": 84,
    "start_time": "2021-12-27T20:26:51.486Z"
   },
   {
    "duration": 80,
    "start_time": "2021-12-27T20:26:51.574Z"
   },
   {
    "duration": 559,
    "start_time": "2021-12-27T20:38:27.346Z"
   },
   {
    "duration": 3,
    "start_time": "2021-12-27T20:38:27.908Z"
   },
   {
    "duration": 171,
    "start_time": "2021-12-27T20:38:27.915Z"
   },
   {
    "duration": 9,
    "start_time": "2021-12-27T20:38:28.089Z"
   },
   {
    "duration": 25,
    "start_time": "2021-12-27T20:38:28.100Z"
   },
   {
    "duration": 71,
    "start_time": "2021-12-27T20:38:28.128Z"
   },
   {
    "duration": 91,
    "start_time": "2021-12-27T20:38:28.202Z"
   },
   {
    "duration": 78,
    "start_time": "2021-12-27T20:38:28.297Z"
   },
   {
    "duration": 37,
    "start_time": "2021-12-27T20:40:13.486Z"
   },
   {
    "duration": 75,
    "start_time": "2021-12-27T20:40:51.780Z"
   },
   {
    "duration": 37,
    "start_time": "2021-12-27T20:41:05.584Z"
   },
   {
    "duration": 48,
    "start_time": "2021-12-27T20:41:29.459Z"
   },
   {
    "duration": 93,
    "start_time": "2021-12-27T20:42:23.340Z"
   },
   {
    "duration": 16,
    "start_time": "2021-12-27T20:42:39.133Z"
   },
   {
    "duration": 69,
    "start_time": "2021-12-27T20:42:51.132Z"
   },
   {
    "duration": 63,
    "start_time": "2021-12-27T20:44:52.647Z"
   },
   {
    "duration": 45,
    "start_time": "2021-12-27T20:45:14.836Z"
   },
   {
    "duration": 293,
    "start_time": "2021-12-27T20:49:22.790Z"
   },
   {
    "duration": 769,
    "start_time": "2021-12-27T20:49:54.578Z"
   },
   {
    "duration": 44,
    "start_time": "2021-12-27T20:50:10.376Z"
   },
   {
    "duration": 299,
    "start_time": "2021-12-27T20:51:24.716Z"
   },
   {
    "duration": 49,
    "start_time": "2021-12-27T21:07:44.385Z"
   },
   {
    "duration": 292,
    "start_time": "2021-12-27T21:08:30.548Z"
   },
   {
    "duration": 34,
    "start_time": "2021-12-27T21:08:59.477Z"
   },
   {
    "duration": 36,
    "start_time": "2021-12-27T21:10:15.289Z"
   },
   {
    "duration": 35,
    "start_time": "2021-12-27T21:11:00.332Z"
   },
   {
    "duration": 31,
    "start_time": "2021-12-27T21:11:10.661Z"
   },
   {
    "duration": 101,
    "start_time": "2021-12-27T21:11:19.130Z"
   },
   {
    "duration": 37,
    "start_time": "2021-12-27T21:11:23.478Z"
   },
   {
    "duration": 372,
    "start_time": "2021-12-27T21:11:59.398Z"
   },
   {
    "duration": 29,
    "start_time": "2021-12-27T21:14:18.588Z"
   },
   {
    "duration": -192,
    "start_time": "2021-12-27T21:14:36.467Z"
   },
   {
    "duration": 282,
    "start_time": "2021-12-27T21:14:47.586Z"
   },
   {
    "duration": 31,
    "start_time": "2021-12-27T21:14:56.340Z"
   },
   {
    "duration": 5807,
    "start_time": "2021-12-27T21:15:13.268Z"
   },
   {
    "duration": 5512,
    "start_time": "2021-12-27T21:15:22.158Z"
   },
   {
    "duration": 302,
    "start_time": "2021-12-27T21:17:20.069Z"
   },
   {
    "duration": 40,
    "start_time": "2021-12-27T21:17:32.519Z"
   },
   {
    "duration": 5321,
    "start_time": "2021-12-27T21:18:09.541Z"
   },
   {
    "duration": 6175,
    "start_time": "2021-12-27T21:18:23.068Z"
   },
   {
    "duration": 14,
    "start_time": "2021-12-27T21:19:41.063Z"
   },
   {
    "duration": 5036,
    "start_time": "2021-12-27T21:20:19.112Z"
   },
   {
    "duration": 32,
    "start_time": "2021-12-27T21:24:37.826Z"
   },
   {
    "duration": 34,
    "start_time": "2021-12-27T21:24:48.974Z"
   },
   {
    "duration": 95,
    "start_time": "2021-12-27T21:25:55.503Z"
   },
   {
    "duration": 29,
    "start_time": "2021-12-27T21:26:03.516Z"
   },
   {
    "duration": 29,
    "start_time": "2021-12-27T21:27:17.389Z"
   },
   {
    "duration": 52,
    "start_time": "2021-12-27T21:28:55.027Z"
   },
   {
    "duration": 55,
    "start_time": "2021-12-27T21:31:26.595Z"
   },
   {
    "duration": 54,
    "start_time": "2021-12-27T21:32:00.266Z"
   },
   {
    "duration": 53,
    "start_time": "2021-12-27T21:32:06.000Z"
   },
   {
    "duration": 32,
    "start_time": "2021-12-27T21:32:09.274Z"
   },
   {
    "duration": 32,
    "start_time": "2021-12-27T21:32:29.177Z"
   },
   {
    "duration": 32,
    "start_time": "2021-12-27T21:32:49.524Z"
   },
   {
    "duration": 42,
    "start_time": "2021-12-27T21:33:25.991Z"
   },
   {
    "duration": 52,
    "start_time": "2021-12-27T21:33:40.199Z"
   },
   {
    "duration": 38,
    "start_time": "2021-12-27T21:34:07.251Z"
   },
   {
    "duration": 35,
    "start_time": "2021-12-27T21:38:36.364Z"
   },
   {
    "duration": 27,
    "start_time": "2021-12-27T21:44:40.140Z"
   },
   {
    "duration": 48,
    "start_time": "2021-12-27T21:44:50.749Z"
   },
   {
    "duration": 50,
    "start_time": "2021-12-27T21:45:11.202Z"
   },
   {
    "duration": 51,
    "start_time": "2021-12-27T21:46:14.728Z"
   },
   {
    "duration": 62,
    "start_time": "2021-12-27T21:46:41.568Z"
   },
   {
    "duration": 72,
    "start_time": "2021-12-27T21:49:00.548Z"
   },
   {
    "duration": 70,
    "start_time": "2021-12-27T21:49:17.534Z"
   },
   {
    "duration": 64,
    "start_time": "2021-12-27T21:57:57.928Z"
   },
   {
    "duration": 696,
    "start_time": "2021-12-27T21:58:37.407Z"
   },
   {
    "duration": 3,
    "start_time": "2021-12-27T21:58:38.106Z"
   },
   {
    "duration": 181,
    "start_time": "2021-12-27T21:58:38.112Z"
   },
   {
    "duration": 10,
    "start_time": "2021-12-27T21:58:38.296Z"
   },
   {
    "duration": 35,
    "start_time": "2021-12-27T21:58:38.309Z"
   },
   {
    "duration": 80,
    "start_time": "2021-12-27T21:58:38.346Z"
   },
   {
    "duration": 94,
    "start_time": "2021-12-27T21:58:38.430Z"
   },
   {
    "duration": 77,
    "start_time": "2021-12-27T21:58:38.529Z"
   },
   {
    "duration": 71,
    "start_time": "2021-12-27T21:58:38.624Z"
   },
   {
    "duration": 47,
    "start_time": "2021-12-27T22:01:03.025Z"
   },
   {
    "duration": 70,
    "start_time": "2021-12-27T22:07:28.616Z"
   },
   {
    "duration": 316,
    "start_time": "2021-12-28T16:47:07.645Z"
   },
   {
    "duration": 2368,
    "start_time": "2021-12-28T16:47:40.244Z"
   },
   {
    "duration": 2,
    "start_time": "2021-12-28T16:47:42.615Z"
   },
   {
    "duration": 231,
    "start_time": "2021-12-28T16:47:42.620Z"
   },
   {
    "duration": 20,
    "start_time": "2021-12-28T16:47:42.854Z"
   },
   {
    "duration": 13,
    "start_time": "2021-12-28T16:47:42.877Z"
   },
   {
    "duration": 106,
    "start_time": "2021-12-28T16:47:42.892Z"
   },
   {
    "duration": 89,
    "start_time": "2021-12-28T16:47:43.000Z"
   },
   {
    "duration": 76,
    "start_time": "2021-12-28T16:47:43.092Z"
   },
   {
    "duration": 52,
    "start_time": "2021-12-28T16:47:43.171Z"
   },
   {
    "duration": 2235,
    "start_time": "2021-12-28T16:47:48.264Z"
   },
   {
    "duration": 45,
    "start_time": "2021-12-28T16:48:25.103Z"
   },
   {
    "duration": 32,
    "start_time": "2021-12-28T16:48:34.645Z"
   },
   {
    "duration": 35,
    "start_time": "2021-12-28T16:52:56.854Z"
   },
   {
    "duration": 101,
    "start_time": "2021-12-28T16:53:15.988Z"
   },
   {
    "duration": 322,
    "start_time": "2021-12-28T16:53:47.423Z"
   },
   {
    "duration": 326,
    "start_time": "2021-12-28T16:53:53.701Z"
   },
   {
    "duration": 7193,
    "start_time": "2021-12-28T16:54:15.184Z"
   },
   {
    "duration": 2139,
    "start_time": "2021-12-28T16:54:45.078Z"
   },
   {
    "duration": 1965,
    "start_time": "2021-12-28T16:55:02.745Z"
   },
   {
    "duration": 32,
    "start_time": "2021-12-28T16:56:16.706Z"
   },
   {
    "duration": 7182,
    "start_time": "2021-12-28T16:56:28.929Z"
   },
   {
    "duration": 42,
    "start_time": "2021-12-28T16:56:43.103Z"
   },
   {
    "duration": 15,
    "start_time": "2021-12-28T16:56:59.657Z"
   },
   {
    "duration": 16,
    "start_time": "2021-12-28T16:57:05.315Z"
   },
   {
    "duration": 48,
    "start_time": "2021-12-28T16:57:22.733Z"
   },
   {
    "duration": 10,
    "start_time": "2021-12-28T16:57:44.344Z"
   },
   {
    "duration": 24,
    "start_time": "2021-12-28T16:59:03.138Z"
   },
   {
    "duration": 87,
    "start_time": "2021-12-28T16:59:09.063Z"
   },
   {
    "duration": 292,
    "start_time": "2021-12-28T17:01:15.178Z"
   },
   {
    "duration": 25,
    "start_time": "2021-12-28T17:01:22.475Z"
   },
   {
    "duration": 47,
    "start_time": "2021-12-28T17:02:17.458Z"
   },
   {
    "duration": 48,
    "start_time": "2021-12-28T17:02:34.158Z"
   },
   {
    "duration": 31,
    "start_time": "2021-12-28T17:03:38.556Z"
   },
   {
    "duration": 91,
    "start_time": "2021-12-28T17:07:41.607Z"
   },
   {
    "duration": 27,
    "start_time": "2021-12-28T17:07:52.106Z"
   },
   {
    "duration": 39,
    "start_time": "2021-12-28T17:08:32.912Z"
   },
   {
    "duration": 58,
    "start_time": "2021-12-28T17:09:13.552Z"
   },
   {
    "duration": 135,
    "start_time": "2021-12-28T17:16:25.267Z"
   },
   {
    "duration": 275,
    "start_time": "2021-12-28T17:16:42.918Z"
   },
   {
    "duration": 319,
    "start_time": "2021-12-28T17:18:36.234Z"
   },
   {
    "duration": 299,
    "start_time": "2021-12-28T17:18:43.889Z"
   },
   {
    "duration": 121,
    "start_time": "2021-12-28T17:19:00.219Z"
   },
   {
    "duration": 23,
    "start_time": "2021-12-28T17:19:23.685Z"
   },
   {
    "duration": 39,
    "start_time": "2021-12-28T17:19:31.636Z"
   },
   {
    "duration": 1950,
    "start_time": "2021-12-28T17:20:53.603Z"
   },
   {
    "duration": 58,
    "start_time": "2021-12-28T17:21:12.888Z"
   },
   {
    "duration": 48,
    "start_time": "2021-12-28T17:22:10.722Z"
   },
   {
    "duration": 295,
    "start_time": "2021-12-28T17:23:56.870Z"
   },
   {
    "duration": 48,
    "start_time": "2021-12-28T17:24:33.775Z"
   },
   {
    "duration": 52,
    "start_time": "2021-12-28T17:24:58.696Z"
   },
   {
    "duration": 95,
    "start_time": "2021-12-28T17:27:53.807Z"
   },
   {
    "duration": 110,
    "start_time": "2021-12-28T17:28:04.770Z"
   },
   {
    "duration": 87,
    "start_time": "2021-12-28T17:28:24.775Z"
   },
   {
    "duration": 93,
    "start_time": "2021-12-28T17:28:35.962Z"
   },
   {
    "duration": 87,
    "start_time": "2021-12-28T17:28:51.348Z"
   },
   {
    "duration": 83,
    "start_time": "2021-12-28T17:28:55.706Z"
   },
   {
    "duration": 26,
    "start_time": "2021-12-28T17:29:58.151Z"
   },
   {
    "duration": 26,
    "start_time": "2021-12-28T17:30:05.599Z"
   },
   {
    "duration": 96,
    "start_time": "2021-12-28T17:30:08.737Z"
   },
   {
    "duration": 49,
    "start_time": "2021-12-28T17:30:10.744Z"
   },
   {
    "duration": 65,
    "start_time": "2021-12-28T17:30:29.885Z"
   },
   {
    "duration": 83,
    "start_time": "2021-12-28T17:31:49.787Z"
   },
   {
    "duration": 60,
    "start_time": "2021-12-28T17:32:09.633Z"
   },
   {
    "duration": 104,
    "start_time": "2021-12-28T17:39:12.908Z"
   },
   {
    "duration": 94,
    "start_time": "2021-12-28T17:39:23.400Z"
   },
   {
    "duration": 98,
    "start_time": "2021-12-28T17:39:33.555Z"
   },
   {
    "duration": 94,
    "start_time": "2021-12-28T17:39:52.903Z"
   },
   {
    "duration": 96,
    "start_time": "2021-12-28T17:40:03.502Z"
   },
   {
    "duration": 12,
    "start_time": "2021-12-28T17:40:19.212Z"
   },
   {
    "duration": 49,
    "start_time": "2021-12-28T17:40:23.513Z"
   },
   {
    "duration": 54,
    "start_time": "2021-12-28T17:40:45.922Z"
   },
   {
    "duration": 48,
    "start_time": "2021-12-28T17:41:45.161Z"
   },
   {
    "duration": 48,
    "start_time": "2021-12-28T17:42:43.658Z"
   },
   {
    "duration": 53,
    "start_time": "2021-12-28T17:46:07.563Z"
   },
   {
    "duration": 50,
    "start_time": "2021-12-28T17:46:20.238Z"
   },
   {
    "duration": 308,
    "start_time": "2021-12-28T17:48:03.377Z"
   },
   {
    "duration": 393,
    "start_time": "2021-12-28T17:48:25.504Z"
   },
   {
    "duration": 317,
    "start_time": "2021-12-28T17:48:50.143Z"
   },
   {
    "duration": 59,
    "start_time": "2021-12-28T17:54:22.139Z"
   },
   {
    "duration": 433,
    "start_time": "2021-12-28T17:58:23.756Z"
   },
   {
    "duration": 335,
    "start_time": "2021-12-28T17:58:39.964Z"
   },
   {
    "duration": 62,
    "start_time": "2021-12-28T18:01:52.148Z"
   },
   {
    "duration": 83,
    "start_time": "2021-12-28T18:02:24.642Z"
   },
   {
    "duration": 80,
    "start_time": "2021-12-28T18:02:39.732Z"
   },
   {
    "duration": 58,
    "start_time": "2021-12-28T18:03:10.300Z"
   },
   {
    "duration": 41,
    "start_time": "2021-12-28T18:06:07.207Z"
   },
   {
    "duration": 7274,
    "start_time": "2021-12-28T18:06:13.110Z"
   },
   {
    "duration": 7614,
    "start_time": "2021-12-28T18:06:26.007Z"
   },
   {
    "duration": 7498,
    "start_time": "2021-12-28T18:06:51.695Z"
   },
   {
    "duration": 566,
    "start_time": "2021-12-28T18:07:50.941Z"
   },
   {
    "duration": 3,
    "start_time": "2021-12-28T18:07:51.510Z"
   },
   {
    "duration": 208,
    "start_time": "2021-12-28T18:07:51.516Z"
   },
   {
    "duration": 9,
    "start_time": "2021-12-28T18:07:51.727Z"
   },
   {
    "duration": 28,
    "start_time": "2021-12-28T18:07:51.739Z"
   },
   {
    "duration": 54,
    "start_time": "2021-12-28T18:07:51.770Z"
   },
   {
    "duration": 88,
    "start_time": "2021-12-28T18:07:51.827Z"
   },
   {
    "duration": 82,
    "start_time": "2021-12-28T18:07:51.919Z"
   },
   {
    "duration": 69,
    "start_time": "2021-12-28T18:07:52.003Z"
   },
   {
    "duration": 61,
    "start_time": "2021-12-28T18:07:52.075Z"
   },
   {
    "duration": 76,
    "start_time": "2021-12-28T18:08:38.792Z"
   },
   {
    "duration": 71,
    "start_time": "2021-12-28T18:09:36.430Z"
   },
   {
    "duration": 76,
    "start_time": "2021-12-28T18:09:55.384Z"
   },
   {
    "duration": 72,
    "start_time": "2021-12-28T18:10:34.839Z"
   },
   {
    "duration": 65,
    "start_time": "2021-12-28T18:10:52.198Z"
   },
   {
    "duration": 83,
    "start_time": "2021-12-28T18:11:35.032Z"
   },
   {
    "duration": 73,
    "start_time": "2021-12-28T18:11:54.220Z"
   },
   {
    "duration": 116,
    "start_time": "2021-12-28T18:12:24.750Z"
   },
   {
    "duration": 72,
    "start_time": "2021-12-28T18:12:53.930Z"
   },
   {
    "duration": 54,
    "start_time": "2021-12-28T18:13:24.763Z"
   },
   {
    "duration": 91,
    "start_time": "2021-12-28T18:14:00.856Z"
   },
   {
    "duration": 82,
    "start_time": "2021-12-28T18:14:22.722Z"
   },
   {
    "duration": 7892,
    "start_time": "2021-12-28T18:22:44.820Z"
   },
   {
    "duration": 7000,
    "start_time": "2021-12-28T18:23:10.306Z"
   },
   {
    "duration": 7240,
    "start_time": "2021-12-28T18:23:21.739Z"
   },
   {
    "duration": 39,
    "start_time": "2021-12-28T18:24:01.773Z"
   },
   {
    "duration": 36,
    "start_time": "2021-12-28T18:24:19.914Z"
   },
   {
    "duration": 39,
    "start_time": "2021-12-28T18:24:28.693Z"
   },
   {
    "duration": 40,
    "start_time": "2021-12-28T18:24:39.829Z"
   },
   {
    "duration": 70,
    "start_time": "2021-12-28T18:25:08.620Z"
   },
   {
    "duration": 6,
    "start_time": "2021-12-28T18:29:31.485Z"
   },
   {
    "duration": 54,
    "start_time": "2021-12-28T18:29:49.589Z"
   },
   {
    "duration": 35,
    "start_time": "2021-12-28T18:29:57.735Z"
   },
   {
    "duration": 49,
    "start_time": "2021-12-28T18:30:04.308Z"
   },
   {
    "duration": 315,
    "start_time": "2021-12-28T18:31:46.659Z"
   },
   {
    "duration": 60,
    "start_time": "2021-12-28T18:32:07.004Z"
   },
   {
    "duration": 60,
    "start_time": "2021-12-28T18:32:31.526Z"
   },
   {
    "duration": 598,
    "start_time": "2021-12-28T18:32:54.108Z"
   },
   {
    "duration": 4,
    "start_time": "2021-12-28T18:32:54.709Z"
   },
   {
    "duration": 207,
    "start_time": "2021-12-28T18:32:54.716Z"
   },
   {
    "duration": 7,
    "start_time": "2021-12-28T18:32:54.925Z"
   },
   {
    "duration": 33,
    "start_time": "2021-12-28T18:32:54.934Z"
   },
   {
    "duration": 58,
    "start_time": "2021-12-28T18:32:54.969Z"
   },
   {
    "duration": 584,
    "start_time": "2021-12-28T18:33:53.360Z"
   },
   {
    "duration": 3,
    "start_time": "2021-12-28T18:33:53.947Z"
   },
   {
    "duration": 184,
    "start_time": "2021-12-28T18:33:53.953Z"
   },
   {
    "duration": 6,
    "start_time": "2021-12-28T18:33:54.139Z"
   },
   {
    "duration": 20,
    "start_time": "2021-12-28T18:33:54.148Z"
   },
   {
    "duration": 53,
    "start_time": "2021-12-28T18:33:54.170Z"
   },
   {
    "duration": 52,
    "start_time": "2021-12-28T18:34:41.967Z"
   },
   {
    "duration": 67,
    "start_time": "2021-12-28T18:35:23.433Z"
   },
   {
    "duration": 61,
    "start_time": "2021-12-28T18:35:29.862Z"
   },
   {
    "duration": 1144,
    "start_time": "2021-12-28T18:42:41.949Z"
   },
   {
    "duration": 56,
    "start_time": "2021-12-28T18:43:06.407Z"
   },
   {
    "duration": 64,
    "start_time": "2021-12-28T18:43:12.694Z"
   },
   {
    "duration": 73,
    "start_time": "2021-12-28T18:43:43.211Z"
   },
   {
    "duration": 68,
    "start_time": "2021-12-28T18:43:53.675Z"
   },
   {
    "duration": 67,
    "start_time": "2021-12-28T18:43:59.360Z"
   },
   {
    "duration": 73,
    "start_time": "2021-12-28T18:44:31.130Z"
   },
   {
    "duration": 74,
    "start_time": "2021-12-28T18:45:11.001Z"
   },
   {
    "duration": 68,
    "start_time": "2021-12-28T18:46:23.688Z"
   },
   {
    "duration": 345,
    "start_time": "2021-12-28T18:47:00.061Z"
   },
   {
    "duration": 67,
    "start_time": "2021-12-28T18:52:13.376Z"
   },
   {
    "duration": 51,
    "start_time": "2021-12-28T18:54:17.313Z"
   },
   {
    "duration": 76,
    "start_time": "2021-12-28T18:54:28.698Z"
   },
   {
    "duration": 60,
    "start_time": "2021-12-28T19:03:10.753Z"
   },
   {
    "duration": 60,
    "start_time": "2021-12-28T19:03:23.977Z"
   },
   {
    "duration": 71,
    "start_time": "2021-12-28T19:03:38.206Z"
   },
   {
    "duration": 60,
    "start_time": "2021-12-28T19:04:39.151Z"
   },
   {
    "duration": 192,
    "start_time": "2021-12-28T19:04:46.854Z"
   },
   {
    "duration": 61,
    "start_time": "2021-12-28T19:04:49.905Z"
   },
   {
    "duration": 7172,
    "start_time": "2021-12-28T19:07:55.731Z"
   },
   {
    "duration": 66,
    "start_time": "2021-12-28T19:08:11.772Z"
   },
   {
    "duration": 338,
    "start_time": "2021-12-28T19:18:08.410Z"
   },
   {
    "duration": 85,
    "start_time": "2021-12-28T19:21:40.727Z"
   },
   {
    "duration": 42,
    "start_time": "2021-12-28T19:23:22.077Z"
   },
   {
    "duration": 61,
    "start_time": "2021-12-28T19:23:37.440Z"
   },
   {
    "duration": 644,
    "start_time": "2021-12-28T19:35:14.166Z"
   },
   {
    "duration": 3,
    "start_time": "2021-12-28T19:35:14.813Z"
   },
   {
    "duration": 195,
    "start_time": "2021-12-28T19:35:14.819Z"
   },
   {
    "duration": 6,
    "start_time": "2021-12-28T19:35:15.017Z"
   },
   {
    "duration": 27,
    "start_time": "2021-12-28T19:35:15.025Z"
   },
   {
    "duration": 64,
    "start_time": "2021-12-28T19:35:15.054Z"
   },
   {
    "duration": 78,
    "start_time": "2021-12-28T19:35:15.120Z"
   },
   {
    "duration": 68,
    "start_time": "2021-12-28T19:35:15.201Z"
   },
   {
    "duration": 311,
    "start_time": "2021-12-28T19:35:15.271Z"
   },
   {
    "duration": 66,
    "start_time": "2021-12-28T19:35:54.676Z"
   },
   {
    "duration": 64,
    "start_time": "2021-12-28T19:36:01.654Z"
   },
   {
    "duration": 55,
    "start_time": "2021-12-28T19:36:14.696Z"
   },
   {
    "duration": 61,
    "start_time": "2021-12-28T19:36:24.149Z"
   },
   {
    "duration": 69,
    "start_time": "2021-12-28T19:38:17.764Z"
   },
   {
    "duration": 107,
    "start_time": "2021-12-28T19:40:13.899Z"
   },
   {
    "duration": 106,
    "start_time": "2021-12-28T19:40:32.419Z"
   },
   {
    "duration": 112,
    "start_time": "2021-12-28T19:41:07.194Z"
   },
   {
    "duration": 111,
    "start_time": "2021-12-28T19:41:20.488Z"
   },
   {
    "duration": 48,
    "start_time": "2021-12-28T19:41:36.891Z"
   },
   {
    "duration": 1211,
    "start_time": "2021-12-28T19:43:22.946Z"
   },
   {
    "duration": 410,
    "start_time": "2021-12-28T19:43:50.816Z"
   },
   {
    "duration": 106,
    "start_time": "2021-12-28T19:43:57.211Z"
   },
   {
    "duration": 108,
    "start_time": "2021-12-28T19:44:46.587Z"
   },
   {
    "duration": 122,
    "start_time": "2021-12-28T19:44:59.691Z"
   },
   {
    "duration": 120,
    "start_time": "2021-12-28T19:45:26.011Z"
   },
   {
    "duration": 132,
    "start_time": "2021-12-28T19:45:59.582Z"
   },
   {
    "duration": 118,
    "start_time": "2021-12-28T19:46:08.207Z"
   },
   {
    "duration": 112,
    "start_time": "2021-12-28T19:46:17.403Z"
   },
   {
    "duration": 133,
    "start_time": "2021-12-28T19:46:55.491Z"
   },
   {
    "duration": 64,
    "start_time": "2021-12-28T19:47:08.043Z"
   },
   {
    "duration": 222,
    "start_time": "2021-12-28T20:08:50.972Z"
   },
   {
    "duration": 501,
    "start_time": "2021-12-28T20:09:32.509Z"
   },
   {
    "duration": 247,
    "start_time": "2021-12-28T20:10:50.162Z"
   },
   {
    "duration": 7030,
    "start_time": "2021-12-28T20:17:41.097Z"
   },
   {
    "duration": 7248,
    "start_time": "2021-12-28T20:18:25.484Z"
   },
   {
    "duration": 6940,
    "start_time": "2021-12-28T20:18:58.271Z"
   },
   {
    "duration": 8809,
    "start_time": "2021-12-28T20:19:18.409Z"
   },
   {
    "duration": 6821,
    "start_time": "2021-12-28T20:19:34.678Z"
   },
   {
    "duration": 7677,
    "start_time": "2021-12-28T20:20:00.525Z"
   },
   {
    "duration": 4,
    "start_time": "2021-12-28T20:20:13.343Z"
   },
   {
    "duration": 7061,
    "start_time": "2021-12-28T20:20:24.467Z"
   },
   {
    "duration": 8,
    "start_time": "2021-12-28T20:20:51.907Z"
   },
   {
    "duration": 610,
    "start_time": "2021-12-28T20:21:11.028Z"
   },
   {
    "duration": 3,
    "start_time": "2021-12-28T20:21:11.642Z"
   },
   {
    "duration": 182,
    "start_time": "2021-12-28T20:21:11.649Z"
   },
   {
    "duration": 7,
    "start_time": "2021-12-28T20:21:11.835Z"
   },
   {
    "duration": 25,
    "start_time": "2021-12-28T20:21:11.845Z"
   },
   {
    "duration": 58,
    "start_time": "2021-12-28T20:21:11.873Z"
   },
   {
    "duration": 92,
    "start_time": "2021-12-28T20:21:11.934Z"
   },
   {
    "duration": 73,
    "start_time": "2021-12-28T20:21:12.029Z"
   },
   {
    "duration": 83,
    "start_time": "2021-12-28T20:21:12.104Z"
   },
   {
    "duration": 23,
    "start_time": "2021-12-28T20:21:12.190Z"
   },
   {
    "duration": 44,
    "start_time": "2021-12-28T20:21:17.289Z"
   },
   {
    "duration": 62,
    "start_time": "2021-12-28T20:21:27.780Z"
   },
   {
    "duration": 251,
    "start_time": "2021-12-28T20:31:03.798Z"
   },
   {
    "duration": 45,
    "start_time": "2021-12-28T20:32:10.359Z"
   },
   {
    "duration": 47,
    "start_time": "2021-12-28T20:33:37.204Z"
   },
   {
    "duration": 319,
    "start_time": "2021-12-28T20:34:29.254Z"
   },
   {
    "duration": 37,
    "start_time": "2021-12-28T20:34:39.371Z"
   },
   {
    "duration": 228,
    "start_time": "2021-12-28T20:34:59.678Z"
   },
   {
    "duration": 47,
    "start_time": "2021-12-28T20:37:37.816Z"
   },
   {
    "duration": 235,
    "start_time": "2021-12-28T20:40:21.125Z"
   },
   {
    "duration": 279,
    "start_time": "2021-12-28T20:44:29.654Z"
   },
   {
    "duration": 265,
    "start_time": "2021-12-28T20:46:09.995Z"
   },
   {
    "duration": 28,
    "start_time": "2021-12-28T20:46:26.806Z"
   },
   {
    "duration": 7034,
    "start_time": "2021-12-28T20:46:55.398Z"
   },
   {
    "duration": 225,
    "start_time": "2021-12-28T20:47:09.176Z"
   },
   {
    "duration": 246,
    "start_time": "2021-12-28T20:47:27.354Z"
   },
   {
    "duration": 500,
    "start_time": "2021-12-28T20:49:15.597Z"
   },
   {
    "duration": 109,
    "start_time": "2021-12-28T20:49:33.865Z"
   },
   {
    "duration": 111,
    "start_time": "2021-12-28T20:49:37.708Z"
   },
   {
    "duration": 233,
    "start_time": "2021-12-28T20:50:34.523Z"
   },
   {
    "duration": 228,
    "start_time": "2021-12-28T20:50:59.856Z"
   },
   {
    "duration": 218,
    "start_time": "2021-12-28T20:51:08.292Z"
   },
   {
    "duration": 248,
    "start_time": "2021-12-28T20:52:08.572Z"
   },
   {
    "duration": 509,
    "start_time": "2021-12-28T20:52:27.412Z"
   },
   {
    "duration": 262,
    "start_time": "2021-12-28T20:52:33.084Z"
   },
   {
    "duration": 268,
    "start_time": "2021-12-28T20:59:49.520Z"
   },
   {
    "duration": 275,
    "start_time": "2021-12-28T21:01:07.992Z"
   },
   {
    "duration": 280,
    "start_time": "2021-12-28T21:01:59.932Z"
   },
   {
    "duration": 308,
    "start_time": "2021-12-28T21:02:12.989Z"
   },
   {
    "duration": 293,
    "start_time": "2021-12-28T21:02:41.782Z"
   },
   {
    "duration": 282,
    "start_time": "2021-12-28T21:04:18.911Z"
   },
   {
    "duration": 300,
    "start_time": "2021-12-28T21:08:13.261Z"
   },
   {
    "duration": 44,
    "start_time": "2021-12-28T21:08:22.520Z"
   },
   {
    "duration": 3,
    "start_time": "2021-12-28T21:08:34.629Z"
   },
   {
    "duration": 695,
    "start_time": "2021-12-28T21:10:25.754Z"
   },
   {
    "duration": 285,
    "start_time": "2021-12-28T21:10:40.390Z"
   },
   {
    "duration": 560,
    "start_time": "2021-12-28T21:11:57.288Z"
   },
   {
    "duration": 3,
    "start_time": "2021-12-28T21:11:57.851Z"
   },
   {
    "duration": 168,
    "start_time": "2021-12-28T21:11:57.857Z"
   },
   {
    "duration": 6,
    "start_time": "2021-12-28T21:11:58.028Z"
   },
   {
    "duration": 13,
    "start_time": "2021-12-28T21:11:58.036Z"
   },
   {
    "duration": 73,
    "start_time": "2021-12-28T21:11:58.051Z"
   },
   {
    "duration": 82,
    "start_time": "2021-12-28T21:11:58.126Z"
   },
   {
    "duration": 67,
    "start_time": "2021-12-28T21:11:58.211Z"
   },
   {
    "duration": 47,
    "start_time": "2021-12-28T21:11:58.282Z"
   },
   {
    "duration": 4,
    "start_time": "2021-12-28T21:11:58.331Z"
   },
   {
    "duration": 286,
    "start_time": "2021-12-28T21:12:03.680Z"
   },
   {
    "duration": 583,
    "start_time": "2021-12-28T21:13:55.613Z"
   },
   {
    "duration": 287,
    "start_time": "2021-12-28T21:14:03.037Z"
   },
   {
    "duration": 494,
    "start_time": "2021-12-28T21:14:18.345Z"
   },
   {
    "duration": 297,
    "start_time": "2021-12-28T21:15:45.326Z"
   },
   {
    "duration": 48,
    "start_time": "2021-12-28T21:16:07.651Z"
   },
   {
    "duration": 277,
    "start_time": "2021-12-28T21:16:44.491Z"
   },
   {
    "duration": 240,
    "start_time": "2021-12-28T21:17:56.097Z"
   },
   {
    "duration": 576,
    "start_time": "2021-12-28T21:18:32.626Z"
   },
   {
    "duration": 4,
    "start_time": "2021-12-28T21:18:33.205Z"
   },
   {
    "duration": 197,
    "start_time": "2021-12-28T21:18:33.213Z"
   },
   {
    "duration": 7,
    "start_time": "2021-12-28T21:18:33.413Z"
   },
   {
    "duration": 9,
    "start_time": "2021-12-28T21:18:33.423Z"
   },
   {
    "duration": 86,
    "start_time": "2021-12-28T21:18:33.435Z"
   },
   {
    "duration": 85,
    "start_time": "2021-12-28T21:18:33.524Z"
   },
   {
    "duration": 74,
    "start_time": "2021-12-28T21:18:33.613Z"
   },
   {
    "duration": 49,
    "start_time": "2021-12-28T21:18:33.690Z"
   },
   {
    "duration": 272,
    "start_time": "2021-12-28T21:18:33.742Z"
   },
   {
    "duration": 1360,
    "start_time": "2021-12-28T21:26:21.366Z"
   },
   {
    "duration": 1394,
    "start_time": "2021-12-28T21:26:38.434Z"
   },
   {
    "duration": 1325,
    "start_time": "2021-12-28T21:27:46.543Z"
   },
   {
    "duration": 251,
    "start_time": "2021-12-28T21:29:32.298Z"
   },
   {
    "duration": 248,
    "start_time": "2021-12-28T21:31:01.097Z"
   },
   {
    "duration": 245,
    "start_time": "2021-12-28T21:44:07.495Z"
   },
   {
    "duration": 568,
    "start_time": "2021-12-28T23:48:45.774Z"
   },
   {
    "duration": 3,
    "start_time": "2021-12-28T23:48:46.345Z"
   },
   {
    "duration": 179,
    "start_time": "2021-12-28T23:48:46.351Z"
   },
   {
    "duration": 6,
    "start_time": "2021-12-28T23:48:46.534Z"
   },
   {
    "duration": 24,
    "start_time": "2021-12-28T23:48:46.544Z"
   },
   {
    "duration": 62,
    "start_time": "2021-12-28T23:48:46.571Z"
   },
   {
    "duration": 96,
    "start_time": "2021-12-28T23:48:46.635Z"
   },
   {
    "duration": 85,
    "start_time": "2021-12-28T23:48:46.734Z"
   },
   {
    "duration": 75,
    "start_time": "2021-12-28T23:48:46.822Z"
   },
   {
    "duration": 270,
    "start_time": "2021-12-28T23:48:46.901Z"
   },
   {
    "duration": 7643,
    "start_time": "2021-12-28T23:48:47.174Z"
   },
   {
    "duration": -527,
    "start_time": "2021-12-28T23:48:55.347Z"
   },
   {
    "duration": 1132,
    "start_time": "2021-12-28T23:49:25.515Z"
   },
   {
    "duration": 51,
    "start_time": "2021-12-28T23:50:41.131Z"
   },
   {
    "duration": 98,
    "start_time": "2021-12-28T23:51:18.617Z"
   },
   {
    "duration": 115,
    "start_time": "2021-12-28T23:51:34.319Z"
   },
   {
    "duration": 273,
    "start_time": "2021-12-28T23:51:53.477Z"
   },
   {
    "duration": 111,
    "start_time": "2021-12-28T23:52:00.895Z"
   },
   {
    "duration": 314,
    "start_time": "2021-12-28T23:53:48.544Z"
   },
   {
    "duration": 169,
    "start_time": "2021-12-28T23:53:57.672Z"
   },
   {
    "duration": 92,
    "start_time": "2021-12-28T23:55:07.239Z"
   },
   {
    "duration": 96,
    "start_time": "2021-12-28T23:55:25.781Z"
   },
   {
    "duration": 96,
    "start_time": "2021-12-28T23:55:35.527Z"
   },
   {
    "duration": 112,
    "start_time": "2021-12-28T23:55:41.583Z"
   },
   {
    "duration": 112,
    "start_time": "2021-12-28T23:57:26.081Z"
   },
   {
    "duration": 95,
    "start_time": "2021-12-28T23:57:33.440Z"
   },
   {
    "duration": 166,
    "start_time": "2021-12-28T23:57:56.319Z"
   },
   {
    "duration": 147,
    "start_time": "2021-12-28T23:58:03.949Z"
   },
   {
    "duration": 3617,
    "start_time": "2021-12-28T23:58:12.653Z"
   },
   {
    "duration": 1156,
    "start_time": "2021-12-28T23:58:24.027Z"
   },
   {
    "duration": 1116,
    "start_time": "2021-12-28T23:58:33.400Z"
   },
   {
    "duration": 1095,
    "start_time": "2021-12-28T23:58:45.321Z"
   },
   {
    "duration": 554,
    "start_time": "2021-12-28T23:59:02.624Z"
   },
   {
    "duration": 3,
    "start_time": "2021-12-28T23:59:03.182Z"
   },
   {
    "duration": 197,
    "start_time": "2021-12-28T23:59:03.190Z"
   },
   {
    "duration": 8,
    "start_time": "2021-12-28T23:59:03.390Z"
   },
   {
    "duration": 12,
    "start_time": "2021-12-28T23:59:03.401Z"
   },
   {
    "duration": 95,
    "start_time": "2021-12-28T23:59:03.416Z"
   },
   {
    "duration": 85,
    "start_time": "2021-12-28T23:59:03.514Z"
   },
   {
    "duration": 85,
    "start_time": "2021-12-28T23:59:03.604Z"
   },
   {
    "duration": 73,
    "start_time": "2021-12-28T23:59:03.693Z"
   },
   {
    "duration": 265,
    "start_time": "2021-12-28T23:59:03.770Z"
   },
   {
    "duration": 1218,
    "start_time": "2021-12-28T23:59:04.038Z"
   },
   {
    "duration": 122,
    "start_time": "2021-12-28T23:59:05.259Z"
   },
   {
    "duration": 126,
    "start_time": "2021-12-28T23:59:15.164Z"
   },
   {
    "duration": 352,
    "start_time": "2021-12-28T23:59:32.187Z"
   },
   {
    "duration": 416,
    "start_time": "2021-12-28T23:59:39.535Z"
   },
   {
    "duration": 143,
    "start_time": "2021-12-28T23:59:47.895Z"
   },
   {
    "duration": 135,
    "start_time": "2021-12-28T23:59:55.397Z"
   },
   {
    "duration": 2121,
    "start_time": "2021-12-29T12:33:44.250Z"
   },
   {
    "duration": 3,
    "start_time": "2021-12-29T12:33:46.374Z"
   },
   {
    "duration": 204,
    "start_time": "2021-12-29T12:33:46.381Z"
   },
   {
    "duration": 10,
    "start_time": "2021-12-29T12:33:46.588Z"
   },
   {
    "duration": 26,
    "start_time": "2021-12-29T12:33:46.601Z"
   },
   {
    "duration": 106,
    "start_time": "2021-12-29T12:33:46.630Z"
   },
   {
    "duration": 116,
    "start_time": "2021-12-29T12:33:46.739Z"
   },
   {
    "duration": 93,
    "start_time": "2021-12-29T12:33:46.859Z"
   },
   {
    "duration": 80,
    "start_time": "2021-12-29T12:33:46.955Z"
   },
   {
    "duration": 399,
    "start_time": "2021-12-29T12:33:47.038Z"
   },
   {
    "duration": -518,
    "start_time": "2021-12-29T12:33:47.957Z"
   },
   {
    "duration": -519,
    "start_time": "2021-12-29T12:33:47.960Z"
   },
   {
    "duration": 298,
    "start_time": "2021-12-29T12:34:47.642Z"
   },
   {
    "duration": 373,
    "start_time": "2021-12-29T12:37:23.010Z"
   },
   {
    "duration": 250,
    "start_time": "2021-12-29T12:37:29.654Z"
   },
   {
    "duration": 5536,
    "start_time": "2021-12-29T12:37:32.738Z"
   },
   {
    "duration": 174,
    "start_time": "2021-12-29T12:37:38.278Z"
   },
   {
    "duration": 2329,
    "start_time": "2021-12-29T12:38:45.248Z"
   },
   {
    "duration": 1417,
    "start_time": "2021-12-29T12:39:42.493Z"
   },
   {
    "duration": 591,
    "start_time": "2021-12-29T13:16:29.963Z"
   },
   {
    "duration": 3,
    "start_time": "2021-12-29T13:16:30.556Z"
   },
   {
    "duration": 212,
    "start_time": "2021-12-29T13:16:30.562Z"
   },
   {
    "duration": 6,
    "start_time": "2021-12-29T13:16:30.777Z"
   },
   {
    "duration": 34,
    "start_time": "2021-12-29T13:16:30.785Z"
   },
   {
    "duration": 67,
    "start_time": "2021-12-29T13:16:30.822Z"
   },
   {
    "duration": 82,
    "start_time": "2021-12-29T13:16:30.893Z"
   },
   {
    "duration": 91,
    "start_time": "2021-12-29T13:16:30.979Z"
   },
   {
    "duration": 65,
    "start_time": "2021-12-29T13:16:31.073Z"
   },
   {
    "duration": 308,
    "start_time": "2021-12-29T13:16:31.141Z"
   },
   {
    "duration": 1188,
    "start_time": "2021-12-29T13:16:31.453Z"
   },
   {
    "duration": 771,
    "start_time": "2021-12-29T13:20:02.858Z"
   },
   {
    "duration": 5,
    "start_time": "2021-12-29T13:20:03.632Z"
   },
   {
    "duration": 266,
    "start_time": "2021-12-29T13:20:03.641Z"
   },
   {
    "duration": 9,
    "start_time": "2021-12-29T13:20:03.911Z"
   },
   {
    "duration": 10,
    "start_time": "2021-12-29T13:20:03.923Z"
   },
   {
    "duration": 124,
    "start_time": "2021-12-29T13:20:03.936Z"
   },
   {
    "duration": 82,
    "start_time": "2021-12-29T13:20:04.063Z"
   },
   {
    "duration": 112,
    "start_time": "2021-12-29T13:20:04.149Z"
   },
   {
    "duration": 91,
    "start_time": "2021-12-29T13:20:04.265Z"
   },
   {
    "duration": 9248,
    "start_time": "2021-12-29T13:20:04.359Z"
   },
   {
    "duration": -554,
    "start_time": "2021-12-29T13:20:14.164Z"
   },
   {
    "duration": -570,
    "start_time": "2021-12-29T13:20:14.182Z"
   },
   {
    "duration": 579,
    "start_time": "2021-12-29T13:22:17.432Z"
   },
   {
    "duration": 4,
    "start_time": "2021-12-29T13:22:18.015Z"
   },
   {
    "duration": 184,
    "start_time": "2021-12-29T13:22:18.022Z"
   },
   {
    "duration": 10,
    "start_time": "2021-12-29T13:22:18.209Z"
   },
   {
    "duration": 8,
    "start_time": "2021-12-29T13:22:18.221Z"
   },
   {
    "duration": 87,
    "start_time": "2021-12-29T13:22:18.231Z"
   },
   {
    "duration": 71,
    "start_time": "2021-12-29T13:22:18.321Z"
   },
   {
    "duration": 74,
    "start_time": "2021-12-29T13:22:18.395Z"
   },
   {
    "duration": 75,
    "start_time": "2021-12-29T13:22:18.472Z"
   },
   {
    "duration": 277,
    "start_time": "2021-12-29T13:22:18.550Z"
   },
   {
    "duration": 1799,
    "start_time": "2021-12-29T13:22:18.830Z"
   },
   {
    "duration": 6030,
    "start_time": "2021-12-29T13:22:20.632Z"
   },
   {
    "duration": 234,
    "start_time": "2021-12-29T13:24:12.657Z"
   },
   {
    "duration": 281,
    "start_time": "2021-12-29T13:24:56.976Z"
   },
   {
    "duration": 710,
    "start_time": "2021-12-29T13:26:27.705Z"
   },
   {
    "duration": 3,
    "start_time": "2021-12-29T13:26:28.418Z"
   },
   {
    "duration": 189,
    "start_time": "2021-12-29T13:26:28.425Z"
   },
   {
    "duration": 6,
    "start_time": "2021-12-29T13:26:28.617Z"
   },
   {
    "duration": 10,
    "start_time": "2021-12-29T13:26:28.626Z"
   },
   {
    "duration": 64,
    "start_time": "2021-12-29T13:26:30.091Z"
   },
   {
    "duration": 77,
    "start_time": "2021-12-29T13:26:30.158Z"
   },
   {
    "duration": 56,
    "start_time": "2021-12-29T13:26:30.325Z"
   },
   {
    "duration": 60,
    "start_time": "2021-12-29T13:26:30.384Z"
   },
   {
    "duration": 250,
    "start_time": "2021-12-29T13:26:30.701Z"
   },
   {
    "duration": 1148,
    "start_time": "2021-12-29T13:26:33.212Z"
   },
   {
    "duration": 5632,
    "start_time": "2021-12-29T13:26:34.363Z"
   },
   {
    "duration": 531,
    "start_time": "2021-12-29T13:49:04.224Z"
   },
   {
    "duration": 92,
    "start_time": "2021-12-29T13:49:34.593Z"
   },
   {
    "duration": 1327,
    "start_time": "2021-12-29T15:22:19.091Z"
   },
   {
    "duration": 1084,
    "start_time": "2021-12-29T15:34:59.510Z"
   },
   {
    "duration": 569,
    "start_time": "2021-12-29T15:35:13.418Z"
   },
   {
    "duration": 3,
    "start_time": "2021-12-29T15:35:13.989Z"
   },
   {
    "duration": 170,
    "start_time": "2021-12-29T15:35:13.995Z"
   },
   {
    "duration": 6,
    "start_time": "2021-12-29T15:35:14.167Z"
   },
   {
    "duration": 8,
    "start_time": "2021-12-29T15:35:14.175Z"
   },
   {
    "duration": 83,
    "start_time": "2021-12-29T15:35:14.186Z"
   },
   {
    "duration": 84,
    "start_time": "2021-12-29T15:35:14.272Z"
   },
   {
    "duration": 77,
    "start_time": "2021-12-29T15:35:14.360Z"
   },
   {
    "duration": 44,
    "start_time": "2021-12-29T15:35:14.440Z"
   },
   {
    "duration": 272,
    "start_time": "2021-12-29T15:35:14.486Z"
   },
   {
    "duration": 1228,
    "start_time": "2021-12-29T15:35:14.760Z"
   },
   {
    "duration": 541,
    "start_time": "2021-12-29T15:39:19.539Z"
   },
   {
    "duration": 3,
    "start_time": "2021-12-29T15:39:20.082Z"
   },
   {
    "duration": 174,
    "start_time": "2021-12-29T15:39:20.088Z"
   },
   {
    "duration": 5,
    "start_time": "2021-12-29T15:39:20.264Z"
   },
   {
    "duration": 11,
    "start_time": "2021-12-29T15:39:20.272Z"
   },
   {
    "duration": 110,
    "start_time": "2021-12-29T15:39:20.285Z"
   },
   {
    "duration": 78,
    "start_time": "2021-12-29T15:39:20.397Z"
   },
   {
    "duration": 83,
    "start_time": "2021-12-29T15:39:20.478Z"
   },
   {
    "duration": 62,
    "start_time": "2021-12-29T15:39:20.563Z"
   },
   {
    "duration": 256,
    "start_time": "2021-12-29T15:39:20.628Z"
   },
   {
    "duration": 1938,
    "start_time": "2021-12-29T15:39:20.887Z"
   },
   {
    "duration": 107,
    "start_time": "2021-12-29T15:39:22.827Z"
   },
   {
    "duration": 316,
    "start_time": "2021-12-29T15:43:31.453Z"
   },
   {
    "duration": 297,
    "start_time": "2021-12-29T15:43:42.575Z"
   },
   {
    "duration": 30,
    "start_time": "2021-12-29T15:45:24.886Z"
   },
   {
    "duration": 325,
    "start_time": "2021-12-29T15:46:14.869Z"
   },
   {
    "duration": 1434,
    "start_time": "2021-12-29T17:27:29.272Z"
   },
   {
    "duration": 604,
    "start_time": "2021-12-29T17:32:42.252Z"
   },
   {
    "duration": 5,
    "start_time": "2021-12-29T17:32:42.861Z"
   },
   {
    "duration": 221,
    "start_time": "2021-12-29T17:32:42.871Z"
   },
   {
    "duration": 5,
    "start_time": "2021-12-29T17:32:43.095Z"
   },
   {
    "duration": 11,
    "start_time": "2021-12-29T17:32:43.103Z"
   },
   {
    "duration": 65,
    "start_time": "2021-12-29T17:32:43.118Z"
   },
   {
    "duration": 86,
    "start_time": "2021-12-29T17:32:43.185Z"
   },
   {
    "duration": 64,
    "start_time": "2021-12-29T17:32:43.274Z"
   },
   {
    "duration": 77,
    "start_time": "2021-12-29T17:32:43.341Z"
   },
   {
    "duration": 343,
    "start_time": "2021-12-29T17:32:43.421Z"
   },
   {
    "duration": 1206,
    "start_time": "2021-12-29T17:32:43.766Z"
   },
   {
    "duration": 131,
    "start_time": "2021-12-29T17:32:44.974Z"
   },
   {
    "duration": 9,
    "start_time": "2021-12-29T17:34:15.433Z"
   },
   {
    "duration": 13,
    "start_time": "2021-12-29T17:34:25.648Z"
   },
   {
    "duration": 6,
    "start_time": "2021-12-29T17:34:43.302Z"
   },
   {
    "duration": 17,
    "start_time": "2021-12-29T17:34:51.313Z"
   },
   {
    "duration": 52,
    "start_time": "2021-12-29T17:36:39.724Z"
   },
   {
    "duration": 598,
    "start_time": "2021-12-29T17:36:51.425Z"
   },
   {
    "duration": 4,
    "start_time": "2021-12-29T17:36:52.026Z"
   },
   {
    "duration": 186,
    "start_time": "2021-12-29T17:36:52.033Z"
   },
   {
    "duration": 15,
    "start_time": "2021-12-29T17:36:52.222Z"
   },
   {
    "duration": 6,
    "start_time": "2021-12-29T17:36:52.239Z"
   },
   {
    "duration": 79,
    "start_time": "2021-12-29T17:36:52.247Z"
   },
   {
    "duration": 66,
    "start_time": "2021-12-29T17:36:52.329Z"
   },
   {
    "duration": 80,
    "start_time": "2021-12-29T17:36:52.417Z"
   },
   {
    "duration": 59,
    "start_time": "2021-12-29T17:36:52.500Z"
   },
   {
    "duration": 259,
    "start_time": "2021-12-29T17:36:52.562Z"
   },
   {
    "duration": 1202,
    "start_time": "2021-12-29T17:36:52.824Z"
   },
   {
    "duration": 120,
    "start_time": "2021-12-29T17:36:54.029Z"
   },
   {
    "duration": 53,
    "start_time": "2021-12-29T17:40:28.262Z"
   },
   {
    "duration": 56,
    "start_time": "2021-12-29T17:41:25.455Z"
   },
   {
    "duration": 27,
    "start_time": "2021-12-29T17:42:05.612Z"
   },
   {
    "duration": 26,
    "start_time": "2021-12-29T17:42:52.339Z"
   },
   {
    "duration": 313,
    "start_time": "2021-12-29T17:44:58.252Z"
   },
   {
    "duration": 317,
    "start_time": "2021-12-29T17:45:37.925Z"
   },
   {
    "duration": 17,
    "start_time": "2021-12-29T17:45:48.496Z"
   },
   {
    "duration": 17,
    "start_time": "2021-12-29T17:45:58.100Z"
   },
   {
    "duration": 28,
    "start_time": "2021-12-29T17:53:18.198Z"
   },
   {
    "duration": 30,
    "start_time": "2021-12-29T17:53:51.515Z"
   },
   {
    "duration": 33,
    "start_time": "2021-12-29T17:54:52.004Z"
   },
   {
    "duration": 27,
    "start_time": "2021-12-29T17:57:35.645Z"
   },
   {
    "duration": 29,
    "start_time": "2021-12-29T17:59:09.049Z"
   },
   {
    "duration": 35,
    "start_time": "2021-12-29T17:59:16.593Z"
   },
   {
    "duration": 49,
    "start_time": "2021-12-29T18:26:13.974Z"
   },
   {
    "duration": 56,
    "start_time": "2021-12-29T18:27:02.233Z"
   },
   {
    "duration": 55,
    "start_time": "2021-12-29T18:27:23.566Z"
   },
   {
    "duration": 41,
    "start_time": "2021-12-29T18:28:15.856Z"
   },
   {
    "duration": 244,
    "start_time": "2021-12-29T18:28:26.555Z"
   },
   {
    "duration": 795,
    "start_time": "2021-12-29T18:28:38.496Z"
   },
   {
    "duration": 3,
    "start_time": "2021-12-29T18:28:39.294Z"
   },
   {
    "duration": 178,
    "start_time": "2021-12-29T18:28:39.300Z"
   },
   {
    "duration": 16,
    "start_time": "2021-12-29T18:28:39.481Z"
   },
   {
    "duration": 18,
    "start_time": "2021-12-29T18:28:39.499Z"
   },
   {
    "duration": 99,
    "start_time": "2021-12-29T18:28:39.520Z"
   },
   {
    "duration": 71,
    "start_time": "2021-12-29T18:28:39.622Z"
   },
   {
    "duration": 73,
    "start_time": "2021-12-29T18:28:39.697Z"
   },
   {
    "duration": 69,
    "start_time": "2021-12-29T18:28:39.773Z"
   },
   {
    "duration": 257,
    "start_time": "2021-12-29T18:28:39.846Z"
   },
   {
    "duration": 1269,
    "start_time": "2021-12-29T18:28:40.105Z"
   },
   {
    "duration": 105,
    "start_time": "2021-12-29T18:28:41.376Z"
   },
   {
    "duration": 62,
    "start_time": "2021-12-29T18:29:11.793Z"
   },
   {
    "duration": 35,
    "start_time": "2021-12-29T18:41:23.118Z"
   },
   {
    "duration": 26,
    "start_time": "2021-12-29T18:41:50.360Z"
   },
   {
    "duration": 32,
    "start_time": "2021-12-29T18:42:08.113Z"
   },
   {
    "duration": 303,
    "start_time": "2021-12-29T18:42:44.910Z"
   },
   {
    "duration": 291,
    "start_time": "2021-12-29T18:42:51.555Z"
   },
   {
    "duration": 315,
    "start_time": "2021-12-29T18:42:56.761Z"
   },
   {
    "duration": 31,
    "start_time": "2021-12-29T18:43:33.302Z"
   },
   {
    "duration": 61,
    "start_time": "2021-12-29T18:43:55.802Z"
   },
   {
    "duration": 32,
    "start_time": "2021-12-29T18:46:01.823Z"
   },
   {
    "duration": 295,
    "start_time": "2021-12-29T18:46:16.671Z"
   },
   {
    "duration": 39,
    "start_time": "2021-12-29T18:47:07.605Z"
   },
   {
    "duration": 272,
    "start_time": "2021-12-29T18:47:25.675Z"
   },
   {
    "duration": 31,
    "start_time": "2021-12-29T18:47:31.145Z"
   },
   {
    "duration": 28,
    "start_time": "2021-12-29T18:47:59.760Z"
   },
   {
    "duration": 240,
    "start_time": "2021-12-29T18:48:48.178Z"
   },
   {
    "duration": 41,
    "start_time": "2021-12-29T18:49:42.415Z"
   },
   {
    "duration": 1271,
    "start_time": "2021-12-29T18:49:56.845Z"
   },
   {
    "duration": 1156,
    "start_time": "2021-12-29T18:50:12.905Z"
   },
   {
    "duration": 231,
    "start_time": "2021-12-29T18:51:16.161Z"
   },
   {
    "duration": 1170,
    "start_time": "2021-12-29T18:51:23.703Z"
   },
   {
    "duration": 1387,
    "start_time": "2021-12-29T18:51:57.215Z"
   },
   {
    "duration": 1159,
    "start_time": "2021-12-29T18:52:15.959Z"
   },
   {
    "duration": 365,
    "start_time": "2021-12-29T18:54:24.925Z"
   },
   {
    "duration": 1935,
    "start_time": "2021-12-29T19:01:35.105Z"
   },
   {
    "duration": 1199,
    "start_time": "2021-12-29T19:01:46.497Z"
   },
   {
    "duration": 130,
    "start_time": "2021-12-29T19:03:29.747Z"
   },
   {
    "duration": 250,
    "start_time": "2021-12-29T19:03:56.435Z"
   },
   {
    "duration": 252,
    "start_time": "2021-12-29T19:04:35.812Z"
   },
   {
    "duration": 373,
    "start_time": "2021-12-29T19:04:59.856Z"
   },
   {
    "duration": 52,
    "start_time": "2021-12-29T20:11:06.574Z"
   },
   {
    "duration": 13,
    "start_time": "2021-12-29T20:12:10.753Z"
   },
   {
    "duration": 14,
    "start_time": "2021-12-29T20:13:29.550Z"
   },
   {
    "duration": 9,
    "start_time": "2021-12-29T20:14:07.128Z"
   },
   {
    "duration": 8,
    "start_time": "2021-12-29T20:14:31.579Z"
   },
   {
    "duration": 8,
    "start_time": "2021-12-29T20:14:31.681Z"
   },
   {
    "duration": 26,
    "start_time": "2021-12-29T20:14:35.139Z"
   },
   {
    "duration": 20,
    "start_time": "2021-12-29T20:14:51.715Z"
   },
   {
    "duration": 103,
    "start_time": "2021-12-29T20:16:01.097Z"
   },
   {
    "duration": 392,
    "start_time": "2021-12-29T20:16:28.941Z"
   },
   {
    "duration": 411,
    "start_time": "2021-12-29T20:16:52.675Z"
   },
   {
    "duration": 364,
    "start_time": "2021-12-29T20:17:49.338Z"
   },
   {
    "duration": 143,
    "start_time": "2021-12-29T20:18:15.163Z"
   },
   {
    "duration": 7,
    "start_time": "2021-12-29T20:19:24.046Z"
   },
   {
    "duration": 313,
    "start_time": "2021-12-29T20:19:32.698Z"
   },
   {
    "duration": 8,
    "start_time": "2021-12-29T20:22:22.893Z"
   },
   {
    "duration": 13,
    "start_time": "2021-12-29T20:22:26.722Z"
   },
   {
    "duration": -29,
    "start_time": "2021-12-29T20:23:55.768Z"
   },
   {
    "duration": 144,
    "start_time": "2021-12-29T20:27:49.979Z"
   },
   {
    "duration": 137,
    "start_time": "2021-12-29T20:29:18.661Z"
   },
   {
    "duration": 326,
    "start_time": "2021-12-29T20:30:44.440Z"
   },
   {
    "duration": 12,
    "start_time": "2021-12-29T20:31:35.646Z"
   },
   {
    "duration": 7,
    "start_time": "2021-12-29T20:33:27.642Z"
   },
   {
    "duration": 577,
    "start_time": "2021-12-29T20:34:18.780Z"
   },
   {
    "duration": 3,
    "start_time": "2021-12-29T20:34:19.359Z"
   },
   {
    "duration": 189,
    "start_time": "2021-12-29T20:34:19.365Z"
   },
   {
    "duration": 14,
    "start_time": "2021-12-29T20:34:19.557Z"
   },
   {
    "duration": 6,
    "start_time": "2021-12-29T20:34:19.574Z"
   },
   {
    "duration": 90,
    "start_time": "2021-12-29T20:34:19.582Z"
   },
   {
    "duration": 75,
    "start_time": "2021-12-29T20:34:19.674Z"
   },
   {
    "duration": 72,
    "start_time": "2021-12-29T20:34:19.752Z"
   },
   {
    "duration": 48,
    "start_time": "2021-12-29T20:34:19.827Z"
   },
   {
    "duration": 13,
    "start_time": "2021-12-29T20:34:19.878Z"
   },
   {
    "duration": 324,
    "start_time": "2021-12-29T20:36:09.464Z"
   },
   {
    "duration": 7741,
    "start_time": "2021-12-29T20:36:31.654Z"
   },
   {
    "duration": 700,
    "start_time": "2021-12-29T20:37:39.231Z"
   },
   {
    "duration": 4,
    "start_time": "2021-12-29T20:37:39.934Z"
   },
   {
    "duration": 247,
    "start_time": "2021-12-29T20:37:39.942Z"
   },
   {
    "duration": 33,
    "start_time": "2021-12-29T20:37:40.193Z"
   },
   {
    "duration": 7,
    "start_time": "2021-12-29T20:37:40.234Z"
   },
   {
    "duration": 60,
    "start_time": "2021-12-29T20:37:40.243Z"
   },
   {
    "duration": 63,
    "start_time": "2021-12-29T20:37:40.317Z"
   },
   {
    "duration": 78,
    "start_time": "2021-12-29T20:37:40.383Z"
   },
   {
    "duration": 54,
    "start_time": "2021-12-29T20:37:40.463Z"
   },
   {
    "duration": 17,
    "start_time": "2021-12-29T20:37:40.521Z"
   },
   {
    "duration": 8607,
    "start_time": "2021-12-29T20:37:44.050Z"
   },
   {
    "duration": 621,
    "start_time": "2021-12-29T20:43:08.139Z"
   },
   {
    "duration": 4,
    "start_time": "2021-12-29T20:43:08.763Z"
   },
   {
    "duration": 187,
    "start_time": "2021-12-29T20:43:08.770Z"
   },
   {
    "duration": 15,
    "start_time": "2021-12-29T20:43:08.961Z"
   },
   {
    "duration": 9,
    "start_time": "2021-12-29T20:43:08.979Z"
   },
   {
    "duration": 88,
    "start_time": "2021-12-29T20:43:08.991Z"
   },
   {
    "duration": 92,
    "start_time": "2021-12-29T20:43:09.081Z"
   },
   {
    "duration": 70,
    "start_time": "2021-12-29T20:43:09.176Z"
   },
   {
    "duration": 43,
    "start_time": "2021-12-29T20:43:09.249Z"
   },
   {
    "duration": 30,
    "start_time": "2021-12-29T20:43:09.294Z"
   },
   {
    "duration": 7220,
    "start_time": "2021-12-29T20:43:11.936Z"
   },
   {
    "duration": 7411,
    "start_time": "2021-12-29T20:43:37.338Z"
   },
   {
    "duration": 224,
    "start_time": "2021-12-29T20:44:25.528Z"
   },
   {
    "duration": 144,
    "start_time": "2021-12-29T20:44:55.908Z"
   },
   {
    "duration": 199,
    "start_time": "2021-12-29T20:45:05.110Z"
   },
   {
    "duration": 131,
    "start_time": "2021-12-29T20:45:14.384Z"
   },
   {
    "duration": 191,
    "start_time": "2021-12-29T20:45:18.521Z"
   },
   {
    "duration": 240,
    "start_time": "2021-12-29T20:45:28.020Z"
   },
   {
    "duration": 140,
    "start_time": "2021-12-29T20:46:46.839Z"
   },
   {
    "duration": 15,
    "start_time": "2021-12-29T20:51:30.661Z"
   },
   {
    "duration": 281,
    "start_time": "2021-12-29T20:52:09.958Z"
   },
   {
    "duration": 692,
    "start_time": "2021-12-29T20:53:25.669Z"
   },
   {
    "duration": 676,
    "start_time": "2021-12-29T20:53:47.265Z"
   },
   {
    "duration": 641,
    "start_time": "2021-12-29T20:54:01.295Z"
   },
   {
    "duration": 23,
    "start_time": "2021-12-29T20:54:03.820Z"
   },
   {
    "duration": 319,
    "start_time": "2021-12-29T20:54:08.635Z"
   },
   {
    "duration": 378,
    "start_time": "2021-12-29T20:54:26.502Z"
   },
   {
    "duration": 291,
    "start_time": "2021-12-29T20:54:54.685Z"
   },
   {
    "duration": 641,
    "start_time": "2021-12-29T20:55:04.407Z"
   },
   {
    "duration": 12,
    "start_time": "2021-12-29T20:55:09.847Z"
   },
   {
    "duration": 567,
    "start_time": "2021-12-29T20:55:48.244Z"
   },
   {
    "duration": 365,
    "start_time": "2021-12-29T20:55:55.714Z"
   },
   {
    "duration": 462,
    "start_time": "2021-12-29T20:56:12.956Z"
   },
   {
    "duration": 668,
    "start_time": "2021-12-29T20:56:30.248Z"
   },
   {
    "duration": 19,
    "start_time": "2021-12-29T20:56:32.853Z"
   },
   {
    "duration": 12,
    "start_time": "2021-12-29T20:56:43.102Z"
   },
   {
    "duration": 268,
    "start_time": "2021-12-29T20:56:46.632Z"
   },
   {
    "duration": 279,
    "start_time": "2021-12-29T20:56:54.060Z"
   },
   {
    "duration": 328,
    "start_time": "2021-12-29T20:57:25.167Z"
   },
   {
    "duration": 589,
    "start_time": "2021-12-29T20:57:34.863Z"
   },
   {
    "duration": 708,
    "start_time": "2021-12-29T20:57:39.321Z"
   },
   {
    "duration": 17,
    "start_time": "2021-12-29T20:57:41.895Z"
   },
   {
    "duration": 308,
    "start_time": "2021-12-29T20:57:52.906Z"
   },
   {
    "duration": 294,
    "start_time": "2021-12-29T20:57:55.464Z"
   },
   {
    "duration": 581,
    "start_time": "2021-12-29T20:58:13.386Z"
   },
   {
    "duration": 12,
    "start_time": "2021-12-29T20:58:29.097Z"
   },
   {
    "duration": 432,
    "start_time": "2021-12-29T20:59:48.631Z"
   },
   {
    "duration": 482,
    "start_time": "2021-12-29T20:59:52.325Z"
   },
   {
    "duration": 756,
    "start_time": "2021-12-29T21:00:31.287Z"
   },
   {
    "duration": 17,
    "start_time": "2021-12-29T21:00:36.114Z"
   },
   {
    "duration": 317,
    "start_time": "2021-12-29T21:01:09.368Z"
   },
   {
    "duration": 495,
    "start_time": "2021-12-29T21:01:34.095Z"
   },
   {
    "duration": 400,
    "start_time": "2021-12-29T21:01:52.021Z"
   },
   {
    "duration": 280,
    "start_time": "2021-12-29T21:02:00.098Z"
   },
   {
    "duration": 9,
    "start_time": "2021-12-29T21:03:30.709Z"
   },
   {
    "duration": 6,
    "start_time": "2021-12-29T21:03:53.489Z"
   },
   {
    "duration": 602,
    "start_time": "2021-12-29T21:05:02.645Z"
   },
   {
    "duration": 13,
    "start_time": "2021-12-29T21:05:03.250Z"
   },
   {
    "duration": 8,
    "start_time": "2021-12-29T21:05:03.266Z"
   },
   {
    "duration": 200,
    "start_time": "2021-12-29T21:05:03.277Z"
   },
   {
    "duration": 17,
    "start_time": "2021-12-29T21:05:03.479Z"
   },
   {
    "duration": 26,
    "start_time": "2021-12-29T21:05:03.498Z"
   },
   {
    "duration": 62,
    "start_time": "2021-12-29T21:05:03.526Z"
   },
   {
    "duration": 84,
    "start_time": "2021-12-29T21:05:03.591Z"
   },
   {
    "duration": 76,
    "start_time": "2021-12-29T21:05:03.679Z"
   },
   {
    "duration": 65,
    "start_time": "2021-12-29T21:05:03.758Z"
   },
   {
    "duration": 15,
    "start_time": "2021-12-29T21:05:03.828Z"
   },
   {
    "duration": 406,
    "start_time": "2021-12-29T21:05:06.301Z"
   },
   {
    "duration": 5,
    "start_time": "2021-12-29T21:05:47.110Z"
   },
   {
    "duration": 338,
    "start_time": "2021-12-29T21:06:09.733Z"
   },
   {
    "duration": 7,
    "start_time": "2021-12-29T21:07:27.401Z"
   },
   {
    "duration": 329,
    "start_time": "2021-12-29T21:08:23.671Z"
   },
   {
    "duration": 142,
    "start_time": "2021-12-29T21:09:04.440Z"
   },
   {
    "duration": 246,
    "start_time": "2021-12-29T21:09:17.502Z"
   },
   {
    "duration": 231,
    "start_time": "2021-12-29T21:10:15.100Z"
   },
   {
    "duration": 143,
    "start_time": "2021-12-29T21:10:27.404Z"
   },
   {
    "duration": 54,
    "start_time": "2021-12-29T21:11:33.333Z"
   },
   {
    "duration": 565,
    "start_time": "2021-12-29T21:21:37.712Z"
   },
   {
    "duration": 4,
    "start_time": "2021-12-29T21:21:38.280Z"
   },
   {
    "duration": 187,
    "start_time": "2021-12-29T21:21:38.287Z"
   },
   {
    "duration": 17,
    "start_time": "2021-12-29T21:21:38.477Z"
   },
   {
    "duration": 25,
    "start_time": "2021-12-29T21:21:38.497Z"
   },
   {
    "duration": 59,
    "start_time": "2021-12-29T21:21:38.524Z"
   },
   {
    "duration": 88,
    "start_time": "2021-12-29T21:21:38.586Z"
   },
   {
    "duration": 80,
    "start_time": "2021-12-29T21:21:38.678Z"
   },
   {
    "duration": 79,
    "start_time": "2021-12-29T21:21:38.760Z"
   },
   {
    "duration": 350,
    "start_time": "2021-12-29T21:21:38.842Z"
   },
   {
    "duration": 209,
    "start_time": "2021-12-29T21:21:39.195Z"
   },
   {
    "duration": 58,
    "start_time": "2021-12-29T21:24:48.145Z"
   },
   {
    "duration": 780,
    "start_time": "2021-12-29T21:25:08.088Z"
   },
   {
    "duration": 4,
    "start_time": "2021-12-29T21:25:08.870Z"
   },
   {
    "duration": 187,
    "start_time": "2021-12-29T21:25:08.877Z"
   },
   {
    "duration": 6,
    "start_time": "2021-12-29T21:25:09.066Z"
   },
   {
    "duration": 16,
    "start_time": "2021-12-29T21:25:09.074Z"
   },
   {
    "duration": 81,
    "start_time": "2021-12-29T21:25:09.092Z"
   },
   {
    "duration": 317,
    "start_time": "2021-12-29T21:25:11.020Z"
   },
   {
    "duration": 55,
    "start_time": "2021-12-29T21:25:17.244Z"
   },
   {
    "duration": 628,
    "start_time": "2021-12-29T21:25:32.823Z"
   },
   {
    "duration": 4,
    "start_time": "2021-12-29T21:25:33.454Z"
   },
   {
    "duration": 188,
    "start_time": "2021-12-29T21:25:33.461Z"
   },
   {
    "duration": 6,
    "start_time": "2021-12-29T21:25:33.651Z"
   },
   {
    "duration": 8,
    "start_time": "2021-12-29T21:25:33.659Z"
   },
   {
    "duration": 85,
    "start_time": "2021-12-29T21:25:33.670Z"
   },
   {
    "duration": 77,
    "start_time": "2021-12-29T21:25:33.757Z"
   },
   {
    "duration": 55,
    "start_time": "2021-12-29T21:25:33.836Z"
   },
   {
    "duration": 44,
    "start_time": "2021-12-29T21:25:33.917Z"
   },
   {
    "duration": 240,
    "start_time": "2021-12-29T21:25:33.963Z"
   },
   {
    "duration": 134,
    "start_time": "2021-12-29T21:25:34.206Z"
   },
   {
    "duration": 44,
    "start_time": "2021-12-29T21:29:57.590Z"
   },
   {
    "duration": 121,
    "start_time": "2021-12-29T21:40:32.298Z"
   },
   {
    "duration": 124,
    "start_time": "2021-12-29T21:41:43.777Z"
   },
   {
    "duration": 396,
    "start_time": "2021-12-29T21:43:55.921Z"
   },
   {
    "duration": 197,
    "start_time": "2021-12-29T21:44:32.121Z"
   },
   {
    "duration": 550,
    "start_time": "2021-12-29T21:46:05.837Z"
   },
   {
    "duration": 4,
    "start_time": "2021-12-29T21:46:06.389Z"
   },
   {
    "duration": 175,
    "start_time": "2021-12-29T21:46:06.396Z"
   },
   {
    "duration": 5,
    "start_time": "2021-12-29T21:46:06.574Z"
   },
   {
    "duration": 9,
    "start_time": "2021-12-29T21:46:06.582Z"
   },
   {
    "duration": 74,
    "start_time": "2021-12-29T21:46:06.593Z"
   },
   {
    "duration": 82,
    "start_time": "2021-12-29T21:46:06.669Z"
   },
   {
    "duration": 65,
    "start_time": "2021-12-29T21:46:06.755Z"
   },
   {
    "duration": 45,
    "start_time": "2021-12-29T21:46:06.822Z"
   },
   {
    "duration": 275,
    "start_time": "2021-12-29T21:46:06.869Z"
   },
   {
    "duration": 137,
    "start_time": "2021-12-29T21:46:07.146Z"
   },
   {
    "duration": 549,
    "start_time": "2021-12-29T21:46:20.995Z"
   },
   {
    "duration": 5,
    "start_time": "2021-12-29T21:46:21.546Z"
   },
   {
    "duration": 186,
    "start_time": "2021-12-29T21:46:21.553Z"
   },
   {
    "duration": 6,
    "start_time": "2021-12-29T21:46:21.742Z"
   },
   {
    "duration": 8,
    "start_time": "2021-12-29T21:46:21.750Z"
   },
   {
    "duration": 85,
    "start_time": "2021-12-29T21:46:21.761Z"
   },
   {
    "duration": 73,
    "start_time": "2021-12-29T21:46:21.849Z"
   },
   {
    "duration": 54,
    "start_time": "2021-12-29T21:46:21.925Z"
   },
   {
    "duration": 82,
    "start_time": "2021-12-29T21:46:21.981Z"
   },
   {
    "duration": 251,
    "start_time": "2021-12-29T21:46:22.067Z"
   },
   {
    "duration": 141,
    "start_time": "2021-12-29T21:46:22.321Z"
   },
   {
    "duration": 118,
    "start_time": "2021-12-29T21:56:29.546Z"
   },
   {
    "duration": 125,
    "start_time": "2021-12-29T21:56:55.537Z"
   },
   {
    "duration": 130,
    "start_time": "2021-12-29T22:00:06.495Z"
   },
   {
    "duration": 43,
    "start_time": "2021-12-29T22:00:44.671Z"
   },
   {
    "duration": 46,
    "start_time": "2021-12-29T22:01:00.803Z"
   },
   {
    "duration": 586,
    "start_time": "2021-12-29T22:01:17.181Z"
   },
   {
    "duration": 4,
    "start_time": "2021-12-29T22:01:17.770Z"
   },
   {
    "duration": 193,
    "start_time": "2021-12-29T22:01:17.777Z"
   },
   {
    "duration": 6,
    "start_time": "2021-12-29T22:01:17.973Z"
   },
   {
    "duration": 9,
    "start_time": "2021-12-29T22:01:17.981Z"
   },
   {
    "duration": 77,
    "start_time": "2021-12-29T22:01:17.992Z"
   },
   {
    "duration": 82,
    "start_time": "2021-12-29T22:01:18.072Z"
   },
   {
    "duration": 68,
    "start_time": "2021-12-29T22:01:18.157Z"
   },
   {
    "duration": 46,
    "start_time": "2021-12-29T22:01:18.227Z"
   },
   {
    "duration": 395,
    "start_time": "2021-12-29T22:01:18.275Z"
   },
   {
    "duration": 221,
    "start_time": "2021-12-29T22:01:18.672Z"
   },
   {
    "duration": 255,
    "start_time": "2021-12-29T22:02:06.369Z"
   },
   {
    "duration": 228,
    "start_time": "2021-12-29T22:02:44.909Z"
   },
   {
    "duration": 135,
    "start_time": "2021-12-29T22:02:50.115Z"
   },
   {
    "duration": 135,
    "start_time": "2021-12-29T22:03:18.510Z"
   },
   {
    "duration": 851,
    "start_time": "2021-12-29T22:14:29.947Z"
   },
   {
    "duration": 888,
    "start_time": "2021-12-29T22:14:37.938Z"
   },
   {
    "duration": 280,
    "start_time": "2021-12-29T22:14:53.901Z"
   },
   {
    "duration": 566,
    "start_time": "2021-12-29T22:15:03.295Z"
   },
   {
    "duration": 4,
    "start_time": "2021-12-29T22:15:03.864Z"
   },
   {
    "duration": 187,
    "start_time": "2021-12-29T22:15:03.871Z"
   },
   {
    "duration": 5,
    "start_time": "2021-12-29T22:15:04.061Z"
   },
   {
    "duration": 7,
    "start_time": "2021-12-29T22:15:04.069Z"
   },
   {
    "duration": 82,
    "start_time": "2021-12-29T22:15:04.078Z"
   },
   {
    "duration": 71,
    "start_time": "2021-12-29T22:15:04.163Z"
   },
   {
    "duration": 55,
    "start_time": "2021-12-29T22:15:04.237Z"
   },
   {
    "duration": 60,
    "start_time": "2021-12-29T22:15:04.295Z"
   },
   {
    "duration": 259,
    "start_time": "2021-12-29T22:15:04.358Z"
   },
   {
    "duration": 142,
    "start_time": "2021-12-29T22:15:04.619Z"
   },
   {
    "duration": 482,
    "start_time": "2021-12-29T22:15:04.763Z"
   },
   {
    "duration": 274,
    "start_time": "2021-12-29T22:15:27.174Z"
   },
   {
    "duration": 29,
    "start_time": "2021-12-29T22:15:45.516Z"
   },
   {
    "duration": 316,
    "start_time": "2021-12-29T22:15:58.280Z"
   },
   {
    "duration": 15,
    "start_time": "2021-12-29T22:16:01.588Z"
   },
   {
    "duration": 310,
    "start_time": "2021-12-29T22:16:11.513Z"
   },
   {
    "duration": 289,
    "start_time": "2021-12-29T22:16:28.087Z"
   },
   {
    "duration": 307,
    "start_time": "2021-12-29T22:17:17.695Z"
   },
   {
    "duration": 10,
    "start_time": "2021-12-29T22:17:28.059Z"
   },
   {
    "duration": 311,
    "start_time": "2021-12-29T22:17:33.971Z"
   },
   {
    "duration": 29,
    "start_time": "2021-12-29T22:17:47.501Z"
   },
   {
    "duration": 41,
    "start_time": "2021-12-29T22:18:30.541Z"
   },
   {
    "duration": 34,
    "start_time": "2021-12-29T22:18:40.535Z"
   },
   {
    "duration": 40,
    "start_time": "2021-12-29T22:18:47.244Z"
   },
   {
    "duration": 62,
    "start_time": "2021-12-29T22:20:57.646Z"
   },
   {
    "duration": 587,
    "start_time": "2021-12-29T22:27:17.753Z"
   },
   {
    "duration": 699,
    "start_time": "2021-12-29T22:27:24.752Z"
   },
   {
    "duration": 13,
    "start_time": "2021-12-29T22:27:28.977Z"
   },
   {
    "duration": 68,
    "start_time": "2021-12-29T22:28:00.765Z"
   },
   {
    "duration": 66,
    "start_time": "2021-12-29T22:28:27.944Z"
   },
   {
    "duration": 552,
    "start_time": "2021-12-29T22:36:29.029Z"
   },
   {
    "duration": 4,
    "start_time": "2021-12-29T22:36:29.583Z"
   },
   {
    "duration": 181,
    "start_time": "2021-12-29T22:36:29.591Z"
   },
   {
    "duration": 7,
    "start_time": "2021-12-29T22:36:29.774Z"
   },
   {
    "duration": 33,
    "start_time": "2021-12-29T22:36:29.784Z"
   },
   {
    "duration": 60,
    "start_time": "2021-12-29T22:36:29.820Z"
   },
   {
    "duration": 87,
    "start_time": "2021-12-29T22:36:29.883Z"
   },
   {
    "duration": 90,
    "start_time": "2021-12-29T22:36:29.974Z"
   },
   {
    "duration": 47,
    "start_time": "2021-12-29T22:36:36.515Z"
   },
   {
    "duration": 61,
    "start_time": "2021-12-29T22:39:21.755Z"
   },
   {
    "duration": 576,
    "start_time": "2021-12-29T22:40:00.030Z"
   },
   {
    "duration": 4,
    "start_time": "2021-12-29T22:40:00.609Z"
   },
   {
    "duration": 176,
    "start_time": "2021-12-29T22:40:00.616Z"
   },
   {
    "duration": 5,
    "start_time": "2021-12-29T22:40:00.795Z"
   },
   {
    "duration": 16,
    "start_time": "2021-12-29T22:40:00.803Z"
   },
   {
    "duration": 57,
    "start_time": "2021-12-29T22:40:00.822Z"
   },
   {
    "duration": 60,
    "start_time": "2021-12-29T22:40:00.917Z"
   },
   {
    "duration": 81,
    "start_time": "2021-12-29T22:40:00.981Z"
   },
   {
    "duration": 257,
    "start_time": "2021-12-29T22:40:01.065Z"
   },
   {
    "duration": 154,
    "start_time": "2021-12-29T22:40:01.325Z"
   },
   {
    "duration": 85,
    "start_time": "2021-12-29T22:40:01.482Z"
   },
   {
    "duration": 17,
    "start_time": "2021-12-29T22:40:01.570Z"
   },
   {
    "duration": 2342,
    "start_time": "2021-12-30T20:47:33.116Z"
   },
   {
    "duration": 10,
    "start_time": "2021-12-30T20:47:35.461Z"
   },
   {
    "duration": 202,
    "start_time": "2021-12-30T20:47:35.474Z"
   },
   {
    "duration": 8,
    "start_time": "2021-12-30T20:47:35.680Z"
   },
   {
    "duration": 27,
    "start_time": "2021-12-30T20:47:35.690Z"
   },
   {
    "duration": 97,
    "start_time": "2021-12-30T20:47:35.720Z"
   },
   {
    "duration": 79,
    "start_time": "2021-12-30T20:47:35.820Z"
   },
   {
    "duration": 80,
    "start_time": "2021-12-30T20:47:35.903Z"
   },
   {
    "duration": 518,
    "start_time": "2021-12-30T20:47:35.987Z"
   },
   {
    "duration": 165,
    "start_time": "2021-12-30T20:47:36.343Z"
   },
   {
    "duration": 161,
    "start_time": "2021-12-30T20:47:36.350Z"
   },
   {
    "duration": 160,
    "start_time": "2021-12-30T20:47:36.353Z"
   },
   {
    "duration": 20,
    "start_time": "2021-12-30T20:53:52.946Z"
   },
   {
    "duration": 36,
    "start_time": "2021-12-30T20:54:23.500Z"
   },
   {
    "duration": 844,
    "start_time": "2021-12-30T20:58:00.526Z"
   },
   {
    "duration": 5,
    "start_time": "2021-12-30T20:58:01.373Z"
   },
   {
    "duration": 202,
    "start_time": "2021-12-30T20:58:01.382Z"
   },
   {
    "duration": 7,
    "start_time": "2021-12-30T20:58:01.587Z"
   },
   {
    "duration": 18,
    "start_time": "2021-12-30T20:58:01.596Z"
   },
   {
    "duration": 91,
    "start_time": "2021-12-30T20:58:01.617Z"
   },
   {
    "duration": 89,
    "start_time": "2021-12-30T20:58:01.711Z"
   },
   {
    "duration": 81,
    "start_time": "2021-12-30T20:58:01.803Z"
   },
   {
    "duration": 7383,
    "start_time": "2021-12-30T21:01:00.689Z"
   },
   {
    "duration": 295,
    "start_time": "2021-12-30T21:01:29.494Z"
   },
   {
    "duration": 49,
    "start_time": "2021-12-30T21:02:02.156Z"
   },
   {
    "duration": 59,
    "start_time": "2021-12-30T21:02:14.250Z"
   },
   {
    "duration": 70,
    "start_time": "2021-12-30T21:02:38.810Z"
   },
   {
    "duration": 53,
    "start_time": "2021-12-30T21:02:53.043Z"
   },
   {
    "duration": 63,
    "start_time": "2021-12-30T21:08:53.205Z"
   },
   {
    "duration": 296,
    "start_time": "2021-12-30T21:09:36.747Z"
   },
   {
    "duration": 52,
    "start_time": "2021-12-30T21:10:03.656Z"
   },
   {
    "duration": 45,
    "start_time": "2021-12-30T21:10:05.371Z"
   },
   {
    "duration": 226,
    "start_time": "2021-12-30T21:10:07.996Z"
   },
   {
    "duration": 44,
    "start_time": "2021-12-30T21:14:57.720Z"
   },
   {
    "duration": 343,
    "start_time": "2021-12-30T21:23:01.322Z"
   },
   {
    "duration": 335,
    "start_time": "2021-12-30T21:23:21.017Z"
   },
   {
    "duration": 1417,
    "start_time": "2021-12-30T21:33:46.914Z"
   },
   {
    "duration": 303,
    "start_time": "2021-12-30T21:35:02.813Z"
   },
   {
    "duration": 1479,
    "start_time": "2021-12-30T21:35:34.966Z"
   },
   {
    "duration": 614,
    "start_time": "2021-12-30T21:39:04.197Z"
   },
   {
    "duration": 311,
    "start_time": "2021-12-30T21:39:40.269Z"
   },
   {
    "duration": 726,
    "start_time": "2021-12-30T21:40:29.730Z"
   },
   {
    "duration": 333,
    "start_time": "2021-12-30T21:42:21.639Z"
   },
   {
    "duration": 685,
    "start_time": "2021-12-30T21:43:01.060Z"
   },
   {
    "duration": 338,
    "start_time": "2021-12-30T21:43:22.864Z"
   },
   {
    "duration": 706,
    "start_time": "2021-12-30T21:44:18.370Z"
   },
   {
    "duration": 1440,
    "start_time": "2021-12-30T21:44:46.044Z"
   },
   {
    "duration": 318,
    "start_time": "2021-12-30T21:45:17.533Z"
   },
   {
    "duration": 7547,
    "start_time": "2021-12-30T21:45:31.356Z"
   },
   {
    "duration": 310,
    "start_time": "2021-12-30T21:47:09.999Z"
   },
   {
    "duration": 340,
    "start_time": "2021-12-30T21:47:34.093Z"
   },
   {
    "duration": 323,
    "start_time": "2021-12-30T21:48:21.792Z"
   },
   {
    "duration": 641,
    "start_time": "2021-12-30T21:48:52.136Z"
   },
   {
    "duration": 351,
    "start_time": "2021-12-30T21:49:21.881Z"
   },
   {
    "duration": 689,
    "start_time": "2021-12-30T21:49:49.367Z"
   },
   {
    "duration": 332,
    "start_time": "2021-12-30T21:51:02.020Z"
   },
   {
    "duration": 333,
    "start_time": "2021-12-30T21:51:12.352Z"
   },
   {
    "duration": 328,
    "start_time": "2021-12-30T21:51:25.393Z"
   },
   {
    "duration": 1518,
    "start_time": "2021-12-30T21:51:48.909Z"
   },
   {
    "duration": 316,
    "start_time": "2021-12-30T21:52:58.866Z"
   },
   {
    "duration": 357,
    "start_time": "2021-12-30T21:53:34.936Z"
   },
   {
    "duration": 594,
    "start_time": "2021-12-30T21:53:51.234Z"
   },
   {
    "duration": 5,
    "start_time": "2021-12-30T21:53:51.831Z"
   },
   {
    "duration": 188,
    "start_time": "2021-12-30T21:53:51.838Z"
   },
   {
    "duration": 7,
    "start_time": "2021-12-30T21:53:52.029Z"
   },
   {
    "duration": 24,
    "start_time": "2021-12-30T21:53:52.039Z"
   },
   {
    "duration": 63,
    "start_time": "2021-12-30T21:53:52.065Z"
   },
   {
    "duration": 90,
    "start_time": "2021-12-30T21:53:52.130Z"
   },
   {
    "duration": 86,
    "start_time": "2021-12-30T21:53:52.223Z"
   },
   {
    "duration": 75,
    "start_time": "2021-12-30T21:53:52.311Z"
   },
   {
    "duration": 313,
    "start_time": "2021-12-30T21:53:56.187Z"
   },
   {
    "duration": 784,
    "start_time": "2021-12-30T21:55:23.642Z"
   },
   {
    "duration": 220,
    "start_time": "2021-12-30T21:56:08.229Z"
   },
   {
    "duration": 320,
    "start_time": "2021-12-30T22:00:12.074Z"
   },
   {
    "duration": 334,
    "start_time": "2021-12-30T22:00:48.462Z"
   },
   {
    "duration": 305,
    "start_time": "2021-12-30T22:03:33.137Z"
   },
   {
    "duration": 783,
    "start_time": "2021-12-30T22:04:05.828Z"
   },
   {
    "duration": 346,
    "start_time": "2021-12-30T22:08:07.799Z"
   },
   {
    "duration": 1544,
    "start_time": "2021-12-30T22:08:39.440Z"
   },
   {
    "duration": 398,
    "start_time": "2021-12-30T22:10:03.287Z"
   },
   {
    "duration": 349,
    "start_time": "2021-12-30T22:10:18.169Z"
   },
   {
    "duration": 653,
    "start_time": "2021-12-30T22:12:24.260Z"
   },
   {
    "duration": 297,
    "start_time": "2021-12-30T22:14:01.417Z"
   },
   {
    "duration": 466,
    "start_time": "2021-12-30T22:22:45.530Z"
   },
   {
    "duration": 352,
    "start_time": "2021-12-30T22:22:56.713Z"
   },
   {
    "duration": 339,
    "start_time": "2021-12-30T22:23:22.151Z"
   },
   {
    "duration": 351,
    "start_time": "2021-12-30T22:23:34.323Z"
   },
   {
    "duration": 605,
    "start_time": "2021-12-30T22:24:10.763Z"
   },
   {
    "duration": 1878,
    "start_time": "2021-12-30T22:24:53.908Z"
   },
   {
    "duration": 300,
    "start_time": "2021-12-30T22:25:11.143Z"
   },
   {
    "duration": 326,
    "start_time": "2021-12-30T22:25:25.990Z"
   },
   {
    "duration": 312,
    "start_time": "2021-12-30T22:25:36.002Z"
   },
   {
    "duration": 331,
    "start_time": "2021-12-30T22:25:44.334Z"
   },
   {
    "duration": 345,
    "start_time": "2021-12-30T22:25:52.455Z"
   },
   {
    "duration": 367,
    "start_time": "2021-12-30T22:27:38.041Z"
   },
   {
    "duration": 331,
    "start_time": "2021-12-30T22:28:37.280Z"
   },
   {
    "duration": 337,
    "start_time": "2021-12-30T22:29:15.863Z"
   },
   {
    "duration": 312,
    "start_time": "2021-12-30T22:29:24.869Z"
   },
   {
    "duration": 302,
    "start_time": "2021-12-30T22:29:31.501Z"
   },
   {
    "duration": 1631,
    "start_time": "2021-12-30T22:30:44.934Z"
   },
   {
    "duration": 412,
    "start_time": "2021-12-30T22:31:06.419Z"
   },
   {
    "duration": 368,
    "start_time": "2021-12-30T22:31:18.423Z"
   },
   {
    "duration": 337,
    "start_time": "2021-12-30T22:31:36.133Z"
   },
   {
    "duration": 512,
    "start_time": "2021-12-30T22:31:58.004Z"
   },
   {
    "duration": 345,
    "start_time": "2021-12-30T22:32:17.740Z"
   },
   {
    "duration": 342,
    "start_time": "2021-12-30T22:32:22.594Z"
   },
   {
    "duration": 354,
    "start_time": "2021-12-30T22:33:32.309Z"
   },
   {
    "duration": 369,
    "start_time": "2021-12-30T22:33:38.148Z"
   },
   {
    "duration": 334,
    "start_time": "2021-12-30T22:33:45.196Z"
   },
   {
    "duration": 324,
    "start_time": "2021-12-30T22:34:15.407Z"
   },
   {
    "duration": 353,
    "start_time": "2021-12-30T22:34:26.119Z"
   },
   {
    "duration": 536,
    "start_time": "2021-12-30T22:34:48.528Z"
   },
   {
    "duration": 484,
    "start_time": "2021-12-30T22:35:24.196Z"
   },
   {
    "duration": 314,
    "start_time": "2021-12-30T22:36:20.244Z"
   },
   {
    "duration": 602,
    "start_time": "2021-12-30T22:36:32.540Z"
   },
   {
    "duration": 654,
    "start_time": "2021-12-30T22:37:18.066Z"
   },
   {
    "duration": 348,
    "start_time": "2021-12-30T22:37:57.885Z"
   },
   {
    "duration": 106,
    "start_time": "2021-12-30T22:41:31.674Z"
   },
   {
    "duration": 339,
    "start_time": "2021-12-30T22:41:40.285Z"
   },
   {
    "duration": 331,
    "start_time": "2021-12-30T22:45:56.599Z"
   },
   {
    "duration": 335,
    "start_time": "2021-12-30T22:46:12.650Z"
   },
   {
    "duration": 133,
    "start_time": "2021-12-30T22:50:11.419Z"
   },
   {
    "duration": 799,
    "start_time": "2021-12-30T22:54:40.952Z"
   },
   {
    "duration": 5,
    "start_time": "2021-12-30T22:54:41.755Z"
   },
   {
    "duration": 177,
    "start_time": "2021-12-30T22:54:41.763Z"
   },
   {
    "duration": 5,
    "start_time": "2021-12-30T22:54:41.943Z"
   },
   {
    "duration": 7,
    "start_time": "2021-12-30T22:54:41.963Z"
   },
   {
    "duration": 91,
    "start_time": "2021-12-30T22:54:41.972Z"
   },
   {
    "duration": 61,
    "start_time": "2021-12-30T22:54:42.066Z"
   },
   {
    "duration": 81,
    "start_time": "2021-12-30T22:54:42.131Z"
   },
   {
    "duration": 74,
    "start_time": "2021-12-30T22:54:42.214Z"
   },
   {
    "duration": 366,
    "start_time": "2021-12-30T22:54:42.291Z"
   },
   {
    "duration": 146,
    "start_time": "2021-12-30T22:54:42.663Z"
   },
   {
    "duration": 82,
    "start_time": "2021-12-30T22:54:42.811Z"
   },
   {
    "duration": 360,
    "start_time": "2021-12-30T23:00:51.209Z"
   },
   {
    "duration": 575,
    "start_time": "2021-12-30T23:01:39.207Z"
   },
   {
    "duration": 5,
    "start_time": "2021-12-30T23:01:39.785Z"
   },
   {
    "duration": 254,
    "start_time": "2021-12-30T23:01:39.794Z"
   },
   {
    "duration": 11,
    "start_time": "2021-12-30T23:01:40.052Z"
   },
   {
    "duration": 8,
    "start_time": "2021-12-30T23:01:40.066Z"
   },
   {
    "duration": 86,
    "start_time": "2021-12-30T23:01:40.077Z"
   },
   {
    "duration": 109,
    "start_time": "2021-12-30T23:01:40.166Z"
   },
   {
    "duration": 105,
    "start_time": "2021-12-30T23:01:40.281Z"
   },
   {
    "duration": 92,
    "start_time": "2021-12-30T23:01:40.389Z"
   },
   {
    "duration": 558,
    "start_time": "2021-12-30T23:01:40.485Z"
   },
   {
    "duration": 151,
    "start_time": "2021-12-30T23:01:41.047Z"
   },
   {
    "duration": 83,
    "start_time": "2021-12-30T23:01:41.201Z"
   },
   {
    "duration": 572,
    "start_time": "2021-12-30T23:03:49.492Z"
   },
   {
    "duration": 5,
    "start_time": "2021-12-30T23:03:50.066Z"
   },
   {
    "duration": 192,
    "start_time": "2021-12-30T23:03:50.076Z"
   },
   {
    "duration": 8,
    "start_time": "2021-12-30T23:03:50.271Z"
   },
   {
    "duration": 8,
    "start_time": "2021-12-30T23:03:50.282Z"
   },
   {
    "duration": 125,
    "start_time": "2021-12-30T23:03:50.293Z"
   },
   {
    "duration": 104,
    "start_time": "2021-12-30T23:03:50.422Z"
   },
   {
    "duration": 105,
    "start_time": "2021-12-30T23:03:50.531Z"
   },
   {
    "duration": 80,
    "start_time": "2021-12-30T23:03:50.640Z"
   },
   {
    "duration": 528,
    "start_time": "2021-12-30T23:03:50.723Z"
   },
   {
    "duration": 146,
    "start_time": "2021-12-30T23:03:51.253Z"
   },
   {
    "duration": 87,
    "start_time": "2021-12-30T23:03:51.402Z"
   },
   {
    "duration": 592,
    "start_time": "2021-12-30T23:05:45.037Z"
   },
   {
    "duration": 6,
    "start_time": "2021-12-30T23:05:45.633Z"
   },
   {
    "duration": 178,
    "start_time": "2021-12-30T23:05:45.665Z"
   },
   {
    "duration": 22,
    "start_time": "2021-12-30T23:05:45.846Z"
   },
   {
    "duration": 7,
    "start_time": "2021-12-30T23:05:45.870Z"
   },
   {
    "duration": 89,
    "start_time": "2021-12-30T23:05:45.881Z"
   },
   {
    "duration": 66,
    "start_time": "2021-12-30T23:05:45.973Z"
   },
   {
    "duration": 75,
    "start_time": "2021-12-30T23:05:46.043Z"
   },
   {
    "duration": 75,
    "start_time": "2021-12-30T23:05:46.121Z"
   },
   {
    "duration": 341,
    "start_time": "2021-12-30T23:05:46.199Z"
   },
   {
    "duration": 149,
    "start_time": "2021-12-30T23:05:46.543Z"
   },
   {
    "duration": 88,
    "start_time": "2021-12-30T23:05:46.694Z"
   },
   {
    "duration": 128,
    "start_time": "2021-12-30T23:13:57.292Z"
   },
   {
    "duration": 572,
    "start_time": "2021-12-30T23:14:15.062Z"
   },
   {
    "duration": 4,
    "start_time": "2021-12-30T23:14:15.637Z"
   },
   {
    "duration": 183,
    "start_time": "2021-12-30T23:14:15.644Z"
   },
   {
    "duration": 6,
    "start_time": "2021-12-30T23:14:15.830Z"
   },
   {
    "duration": 25,
    "start_time": "2021-12-30T23:14:15.838Z"
   },
   {
    "duration": 60,
    "start_time": "2021-12-30T23:14:15.865Z"
   },
   {
    "duration": 89,
    "start_time": "2021-12-30T23:14:15.928Z"
   },
   {
    "duration": 90,
    "start_time": "2021-12-30T23:14:16.020Z"
   },
   {
    "duration": 71,
    "start_time": "2021-12-30T23:14:16.113Z"
   },
   {
    "duration": 381,
    "start_time": "2021-12-30T23:14:16.187Z"
   },
   {
    "duration": 150,
    "start_time": "2021-12-30T23:14:16.570Z"
   },
   {
    "duration": 84,
    "start_time": "2021-12-30T23:14:16.722Z"
   },
   {
    "duration": 1486,
    "start_time": "2022-01-01T12:38:24.247Z"
   },
   {
    "duration": 3,
    "start_time": "2022-01-01T12:38:25.735Z"
   },
   {
    "duration": 125,
    "start_time": "2022-01-01T12:38:25.739Z"
   },
   {
    "duration": 5,
    "start_time": "2022-01-01T12:38:25.866Z"
   },
   {
    "duration": 20,
    "start_time": "2022-01-01T12:38:25.873Z"
   },
   {
    "duration": 54,
    "start_time": "2022-01-01T12:38:25.894Z"
   },
   {
    "duration": 44,
    "start_time": "2022-01-01T12:38:25.949Z"
   },
   {
    "duration": 59,
    "start_time": "2022-01-01T12:38:25.995Z"
   },
   {
    "duration": 25,
    "start_time": "2022-01-01T12:38:26.055Z"
   },
   {
    "duration": 176,
    "start_time": "2022-01-01T12:38:26.082Z"
   },
   {
    "duration": 92,
    "start_time": "2022-01-01T12:38:26.260Z"
   },
   {
    "duration": 36,
    "start_time": "2022-01-01T12:38:26.353Z"
   },
   {
    "duration": 52,
    "start_time": "2022-01-01T12:38:26.390Z"
   },
   {
    "duration": 36,
    "start_time": "2022-01-01T12:42:23.150Z"
   },
   {
    "duration": 33,
    "start_time": "2022-01-01T12:50:20.893Z"
   },
   {
    "duration": 9,
    "start_time": "2022-01-01T12:50:41.004Z"
   },
   {
    "duration": 42,
    "start_time": "2022-01-01T12:52:28.210Z"
   },
   {
    "duration": 13,
    "start_time": "2022-01-01T12:52:42.199Z"
   },
   {
    "duration": 13,
    "start_time": "2022-01-01T12:53:58.910Z"
   },
   {
    "duration": 471,
    "start_time": "2022-01-01T12:56:25.657Z"
   },
   {
    "duration": 271,
    "start_time": "2022-01-01T12:57:28.805Z"
   },
   {
    "duration": 13,
    "start_time": "2022-01-01T12:57:48.094Z"
   },
   {
    "duration": 240,
    "start_time": "2022-01-01T12:59:29.217Z"
   },
   {
    "duration": 254,
    "start_time": "2022-01-01T13:00:20.564Z"
   },
   {
    "duration": 13,
    "start_time": "2022-01-01T13:01:51.497Z"
   },
   {
    "duration": 13,
    "start_time": "2022-01-01T13:02:16.057Z"
   },
   {
    "duration": 43,
    "start_time": "2022-01-01T13:03:54.112Z"
   },
   {
    "duration": 29,
    "start_time": "2022-01-01T13:05:20.488Z"
   },
   {
    "duration": 31,
    "start_time": "2022-01-01T13:05:37.819Z"
   },
   {
    "duration": 28,
    "start_time": "2022-01-01T13:07:01.366Z"
   },
   {
    "duration": 12,
    "start_time": "2022-01-01T13:07:48.628Z"
   },
   {
    "duration": 12,
    "start_time": "2022-01-01T13:08:01.751Z"
   },
   {
    "duration": 12,
    "start_time": "2022-01-01T13:08:12.082Z"
   },
   {
    "duration": 255,
    "start_time": "2022-01-01T13:08:50.272Z"
   },
   {
    "duration": 232,
    "start_time": "2022-01-01T13:09:08.970Z"
   },
   {
    "duration": 28,
    "start_time": "2022-01-01T13:09:17.806Z"
   },
   {
    "duration": 39,
    "start_time": "2022-01-01T13:09:22.823Z"
   },
   {
    "duration": 13,
    "start_time": "2022-01-01T13:10:00.090Z"
   },
   {
    "duration": 9,
    "start_time": "2022-01-01T13:10:13.835Z"
   },
   {
    "duration": 7,
    "start_time": "2022-01-01T13:10:34.808Z"
   },
   {
    "duration": 6,
    "start_time": "2022-01-01T13:10:51.601Z"
   },
   {
    "duration": 6,
    "start_time": "2022-01-01T13:11:15.866Z"
   },
   {
    "duration": 18,
    "start_time": "2022-01-01T13:11:35.565Z"
   },
   {
    "duration": 6,
    "start_time": "2022-01-01T13:12:07.940Z"
   },
   {
    "duration": 19,
    "start_time": "2022-01-01T13:12:22.272Z"
   },
   {
    "duration": 231,
    "start_time": "2022-01-01T13:13:09.530Z"
   },
   {
    "duration": 232,
    "start_time": "2022-01-01T13:13:54.443Z"
   },
   {
    "duration": 17,
    "start_time": "2022-01-01T13:14:24.945Z"
   },
   {
    "duration": 93,
    "start_time": "2022-01-01T13:14:51.237Z"
   },
   {
    "duration": 40,
    "start_time": "2022-01-01T13:15:11.348Z"
   },
   {
    "duration": 36,
    "start_time": "2022-01-01T13:15:57.459Z"
   },
   {
    "duration": 35,
    "start_time": "2022-01-01T13:17:12.534Z"
   },
   {
    "duration": 38,
    "start_time": "2022-01-01T13:19:27.762Z"
   },
   {
    "duration": 29,
    "start_time": "2022-01-01T13:20:10.647Z"
   },
   {
    "duration": 33,
    "start_time": "2022-01-01T13:20:46.541Z"
   },
   {
    "duration": 17,
    "start_time": "2022-01-01T13:21:58.211Z"
   },
   {
    "duration": 261,
    "start_time": "2022-01-01T13:22:14.284Z"
   },
   {
    "duration": 30,
    "start_time": "2022-01-01T13:22:19.441Z"
   },
   {
    "duration": 31,
    "start_time": "2022-01-01T13:23:06.920Z"
   },
   {
    "duration": 17,
    "start_time": "2022-01-01T13:23:31.179Z"
   },
   {
    "duration": 42,
    "start_time": "2022-01-01T13:23:40.267Z"
   },
   {
    "duration": 34,
    "start_time": "2022-01-01T13:23:56.860Z"
   },
   {
    "duration": 40,
    "start_time": "2022-01-01T13:24:18.713Z"
   },
   {
    "duration": 35,
    "start_time": "2022-01-01T13:24:37.208Z"
   },
   {
    "duration": 43,
    "start_time": "2022-01-01T13:24:55.890Z"
   },
   {
    "duration": 43,
    "start_time": "2022-01-01T13:25:10.483Z"
   },
   {
    "duration": 44,
    "start_time": "2022-01-01T13:25:17.983Z"
   },
   {
    "duration": 47,
    "start_time": "2022-01-01T13:26:23.868Z"
   },
   {
    "duration": 13,
    "start_time": "2022-01-01T13:34:39.909Z"
   },
   {
    "duration": 12,
    "start_time": "2022-01-01T13:35:23.471Z"
   },
   {
    "duration": 12,
    "start_time": "2022-01-01T13:42:23.578Z"
   },
   {
    "duration": 239,
    "start_time": "2022-01-01T13:42:55.084Z"
   },
   {
    "duration": 12,
    "start_time": "2022-01-01T13:43:05.141Z"
   },
   {
    "duration": 47,
    "start_time": "2022-01-01T13:49:51.082Z"
   },
   {
    "duration": 243,
    "start_time": "2022-01-01T13:50:51.069Z"
   },
   {
    "duration": 21,
    "start_time": "2022-01-01T13:51:13.771Z"
   },
   {
    "duration": 87,
    "start_time": "2022-01-01T14:05:57.436Z"
   },
   {
    "duration": 20,
    "start_time": "2022-01-01T14:06:03.912Z"
   },
   {
    "duration": 16,
    "start_time": "2022-01-01T14:06:10.661Z"
   },
   {
    "duration": 17,
    "start_time": "2022-01-01T14:07:19.223Z"
   },
   {
    "duration": 19,
    "start_time": "2022-01-01T14:07:51.498Z"
   },
   {
    "duration": 19,
    "start_time": "2022-01-01T14:08:07.291Z"
   },
   {
    "duration": 16,
    "start_time": "2022-01-01T14:08:30.082Z"
   },
   {
    "duration": 16,
    "start_time": "2022-01-01T14:08:40.824Z"
   },
   {
    "duration": 13,
    "start_time": "2022-01-01T14:09:46.399Z"
   },
   {
    "duration": 15,
    "start_time": "2022-01-01T14:10:34.245Z"
   },
   {
    "duration": 238,
    "start_time": "2022-01-01T14:14:38.523Z"
   },
   {
    "duration": 14,
    "start_time": "2022-01-01T14:14:51.759Z"
   },
   {
    "duration": 16,
    "start_time": "2022-01-01T14:15:22.430Z"
   },
   {
    "duration": 20,
    "start_time": "2022-01-01T14:15:29.102Z"
   },
   {
    "duration": 25,
    "start_time": "2022-01-01T14:15:36.244Z"
   },
   {
    "duration": 26,
    "start_time": "2022-01-01T14:15:57.072Z"
   },
   {
    "duration": 31,
    "start_time": "2022-01-01T14:16:29.610Z"
   },
   {
    "duration": 256,
    "start_time": "2022-01-01T14:17:06.830Z"
   },
   {
    "duration": 29,
    "start_time": "2022-01-01T14:17:16.718Z"
   },
   {
    "duration": 26,
    "start_time": "2022-01-01T14:23:17.080Z"
   },
   {
    "duration": 27,
    "start_time": "2022-01-01T14:23:34.455Z"
   },
   {
    "duration": 31,
    "start_time": "2022-01-01T14:36:13.291Z"
   },
   {
    "duration": 26,
    "start_time": "2022-01-01T14:37:02.885Z"
   },
   {
    "duration": 25,
    "start_time": "2022-01-01T14:37:37.955Z"
   },
   {
    "duration": 37,
    "start_time": "2022-01-01T14:38:35.619Z"
   },
   {
    "duration": 243,
    "start_time": "2022-01-01T14:41:07.267Z"
   },
   {
    "duration": 254,
    "start_time": "2022-01-01T14:41:13.716Z"
   },
   {
    "duration": 23,
    "start_time": "2022-01-01T14:41:19.179Z"
   },
   {
    "duration": 37,
    "start_time": "2022-01-01T14:41:36.233Z"
   },
   {
    "duration": 405,
    "start_time": "2022-01-01T14:42:08.925Z"
   },
   {
    "duration": 431,
    "start_time": "2022-01-01T14:42:23.926Z"
   },
   {
    "duration": 3,
    "start_time": "2022-01-01T14:42:24.359Z"
   },
   {
    "duration": 121,
    "start_time": "2022-01-01T14:42:24.364Z"
   },
   {
    "duration": 21,
    "start_time": "2022-01-01T14:42:24.487Z"
   },
   {
    "duration": 4,
    "start_time": "2022-01-01T14:42:24.510Z"
   },
   {
    "duration": 53,
    "start_time": "2022-01-01T14:42:24.516Z"
   },
   {
    "duration": 29,
    "start_time": "2022-01-01T14:42:24.570Z"
   },
   {
    "duration": 53,
    "start_time": "2022-01-01T14:42:24.602Z"
   },
   {
    "duration": 16,
    "start_time": "2022-01-01T14:42:24.657Z"
   },
   {
    "duration": 473,
    "start_time": "2022-01-01T14:42:24.674Z"
   },
   {
    "duration": -764,
    "start_time": "2022-01-01T14:42:25.913Z"
   },
   {
    "duration": -766,
    "start_time": "2022-01-01T14:42:25.916Z"
   },
   {
    "duration": -768,
    "start_time": "2022-01-01T14:42:25.919Z"
   },
   {
    "duration": 160,
    "start_time": "2022-01-01T14:43:17.735Z"
   },
   {
    "duration": 409,
    "start_time": "2022-01-01T14:44:08.109Z"
   },
   {
    "duration": 169,
    "start_time": "2022-01-01T14:44:32.838Z"
   },
   {
    "duration": 168,
    "start_time": "2022-01-01T14:44:39.066Z"
   },
   {
    "duration": 416,
    "start_time": "2022-01-01T14:44:43.265Z"
   },
   {
    "duration": 29,
    "start_time": "2022-01-01T14:46:05.959Z"
   },
   {
    "duration": 32,
    "start_time": "2022-01-01T14:46:20.485Z"
   },
   {
    "duration": 82,
    "start_time": "2022-01-01T14:46:43.029Z"
   },
   {
    "duration": 28,
    "start_time": "2022-01-01T14:46:47.286Z"
   },
   {
    "duration": 26,
    "start_time": "2022-01-01T14:47:07.432Z"
   },
   {
    "duration": 30,
    "start_time": "2022-01-01T14:47:16.895Z"
   },
   {
    "duration": 26,
    "start_time": "2022-01-01T14:47:35.973Z"
   },
   {
    "duration": 30,
    "start_time": "2022-01-01T14:47:54.341Z"
   },
   {
    "duration": 14,
    "start_time": "2022-01-01T14:47:59.907Z"
   },
   {
    "duration": 147,
    "start_time": "2022-01-01T14:48:06.240Z"
   },
   {
    "duration": 144,
    "start_time": "2022-01-01T14:48:10.113Z"
   },
   {
    "duration": 29,
    "start_time": "2022-01-01T14:48:47.781Z"
   },
   {
    "duration": 36,
    "start_time": "2022-01-01T14:48:56.229Z"
   },
   {
    "duration": 30,
    "start_time": "2022-01-01T14:49:17.870Z"
   },
   {
    "duration": 30,
    "start_time": "2022-01-01T14:49:43.201Z"
   },
   {
    "duration": 82,
    "start_time": "2022-01-01T14:55:29.992Z"
   },
   {
    "duration": 29,
    "start_time": "2022-01-01T14:55:38.016Z"
   },
   {
    "duration": 24,
    "start_time": "2022-01-01T14:56:05.545Z"
   },
   {
    "duration": 21,
    "start_time": "2022-01-01T14:56:21.241Z"
   },
   {
    "duration": 32,
    "start_time": "2022-01-01T14:56:45.731Z"
   },
   {
    "duration": 26,
    "start_time": "2022-01-01T14:57:26.964Z"
   },
   {
    "duration": 23,
    "start_time": "2022-01-01T14:57:57.473Z"
   },
   {
    "duration": 25,
    "start_time": "2022-01-01T14:59:08.457Z"
   },
   {
    "duration": 25,
    "start_time": "2022-01-01T14:59:23.282Z"
   },
   {
    "duration": 13,
    "start_time": "2022-01-01T15:16:14.652Z"
   },
   {
    "duration": 34,
    "start_time": "2022-01-01T15:19:44.399Z"
   },
   {
    "duration": 140,
    "start_time": "2022-01-01T15:20:24.881Z"
   },
   {
    "duration": 147,
    "start_time": "2022-01-01T15:21:02.371Z"
   },
   {
    "duration": 144,
    "start_time": "2022-01-01T15:21:13.432Z"
   },
   {
    "duration": 38,
    "start_time": "2022-01-01T15:21:33.362Z"
   },
   {
    "duration": 114,
    "start_time": "2022-01-01T15:30:48.586Z"
   },
   {
    "duration": 39,
    "start_time": "2022-01-01T15:31:01.368Z"
   },
   {
    "duration": 234,
    "start_time": "2022-01-01T15:31:11.607Z"
   },
   {
    "duration": 44,
    "start_time": "2022-01-01T15:32:22.249Z"
   },
   {
    "duration": 46,
    "start_time": "2022-01-01T15:32:50.616Z"
   },
   {
    "duration": 47,
    "start_time": "2022-01-01T15:32:59.715Z"
   },
   {
    "duration": 48,
    "start_time": "2022-01-01T15:41:29.625Z"
   },
   {
    "duration": 63,
    "start_time": "2022-01-01T15:42:54.417Z"
   },
   {
    "duration": 59,
    "start_time": "2022-01-01T15:43:06.056Z"
   },
   {
    "duration": 62,
    "start_time": "2022-01-01T15:49:22.090Z"
   },
   {
    "duration": 58,
    "start_time": "2022-01-01T15:53:52.348Z"
   },
   {
    "duration": 60,
    "start_time": "2022-01-01T15:54:10.227Z"
   },
   {
    "duration": 249,
    "start_time": "2022-01-01T15:56:16.677Z"
   },
   {
    "duration": 60,
    "start_time": "2022-01-01T15:56:28.916Z"
   },
   {
    "duration": 279,
    "start_time": "2022-01-01T16:02:23.422Z"
   },
   {
    "duration": 59,
    "start_time": "2022-01-01T16:02:37.147Z"
   },
   {
    "duration": 64,
    "start_time": "2022-01-01T16:03:28.286Z"
   },
   {
    "duration": 86,
    "start_time": "2022-01-01T16:06:08.501Z"
   },
   {
    "duration": 59,
    "start_time": "2022-01-01T16:06:32.467Z"
   },
   {
    "duration": 90,
    "start_time": "2022-01-01T16:06:43.781Z"
   },
   {
    "duration": 54,
    "start_time": "2022-01-01T16:07:06.918Z"
   },
   {
    "duration": 52,
    "start_time": "2022-01-01T16:09:08.110Z"
   },
   {
    "duration": 56,
    "start_time": "2022-01-01T16:10:33.597Z"
   },
   {
    "duration": 56,
    "start_time": "2022-01-01T16:16:27.666Z"
   },
   {
    "duration": 58,
    "start_time": "2022-01-01T16:16:47.230Z"
   },
   {
    "duration": 54,
    "start_time": "2022-01-01T16:17:11.210Z"
   },
   {
    "duration": 78,
    "start_time": "2022-01-01T16:21:12.644Z"
   },
   {
    "duration": 248,
    "start_time": "2022-01-01T16:21:37.169Z"
   },
   {
    "duration": 504,
    "start_time": "2022-01-01T16:21:55.235Z"
   },
   {
    "duration": 76,
    "start_time": "2022-01-01T16:22:35.742Z"
   },
   {
    "duration": 82,
    "start_time": "2022-01-01T16:22:49.305Z"
   },
   {
    "duration": 488,
    "start_time": "2022-01-01T16:23:17.558Z"
   },
   {
    "duration": 499,
    "start_time": "2022-01-01T16:23:39.036Z"
   },
   {
    "duration": 575,
    "start_time": "2022-01-01T16:23:43.758Z"
   },
   {
    "duration": 502,
    "start_time": "2022-01-01T16:23:46.846Z"
   },
   {
    "duration": 495,
    "start_time": "2022-01-01T16:23:49.587Z"
   },
   {
    "duration": 467,
    "start_time": "2022-01-01T16:24:17.696Z"
   },
   {
    "duration": 499,
    "start_time": "2022-01-01T16:24:26.246Z"
   },
   {
    "duration": 83,
    "start_time": "2022-01-01T16:24:57.099Z"
   },
   {
    "duration": 553,
    "start_time": "2022-01-01T16:25:07.241Z"
   },
   {
    "duration": 486,
    "start_time": "2022-01-01T16:25:14.549Z"
   },
   {
    "duration": 488,
    "start_time": "2022-01-01T16:25:26.929Z"
   },
   {
    "duration": 463,
    "start_time": "2022-01-01T16:26:47.130Z"
   },
   {
    "duration": 476,
    "start_time": "2022-01-01T16:26:54.346Z"
   },
   {
    "duration": 79,
    "start_time": "2022-01-01T16:27:22.634Z"
   },
   {
    "duration": 6134,
    "start_time": "2022-01-01T16:27:27.005Z"
   },
   {
    "duration": 491,
    "start_time": "2022-01-01T16:27:39.131Z"
   },
   {
    "duration": 135,
    "start_time": "2022-01-01T16:35:16.522Z"
   },
   {
    "duration": 75,
    "start_time": "2022-01-01T16:40:38.621Z"
   },
   {
    "duration": 247,
    "start_time": "2022-01-01T16:40:55.969Z"
   },
   {
    "duration": 245,
    "start_time": "2022-01-01T16:49:06.937Z"
   },
   {
    "duration": 263,
    "start_time": "2022-01-01T16:49:48.671Z"
   },
   {
    "duration": 251,
    "start_time": "2022-01-01T16:50:06.510Z"
   },
   {
    "duration": 677,
    "start_time": "2022-01-01T16:50:41.247Z"
   },
   {
    "duration": 252,
    "start_time": "2022-01-01T16:51:09.735Z"
   },
   {
    "duration": 34,
    "start_time": "2022-01-01T16:53:11.378Z"
   },
   {
    "duration": 35,
    "start_time": "2022-01-01T16:53:34.415Z"
   },
   {
    "duration": 34,
    "start_time": "2022-01-01T16:53:44.543Z"
   },
   {
    "duration": 57,
    "start_time": "2022-01-01T16:55:15.999Z"
   },
   {
    "duration": 71,
    "start_time": "2022-01-01T16:55:36.903Z"
   },
   {
    "duration": 328,
    "start_time": "2022-01-01T16:56:10.391Z"
   },
   {
    "duration": 338,
    "start_time": "2022-01-01T16:56:15.314Z"
   },
   {
    "duration": 70,
    "start_time": "2022-01-01T16:56:34.022Z"
   },
   {
    "duration": 65,
    "start_time": "2022-01-01T16:57:22.801Z"
   },
   {
    "duration": 62,
    "start_time": "2022-01-01T16:58:14.908Z"
   },
   {
    "duration": 6002,
    "start_time": "2022-01-01T16:58:28.718Z"
   },
   {
    "duration": 66,
    "start_time": "2022-01-01T16:58:52.696Z"
   },
   {
    "duration": 86,
    "start_time": "2022-01-01T16:59:27.171Z"
   },
   {
    "duration": 4318,
    "start_time": "2022-01-01T16:59:37.146Z"
   },
   {
    "duration": 248,
    "start_time": "2022-01-01T16:59:55.963Z"
   },
   {
    "duration": 291,
    "start_time": "2022-01-01T17:00:00.043Z"
   },
   {
    "duration": 62,
    "start_time": "2022-01-01T17:00:08.157Z"
   },
   {
    "duration": 60,
    "start_time": "2022-01-01T17:01:31.315Z"
   },
   {
    "duration": 6449,
    "start_time": "2022-01-01T17:03:28.539Z"
   },
   {
    "duration": 56,
    "start_time": "2022-01-01T17:03:38.113Z"
   },
   {
    "duration": 71,
    "start_time": "2022-01-01T17:04:35.429Z"
   },
   {
    "duration": 70,
    "start_time": "2022-01-01T17:11:22.843Z"
   },
   {
    "duration": 102,
    "start_time": "2022-01-01T17:25:28.867Z"
   },
   {
    "duration": 293,
    "start_time": "2022-01-01T17:28:27.690Z"
   },
   {
    "duration": 74,
    "start_time": "2022-01-01T17:28:55.661Z"
   },
   {
    "duration": 65,
    "start_time": "2022-01-01T17:29:12.355Z"
   },
   {
    "duration": 65,
    "start_time": "2022-01-01T17:29:30.309Z"
   },
   {
    "duration": 246,
    "start_time": "2022-01-01T17:30:33.007Z"
   },
   {
    "duration": 67,
    "start_time": "2022-01-01T17:30:49.822Z"
   },
   {
    "duration": 59,
    "start_time": "2022-01-01T17:31:07.667Z"
   },
   {
    "duration": 60,
    "start_time": "2022-01-01T17:31:24.301Z"
   },
   {
    "duration": 402,
    "start_time": "2022-01-01T17:34:21.132Z"
   },
   {
    "duration": 3,
    "start_time": "2022-01-01T17:34:21.536Z"
   },
   {
    "duration": 109,
    "start_time": "2022-01-01T17:34:21.541Z"
   },
   {
    "duration": 18,
    "start_time": "2022-01-01T17:34:21.652Z"
   },
   {
    "duration": 4,
    "start_time": "2022-01-01T17:34:21.672Z"
   },
   {
    "duration": 36,
    "start_time": "2022-01-01T17:34:21.678Z"
   },
   {
    "duration": 45,
    "start_time": "2022-01-01T17:34:21.715Z"
   },
   {
    "duration": 29,
    "start_time": "2022-01-01T17:34:21.763Z"
   },
   {
    "duration": 11,
    "start_time": "2022-01-01T17:34:21.794Z"
   },
   {
    "duration": 183,
    "start_time": "2022-01-01T17:34:21.807Z"
   },
   {
    "duration": 89,
    "start_time": "2022-01-01T17:34:21.991Z"
   },
   {
    "duration": 36,
    "start_time": "2022-01-01T17:34:22.082Z"
   },
   {
    "duration": 72,
    "start_time": "2022-01-01T17:34:22.120Z"
   },
   {
    "duration": 290,
    "start_time": "2022-01-01T17:34:22.194Z"
   },
   {
    "duration": 67,
    "start_time": "2022-01-01T17:34:33.869Z"
   },
   {
    "duration": 62,
    "start_time": "2022-01-01T17:34:55.997Z"
   },
   {
    "duration": 64,
    "start_time": "2022-01-01T17:36:19.150Z"
   },
   {
    "duration": 365,
    "start_time": "2022-01-01T17:40:30.044Z"
   },
   {
    "duration": 63,
    "start_time": "2022-01-01T17:41:27.896Z"
   },
   {
    "duration": 265,
    "start_time": "2022-01-01T17:41:49.810Z"
   },
   {
    "duration": 295,
    "start_time": "2022-01-01T17:42:23.755Z"
   },
   {
    "duration": 234,
    "start_time": "2022-01-01T17:43:06.762Z"
   },
   {
    "duration": 41,
    "start_time": "2022-01-01T17:43:35.694Z"
   },
   {
    "duration": 95,
    "start_time": "2022-01-01T17:44:55.429Z"
   },
   {
    "duration": 4,
    "start_time": "2022-01-01T17:45:16.195Z"
   },
   {
    "duration": 60,
    "start_time": "2022-01-01T17:45:40.057Z"
   },
   {
    "duration": 68,
    "start_time": "2022-01-01T17:45:57.159Z"
   },
   {
    "duration": 89,
    "start_time": "2022-01-01T17:47:05.572Z"
   },
   {
    "duration": 79,
    "start_time": "2022-01-01T17:47:55.966Z"
   },
   {
    "duration": 92,
    "start_time": "2022-01-01T17:48:16.983Z"
   },
   {
    "duration": 65,
    "start_time": "2022-01-01T17:48:31.271Z"
   },
   {
    "duration": 63,
    "start_time": "2022-01-01T17:48:57.086Z"
   },
   {
    "duration": 61,
    "start_time": "2022-01-01T17:49:18.342Z"
   },
   {
    "duration": 83,
    "start_time": "2022-01-01T17:57:49.405Z"
   },
   {
    "duration": 470,
    "start_time": "2022-01-01T17:58:11.544Z"
   },
   {
    "duration": 85,
    "start_time": "2022-01-01T17:58:41.611Z"
   },
   {
    "duration": 402,
    "start_time": "2022-01-01T18:00:09.604Z"
   },
   {
    "duration": 3,
    "start_time": "2022-01-01T18:00:10.008Z"
   },
   {
    "duration": 117,
    "start_time": "2022-01-01T18:00:10.013Z"
   },
   {
    "duration": 23,
    "start_time": "2022-01-01T18:00:10.132Z"
   },
   {
    "duration": 4,
    "start_time": "2022-01-01T18:00:10.157Z"
   },
   {
    "duration": 31,
    "start_time": "2022-01-01T18:00:10.163Z"
   },
   {
    "duration": 46,
    "start_time": "2022-01-01T18:00:10.196Z"
   },
   {
    "duration": 31,
    "start_time": "2022-01-01T18:00:10.244Z"
   },
   {
    "duration": 11,
    "start_time": "2022-01-01T18:00:10.277Z"
   },
   {
    "duration": 172,
    "start_time": "2022-01-01T18:00:10.289Z"
   },
   {
    "duration": 86,
    "start_time": "2022-01-01T18:00:10.462Z"
   },
   {
    "duration": 40,
    "start_time": "2022-01-01T18:00:10.550Z"
   },
   {
    "duration": 78,
    "start_time": "2022-01-01T18:00:10.592Z"
   },
   {
    "duration": 87,
    "start_time": "2022-01-01T18:00:10.671Z"
   },
   {
    "duration": 379,
    "start_time": "2022-01-01T18:02:13.253Z"
   },
   {
    "duration": 87,
    "start_time": "2022-01-01T18:03:21.277Z"
   },
   {
    "duration": 7120,
    "start_time": "2022-01-01T18:03:28.492Z"
   },
   {
    "duration": 6028,
    "start_time": "2022-01-01T18:03:52.176Z"
   },
   {
    "duration": 62,
    "start_time": "2022-01-01T18:04:10.581Z"
   },
   {
    "duration": 5,
    "start_time": "2022-01-01T18:04:19.738Z"
   },
   {
    "duration": 239,
    "start_time": "2022-01-01T18:04:22.915Z"
   },
   {
    "duration": 241,
    "start_time": "2022-01-01T18:04:37.934Z"
   },
   {
    "duration": 290,
    "start_time": "2022-01-01T18:04:43.788Z"
   },
   {
    "duration": 2,
    "start_time": "2022-01-01T18:05:21.126Z"
   },
   {
    "duration": 91,
    "start_time": "2022-01-01T18:05:42.206Z"
   },
   {
    "duration": 63,
    "start_time": "2022-01-01T18:07:17.139Z"
   },
   {
    "duration": 80,
    "start_time": "2022-01-01T18:07:45.298Z"
   },
   {
    "duration": 64,
    "start_time": "2022-01-01T18:07:52.665Z"
   },
   {
    "duration": 577,
    "start_time": "2022-01-01T18:08:30.300Z"
   },
   {
    "duration": 477,
    "start_time": "2022-01-01T18:08:37.581Z"
   },
   {
    "duration": 80,
    "start_time": "2022-01-01T18:09:03.934Z"
   },
   {
    "duration": 496,
    "start_time": "2022-01-01T18:09:43.979Z"
   },
   {
    "duration": 75,
    "start_time": "2022-01-01T18:10:09.123Z"
   },
   {
    "duration": 583,
    "start_time": "2022-01-01T18:10:24.668Z"
   },
   {
    "duration": 79,
    "start_time": "2022-01-01T18:10:33.763Z"
   },
   {
    "duration": 973,
    "start_time": "2022-01-01T18:10:55.643Z"
   },
   {
    "duration": 519,
    "start_time": "2022-01-01T18:11:10.571Z"
   },
   {
    "duration": 539,
    "start_time": "2022-01-01T18:11:30.709Z"
   },
   {
    "duration": 745,
    "start_time": "2022-01-01T18:12:25.680Z"
   },
   {
    "duration": 637,
    "start_time": "2022-01-01T18:13:15.620Z"
   },
   {
    "duration": 65,
    "start_time": "2022-01-01T18:15:47.907Z"
   },
   {
    "duration": 61,
    "start_time": "2022-01-01T18:15:51.012Z"
   },
   {
    "duration": 538,
    "start_time": "2022-01-01T18:18:34.558Z"
   },
   {
    "duration": 513,
    "start_time": "2022-01-01T18:18:48.859Z"
   },
   {
    "duration": 422,
    "start_time": "2022-01-01T18:19:05.889Z"
   },
   {
    "duration": 4,
    "start_time": "2022-01-01T18:19:06.313Z"
   },
   {
    "duration": 111,
    "start_time": "2022-01-01T18:19:06.319Z"
   },
   {
    "duration": 23,
    "start_time": "2022-01-01T18:19:06.432Z"
   },
   {
    "duration": 6,
    "start_time": "2022-01-01T18:19:06.457Z"
   },
   {
    "duration": 42,
    "start_time": "2022-01-01T18:19:06.465Z"
   },
   {
    "duration": 60,
    "start_time": "2022-01-01T18:19:06.510Z"
   },
   {
    "duration": 34,
    "start_time": "2022-01-01T18:19:06.573Z"
   },
   {
    "duration": 43,
    "start_time": "2022-01-01T18:19:06.610Z"
   },
   {
    "duration": 165,
    "start_time": "2022-01-01T18:19:06.654Z"
   },
   {
    "duration": 83,
    "start_time": "2022-01-01T18:19:06.821Z"
   },
   {
    "duration": 50,
    "start_time": "2022-01-01T18:19:06.906Z"
   },
   {
    "duration": 59,
    "start_time": "2022-01-01T18:19:06.957Z"
   },
   {
    "duration": 2,
    "start_time": "2022-01-01T18:19:07.018Z"
   },
   {
    "duration": 528,
    "start_time": "2022-01-01T18:19:07.041Z"
   },
   {
    "duration": 558,
    "start_time": "2022-01-01T18:21:40.723Z"
   },
   {
    "duration": 785,
    "start_time": "2022-01-01T18:21:55.133Z"
   },
   {
    "duration": 574,
    "start_time": "2022-01-01T18:22:06.595Z"
   },
   {
    "duration": 555,
    "start_time": "2022-01-01T18:22:28.622Z"
   },
   {
    "duration": 30,
    "start_time": "2022-01-01T18:23:05.995Z"
   },
   {
    "duration": 37,
    "start_time": "2022-01-01T18:23:12.656Z"
   },
   {
    "duration": 19,
    "start_time": "2022-01-01T18:23:19.461Z"
   },
   {
    "duration": 34,
    "start_time": "2022-01-01T18:23:27.125Z"
   },
   {
    "duration": 388,
    "start_time": "2022-01-01T18:23:40.353Z"
   },
   {
    "duration": 3,
    "start_time": "2022-01-01T18:23:40.743Z"
   },
   {
    "duration": 116,
    "start_time": "2022-01-01T18:23:40.748Z"
   },
   {
    "duration": 20,
    "start_time": "2022-01-01T18:23:40.865Z"
   },
   {
    "duration": 4,
    "start_time": "2022-01-01T18:23:40.887Z"
   },
   {
    "duration": 58,
    "start_time": "2022-01-01T18:23:40.892Z"
   },
   {
    "duration": 30,
    "start_time": "2022-01-01T18:23:40.952Z"
   },
   {
    "duration": 34,
    "start_time": "2022-01-01T18:23:40.985Z"
   },
   {
    "duration": 36,
    "start_time": "2022-01-01T18:23:41.021Z"
   },
   {
    "duration": 162,
    "start_time": "2022-01-01T18:23:41.059Z"
   },
   {
    "duration": 81,
    "start_time": "2022-01-01T18:23:41.222Z"
   },
   {
    "duration": 50,
    "start_time": "2022-01-01T18:23:41.305Z"
   },
   {
    "duration": 55,
    "start_time": "2022-01-01T18:23:41.357Z"
   },
   {
    "duration": 546,
    "start_time": "2022-01-01T18:23:41.414Z"
   },
   {
    "duration": 5,
    "start_time": "2022-01-01T18:24:08.392Z"
   },
   {
    "duration": 390,
    "start_time": "2022-01-01T18:24:20.937Z"
   },
   {
    "duration": 3,
    "start_time": "2022-01-01T18:24:21.329Z"
   },
   {
    "duration": 107,
    "start_time": "2022-01-01T18:24:21.334Z"
   },
   {
    "duration": 4,
    "start_time": "2022-01-01T18:24:21.443Z"
   },
   {
    "duration": 8,
    "start_time": "2022-01-01T18:24:21.449Z"
   },
   {
    "duration": 38,
    "start_time": "2022-01-01T18:24:21.459Z"
   },
   {
    "duration": 51,
    "start_time": "2022-01-01T18:24:21.498Z"
   },
   {
    "duration": 36,
    "start_time": "2022-01-01T18:24:21.551Z"
   },
   {
    "duration": 18,
    "start_time": "2022-01-01T18:24:21.588Z"
   },
   {
    "duration": 175,
    "start_time": "2022-01-01T18:24:21.608Z"
   },
   {
    "duration": 78,
    "start_time": "2022-01-01T18:24:21.785Z"
   },
   {
    "duration": 34,
    "start_time": "2022-01-01T18:24:21.864Z"
   },
   {
    "duration": 76,
    "start_time": "2022-01-01T18:24:21.899Z"
   },
   {
    "duration": 529,
    "start_time": "2022-01-01T18:24:21.976Z"
   },
   {
    "duration": 68,
    "start_time": "2022-01-01T18:52:20.767Z"
   },
   {
    "duration": 60,
    "start_time": "2022-01-01T18:52:51.328Z"
   },
   {
    "duration": 8,
    "start_time": "2022-01-01T18:56:45.142Z"
   },
   {
    "duration": 246,
    "start_time": "2022-01-01T18:57:30.871Z"
   },
   {
    "duration": 86,
    "start_time": "2022-01-01T18:58:07.328Z"
   },
   {
    "duration": 6,
    "start_time": "2022-01-01T18:58:12.953Z"
   },
   {
    "duration": 4,
    "start_time": "2022-01-01T18:58:44.818Z"
   },
   {
    "duration": 6,
    "start_time": "2022-01-01T18:59:24.107Z"
   },
   {
    "duration": 5,
    "start_time": "2022-01-01T19:00:22.244Z"
   },
   {
    "duration": 305,
    "start_time": "2022-01-01T19:01:01.483Z"
   },
   {
    "duration": 6,
    "start_time": "2022-01-01T19:01:25.500Z"
   },
   {
    "duration": 5,
    "start_time": "2022-01-01T19:02:42.705Z"
   },
   {
    "duration": 6,
    "start_time": "2022-01-01T19:02:46.865Z"
   },
   {
    "duration": 7,
    "start_time": "2022-01-01T19:03:06.378Z"
   },
   {
    "duration": 81,
    "start_time": "2022-01-01T19:03:22.107Z"
   },
   {
    "duration": 7,
    "start_time": "2022-01-01T19:03:34.182Z"
   },
   {
    "duration": 261,
    "start_time": "2022-01-01T19:03:44.933Z"
   },
   {
    "duration": 8,
    "start_time": "2022-01-01T19:03:49.062Z"
   },
   {
    "duration": 8,
    "start_time": "2022-01-01T19:04:30.402Z"
   },
   {
    "duration": 6,
    "start_time": "2022-01-01T19:04:38.839Z"
   },
   {
    "duration": 5,
    "start_time": "2022-01-01T19:04:52.153Z"
   },
   {
    "duration": 5,
    "start_time": "2022-01-01T19:05:01.863Z"
   },
   {
    "duration": 6,
    "start_time": "2022-01-01T19:05:49.743Z"
   },
   {
    "duration": 6,
    "start_time": "2022-01-01T19:06:22.622Z"
   },
   {
    "duration": 6,
    "start_time": "2022-01-01T19:07:45.516Z"
   },
   {
    "duration": 5,
    "start_time": "2022-01-01T19:07:58.053Z"
   },
   {
    "duration": 6,
    "start_time": "2022-01-01T19:08:05.625Z"
   },
   {
    "duration": 6,
    "start_time": "2022-01-01T19:08:09.293Z"
   },
   {
    "duration": 86,
    "start_time": "2022-01-01T19:08:14.018Z"
   },
   {
    "duration": 6,
    "start_time": "2022-01-01T19:08:20.638Z"
   },
   {
    "duration": 250,
    "start_time": "2022-01-01T19:08:57.136Z"
   },
   {
    "duration": 254,
    "start_time": "2022-01-01T19:09:15.705Z"
   },
   {
    "duration": 7,
    "start_time": "2022-01-01T19:12:39.454Z"
   },
   {
    "duration": 7,
    "start_time": "2022-01-01T19:13:35.375Z"
   },
   {
    "duration": 6,
    "start_time": "2022-01-01T19:13:41.047Z"
   },
   {
    "duration": 6,
    "start_time": "2022-01-01T19:13:49.375Z"
   },
   {
    "duration": 6,
    "start_time": "2022-01-01T19:14:16.286Z"
   },
   {
    "duration": 5,
    "start_time": "2022-01-01T19:14:28.506Z"
   },
   {
    "duration": 5,
    "start_time": "2022-01-01T19:24:09.409Z"
   },
   {
    "duration": 5,
    "start_time": "2022-01-01T19:30:14.467Z"
   },
   {
    "duration": 242,
    "start_time": "2022-01-01T19:37:02.189Z"
   },
   {
    "duration": 263,
    "start_time": "2022-01-01T19:38:25.857Z"
   },
   {
    "duration": 59,
    "start_time": "2022-01-01T19:38:52.927Z"
   },
   {
    "duration": 65,
    "start_time": "2022-01-01T19:39:25.368Z"
   },
   {
    "duration": 396,
    "start_time": "2022-01-01T19:40:51.793Z"
   },
   {
    "duration": 3,
    "start_time": "2022-01-01T19:40:52.190Z"
   },
   {
    "duration": 113,
    "start_time": "2022-01-01T19:40:52.195Z"
   },
   {
    "duration": 5,
    "start_time": "2022-01-01T19:40:52.309Z"
   },
   {
    "duration": 29,
    "start_time": "2022-01-01T19:40:52.315Z"
   },
   {
    "duration": 43,
    "start_time": "2022-01-01T19:40:52.345Z"
   },
   {
    "duration": 33,
    "start_time": "2022-01-01T19:40:52.390Z"
   },
   {
    "duration": 44,
    "start_time": "2022-01-01T19:40:52.425Z"
   },
   {
    "duration": 19,
    "start_time": "2022-01-01T19:40:52.470Z"
   },
   {
    "duration": 162,
    "start_time": "2022-01-01T19:40:52.490Z"
   },
   {
    "duration": 88,
    "start_time": "2022-01-01T19:40:52.653Z"
   },
   {
    "duration": 35,
    "start_time": "2022-01-01T19:40:52.742Z"
   },
   {
    "duration": 76,
    "start_time": "2022-01-01T19:40:52.778Z"
   },
   {
    "duration": 533,
    "start_time": "2022-01-01T19:40:52.855Z"
   },
   {
    "duration": 5,
    "start_time": "2022-01-01T19:40:53.389Z"
   },
   {
    "duration": 181,
    "start_time": "2022-01-01T19:47:14.431Z"
   },
   {
    "duration": 60,
    "start_time": "2022-01-01T19:47:28.877Z"
   },
   {
    "duration": 6052,
    "start_time": "2022-01-01T19:47:57.283Z"
   },
   {
    "duration": 57,
    "start_time": "2022-01-01T19:48:09.014Z"
   },
   {
    "duration": 56,
    "start_time": "2022-01-01T19:48:52.273Z"
   },
   {
    "duration": 62,
    "start_time": "2022-01-01T19:49:23.507Z"
   },
   {
    "duration": 6650,
    "start_time": "2022-01-01T19:49:54.717Z"
   },
   {
    "duration": 59,
    "start_time": "2022-01-01T19:50:37.727Z"
   },
   {
    "duration": 51,
    "start_time": "2022-01-01T19:50:58.371Z"
   },
   {
    "duration": 62,
    "start_time": "2022-01-01T19:51:27.359Z"
   },
   {
    "duration": 49,
    "start_time": "2022-01-01T19:51:39.352Z"
   },
   {
    "duration": 52,
    "start_time": "2022-01-01T19:51:50.313Z"
   },
   {
    "duration": 5987,
    "start_time": "2022-01-01T19:52:37.394Z"
   },
   {
    "duration": 52,
    "start_time": "2022-01-01T19:52:50.147Z"
   },
   {
    "duration": 51,
    "start_time": "2022-01-01T19:58:13.253Z"
   },
   {
    "duration": 54,
    "start_time": "2022-01-01T19:58:34.696Z"
   },
   {
    "duration": 66,
    "start_time": "2022-01-01T19:59:05.308Z"
   },
   {
    "duration": 50,
    "start_time": "2022-01-01T19:59:12.806Z"
   },
   {
    "duration": 91,
    "start_time": "2022-01-01T19:59:52.581Z"
   },
   {
    "duration": 55,
    "start_time": "2022-01-01T19:59:59.571Z"
   },
   {
    "duration": 63,
    "start_time": "2022-01-01T20:00:32.154Z"
   },
   {
    "duration": 79,
    "start_time": "2022-01-01T20:00:47.444Z"
   },
   {
    "duration": 6102,
    "start_time": "2022-01-01T20:00:54.861Z"
   },
   {
    "duration": 61,
    "start_time": "2022-01-01T20:01:29.494Z"
   },
   {
    "duration": 55,
    "start_time": "2022-01-01T20:01:35.744Z"
   },
   {
    "duration": 63,
    "start_time": "2022-01-01T20:10:06.346Z"
   },
   {
    "duration": 60,
    "start_time": "2022-01-01T20:10:16.360Z"
   },
   {
    "duration": 438,
    "start_time": "2022-01-01T20:10:35.374Z"
   },
   {
    "duration": 3,
    "start_time": "2022-01-01T20:10:35.814Z"
   },
   {
    "duration": 115,
    "start_time": "2022-01-01T20:10:35.819Z"
   },
   {
    "duration": 4,
    "start_time": "2022-01-01T20:10:35.936Z"
   },
   {
    "duration": 14,
    "start_time": "2022-01-01T20:10:35.942Z"
   },
   {
    "duration": 54,
    "start_time": "2022-01-01T20:10:35.958Z"
   },
   {
    "duration": 34,
    "start_time": "2022-01-01T20:10:36.013Z"
   },
   {
    "duration": 37,
    "start_time": "2022-01-01T20:10:36.049Z"
   },
   {
    "duration": 19,
    "start_time": "2022-01-01T20:10:36.087Z"
   },
   {
    "duration": 171,
    "start_time": "2022-01-01T20:10:36.108Z"
   },
   {
    "duration": 93,
    "start_time": "2022-01-01T20:10:36.280Z"
   },
   {
    "duration": 38,
    "start_time": "2022-01-01T20:10:36.374Z"
   },
   {
    "duration": 88,
    "start_time": "2022-01-01T20:10:36.414Z"
   },
   {
    "duration": 591,
    "start_time": "2022-01-01T20:10:36.504Z"
   },
   {
    "duration": 6,
    "start_time": "2022-01-01T20:10:37.097Z"
   },
   {
    "duration": 9,
    "start_time": "2022-01-01T20:14:02.787Z"
   },
   {
    "duration": 10,
    "start_time": "2022-01-01T20:15:16.170Z"
   },
   {
    "duration": 10,
    "start_time": "2022-01-01T20:15:34.624Z"
   },
   {
    "duration": 89,
    "start_time": "2022-01-01T20:18:13.565Z"
   },
   {
    "duration": 85,
    "start_time": "2022-01-01T20:18:21.160Z"
   },
   {
    "duration": 80,
    "start_time": "2022-01-01T20:18:39.904Z"
   },
   {
    "duration": 75,
    "start_time": "2022-01-01T20:19:16.224Z"
   },
   {
    "duration": 79,
    "start_time": "2022-01-01T20:19:22.846Z"
   },
   {
    "duration": 91,
    "start_time": "2022-01-01T20:19:29.946Z"
   },
   {
    "duration": 11,
    "start_time": "2022-01-01T20:19:32.104Z"
   },
   {
    "duration": 243,
    "start_time": "2022-01-01T20:19:51.316Z"
   },
   {
    "duration": 11,
    "start_time": "2022-01-01T20:20:02.999Z"
   },
   {
    "duration": 11,
    "start_time": "2022-01-01T20:20:10.681Z"
   },
   {
    "duration": 10,
    "start_time": "2022-01-01T20:24:14.198Z"
   },
   {
    "duration": 10,
    "start_time": "2022-01-01T20:24:20.339Z"
   },
   {
    "duration": 8,
    "start_time": "2022-01-01T20:24:52.706Z"
   },
   {
    "duration": 80,
    "start_time": "2022-01-01T20:26:49.899Z"
   },
   {
    "duration": 10,
    "start_time": "2022-01-01T20:26:54.292Z"
   },
   {
    "duration": 11,
    "start_time": "2022-01-01T20:27:50.844Z"
   },
   {
    "duration": 86,
    "start_time": "2022-01-01T20:28:08.388Z"
   },
   {
    "duration": 83,
    "start_time": "2022-01-01T20:28:38.264Z"
   },
   {
    "duration": 76,
    "start_time": "2022-01-01T20:28:50.841Z"
   },
   {
    "duration": 80,
    "start_time": "2022-01-01T20:29:04.911Z"
   },
   {
    "duration": 11,
    "start_time": "2022-01-01T20:29:19.765Z"
   },
   {
    "duration": 10,
    "start_time": "2022-01-01T20:29:24.811Z"
   },
   {
    "duration": 95,
    "start_time": "2022-01-01T20:29:32.308Z"
   },
   {
    "duration": 11,
    "start_time": "2022-01-01T20:29:37.863Z"
   },
   {
    "duration": 82,
    "start_time": "2022-01-01T20:29:39.927Z"
   },
   {
    "duration": 12,
    "start_time": "2022-01-01T20:29:42.919Z"
   },
   {
    "duration": 11,
    "start_time": "2022-01-01T20:30:23.731Z"
   },
   {
    "duration": 12,
    "start_time": "2022-01-01T20:30:30.288Z"
   },
   {
    "duration": 11,
    "start_time": "2022-01-01T20:30:37.492Z"
   },
   {
    "duration": 11,
    "start_time": "2022-01-01T20:34:26.017Z"
   },
   {
    "duration": 10,
    "start_time": "2022-01-01T20:43:51.913Z"
   },
   {
    "duration": 397,
    "start_time": "2022-01-01T21:02:37.553Z"
   },
   {
    "duration": 3,
    "start_time": "2022-01-01T21:02:37.952Z"
   },
   {
    "duration": 120,
    "start_time": "2022-01-01T21:02:37.957Z"
   },
   {
    "duration": 4,
    "start_time": "2022-01-01T21:02:38.079Z"
   },
   {
    "duration": 9,
    "start_time": "2022-01-01T21:02:38.085Z"
   },
   {
    "duration": 50,
    "start_time": "2022-01-01T21:02:38.095Z"
   },
   {
    "duration": 30,
    "start_time": "2022-01-01T21:02:38.147Z"
   },
   {
    "duration": 35,
    "start_time": "2022-01-01T21:02:38.178Z"
   },
   {
    "duration": 39,
    "start_time": "2022-01-01T21:02:38.215Z"
   },
   {
    "duration": 154,
    "start_time": "2022-01-01T21:02:38.256Z"
   },
   {
    "duration": 85,
    "start_time": "2022-01-01T21:02:38.411Z"
   },
   {
    "duration": 48,
    "start_time": "2022-01-01T21:02:38.497Z"
   },
   {
    "duration": 58,
    "start_time": "2022-01-01T21:02:38.547Z"
   },
   {
    "duration": 537,
    "start_time": "2022-01-01T21:02:38.606Z"
   },
   {
    "duration": 10,
    "start_time": "2022-01-01T21:02:39.145Z"
   },
   {
    "duration": 11,
    "start_time": "2022-01-01T21:02:39.156Z"
   },
   {
    "duration": 248,
    "start_time": "2022-01-01T21:03:46.154Z"
   },
   {
    "duration": 11,
    "start_time": "2022-01-01T21:03:53.810Z"
   },
   {
    "duration": 400,
    "start_time": "2022-01-01T21:06:09.348Z"
   },
   {
    "duration": 3,
    "start_time": "2022-01-01T21:06:09.750Z"
   },
   {
    "duration": 117,
    "start_time": "2022-01-01T21:06:09.755Z"
   },
   {
    "duration": 4,
    "start_time": "2022-01-01T21:06:09.874Z"
   },
   {
    "duration": 7,
    "start_time": "2022-01-01T21:06:09.879Z"
   },
   {
    "duration": 41,
    "start_time": "2022-01-01T21:06:09.888Z"
   },
   {
    "duration": 32,
    "start_time": "2022-01-01T21:06:09.931Z"
   },
   {
    "duration": 37,
    "start_time": "2022-01-01T21:06:09.966Z"
   },
   {
    "duration": 49,
    "start_time": "2022-01-01T21:06:10.005Z"
   },
   {
    "duration": 155,
    "start_time": "2022-01-01T21:06:10.055Z"
   },
   {
    "duration": 82,
    "start_time": "2022-01-01T21:06:10.211Z"
   },
   {
    "duration": 51,
    "start_time": "2022-01-01T21:06:10.295Z"
   },
   {
    "duration": 58,
    "start_time": "2022-01-01T21:06:10.348Z"
   },
   {
    "duration": 542,
    "start_time": "2022-01-01T21:06:10.408Z"
   },
   {
    "duration": 10,
    "start_time": "2022-01-01T21:06:10.951Z"
   },
   {
    "duration": 1783,
    "start_time": "2022-01-02T21:53:20.508Z"
   },
   {
    "duration": 4,
    "start_time": "2022-01-02T21:53:22.294Z"
   },
   {
    "duration": 160,
    "start_time": "2022-01-02T21:53:22.301Z"
   },
   {
    "duration": 8,
    "start_time": "2022-01-02T21:53:22.464Z"
   },
   {
    "duration": 8,
    "start_time": "2022-01-02T21:53:22.474Z"
   },
   {
    "duration": 85,
    "start_time": "2022-01-02T21:53:22.484Z"
   },
   {
    "duration": 59,
    "start_time": "2022-01-02T21:53:22.572Z"
   },
   {
    "duration": 50,
    "start_time": "2022-01-02T21:53:22.634Z"
   },
   {
    "duration": 56,
    "start_time": "2022-01-02T21:53:22.688Z"
   },
   {
    "duration": 285,
    "start_time": "2022-01-02T21:53:22.747Z"
   },
   {
    "duration": 138,
    "start_time": "2022-01-02T21:53:23.035Z"
   },
   {
    "duration": 79,
    "start_time": "2022-01-02T21:53:23.175Z"
   },
   {
    "duration": 110,
    "start_time": "2022-01-02T21:53:23.256Z"
   },
   {
    "duration": 933,
    "start_time": "2022-01-02T21:53:23.369Z"
   },
   {
    "duration": 25,
    "start_time": "2022-01-02T21:53:24.304Z"
   },
   {
    "duration": 10,
    "start_time": "2022-01-02T21:53:42.822Z"
   },
   {
    "duration": 440,
    "start_time": "2022-01-02T21:55:51.602Z"
   },
   {
    "duration": 343,
    "start_time": "2022-01-02T21:56:02.349Z"
   },
   {
    "duration": 25,
    "start_time": "2022-01-02T21:59:18.130Z"
   },
   {
    "duration": 329,
    "start_time": "2022-01-02T21:59:50.243Z"
   },
   {
    "duration": 42,
    "start_time": "2022-01-02T22:00:28.910Z"
   },
   {
    "duration": 8,
    "start_time": "2022-01-02T22:00:47.951Z"
   },
   {
    "duration": 8,
    "start_time": "2022-01-02T22:00:52.650Z"
   },
   {
    "duration": 5854,
    "start_time": "2022-01-02T22:00:58.380Z"
   },
   {
    "duration": 8,
    "start_time": "2022-01-02T22:01:09.535Z"
   },
   {
    "duration": 3,
    "start_time": "2022-01-02T22:01:34.060Z"
   },
   {
    "duration": 24,
    "start_time": "2022-01-02T22:03:01.153Z"
   },
   {
    "duration": 12,
    "start_time": "2022-01-02T22:04:21.521Z"
   },
   {
    "duration": 18,
    "start_time": "2022-01-02T22:04:43.017Z"
   },
   {
    "duration": 20,
    "start_time": "2022-01-02T22:04:59.569Z"
   },
   {
    "duration": 14,
    "start_time": "2022-01-02T22:05:13.638Z"
   },
   {
    "duration": 16,
    "start_time": "2022-01-02T22:07:21.380Z"
   },
   {
    "duration": 25,
    "start_time": "2022-01-02T22:08:07.977Z"
   },
   {
    "duration": 489,
    "start_time": "2022-01-02T22:08:40.564Z"
   },
   {
    "duration": 16,
    "start_time": "2022-01-02T22:09:06.167Z"
   },
   {
    "duration": 488,
    "start_time": "2022-01-02T22:10:19.699Z"
   },
   {
    "duration": 20,
    "start_time": "2022-01-02T22:10:41.055Z"
   },
   {
    "duration": 478,
    "start_time": "2022-01-02T22:10:56.996Z"
   },
   {
    "duration": 20,
    "start_time": "2022-01-02T22:11:27.391Z"
   },
   {
    "duration": 24,
    "start_time": "2022-01-02T22:11:41.001Z"
   },
   {
    "duration": 476,
    "start_time": "2022-01-02T22:11:46.888Z"
   },
   {
    "duration": 24,
    "start_time": "2022-01-02T22:11:57.342Z"
   },
   {
    "duration": 293,
    "start_time": "2022-01-02T22:13:05.819Z"
   },
   {
    "duration": 20,
    "start_time": "2022-01-02T22:13:28.944Z"
   },
   {
    "duration": 25,
    "start_time": "2022-01-02T22:13:53.386Z"
   },
   {
    "duration": 12,
    "start_time": "2022-01-02T22:13:59.240Z"
   },
   {
    "duration": 15,
    "start_time": "2022-01-02T22:14:04.536Z"
   },
   {
    "duration": 19,
    "start_time": "2022-01-02T22:14:09.535Z"
   },
   {
    "duration": 16,
    "start_time": "2022-01-02T22:14:16.888Z"
   },
   {
    "duration": 17,
    "start_time": "2022-01-02T22:14:30.571Z"
   },
   {
    "duration": 310,
    "start_time": "2022-01-02T22:14:36.614Z"
   },
   {
    "duration": 15,
    "start_time": "2022-01-02T22:14:41.752Z"
   },
   {
    "duration": 14,
    "start_time": "2022-01-02T22:15:03.037Z"
   },
   {
    "duration": 304,
    "start_time": "2022-01-02T22:16:01.956Z"
   },
   {
    "duration": 15,
    "start_time": "2022-01-02T22:16:12.201Z"
   },
   {
    "duration": 15,
    "start_time": "2022-01-02T22:16:53.525Z"
   },
   {
    "duration": 524,
    "start_time": "2022-01-02T22:17:41.471Z"
   },
   {
    "duration": 19,
    "start_time": "2022-01-02T22:17:44.914Z"
   },
   {
    "duration": 448,
    "start_time": "2022-01-02T22:18:04.480Z"
   },
   {
    "duration": 15,
    "start_time": "2022-01-02T22:18:09.794Z"
   },
   {
    "duration": 16,
    "start_time": "2022-01-02T22:18:46.565Z"
   },
   {
    "duration": 14,
    "start_time": "2022-01-02T22:19:13.037Z"
   },
   {
    "duration": 16,
    "start_time": "2022-01-02T22:20:15.968Z"
   },
   {
    "duration": 17,
    "start_time": "2022-01-02T22:22:11.874Z"
   },
   {
    "duration": 301,
    "start_time": "2022-01-02T22:23:47.202Z"
   },
   {
    "duration": 289,
    "start_time": "2022-01-02T22:23:50.799Z"
   },
   {
    "duration": 287,
    "start_time": "2022-01-02T22:23:56.432Z"
   },
   {
    "duration": 345,
    "start_time": "2022-01-02T22:24:01.911Z"
   },
   {
    "duration": 16,
    "start_time": "2022-01-02T22:24:11.056Z"
   },
   {
    "duration": 342,
    "start_time": "2022-01-02T22:24:16.322Z"
   },
   {
    "duration": 295,
    "start_time": "2022-01-02T22:24:50.732Z"
   },
   {
    "duration": 307,
    "start_time": "2022-01-02T22:25:09.246Z"
   },
   {
    "duration": 315,
    "start_time": "2022-01-02T22:25:16.718Z"
   },
   {
    "duration": 16,
    "start_time": "2022-01-02T22:27:57.368Z"
   },
   {
    "duration": 295,
    "start_time": "2022-01-02T22:28:09.004Z"
   },
   {
    "duration": 17,
    "start_time": "2022-01-02T22:28:19.523Z"
   },
   {
    "duration": 23,
    "start_time": "2022-01-02T22:34:43.974Z"
   },
   {
    "duration": 21,
    "start_time": "2022-01-02T22:34:56.118Z"
   },
   {
    "duration": 5890,
    "start_time": "2022-01-02T22:44:42.532Z"
   },
   {
    "duration": 19,
    "start_time": "2022-01-02T22:45:00.823Z"
   },
   {
    "duration": 21,
    "start_time": "2022-01-02T22:45:15.097Z"
   },
   {
    "duration": 25,
    "start_time": "2022-01-02T22:45:51.224Z"
   },
   {
    "duration": 22,
    "start_time": "2022-01-02T22:46:25.166Z"
   },
   {
    "duration": 22,
    "start_time": "2022-01-02T22:49:00.179Z"
   },
   {
    "duration": 313,
    "start_time": "2022-01-02T22:51:45.965Z"
   },
   {
    "duration": 293,
    "start_time": "2022-01-02T22:53:54.108Z"
   },
   {
    "duration": 315,
    "start_time": "2022-01-02T22:54:05.008Z"
   },
   {
    "duration": 313,
    "start_time": "2022-01-02T22:54:22.335Z"
   },
   {
    "duration": 310,
    "start_time": "2022-01-02T22:54:35.207Z"
   },
   {
    "duration": 31,
    "start_time": "2022-01-02T22:54:56.898Z"
   },
   {
    "duration": 29,
    "start_time": "2022-01-02T22:55:00.654Z"
   },
   {
    "duration": 27,
    "start_time": "2022-01-02T23:00:40.988Z"
   },
   {
    "duration": 30,
    "start_time": "2022-01-02T23:00:53.368Z"
   },
   {
    "duration": 29,
    "start_time": "2022-01-02T23:02:10.667Z"
   },
   {
    "duration": 30,
    "start_time": "2022-01-02T23:02:35.313Z"
   },
   {
    "duration": 30,
    "start_time": "2022-01-02T23:02:42.323Z"
   },
   {
    "duration": 31,
    "start_time": "2022-01-02T23:04:44.907Z"
   },
   {
    "duration": 31,
    "start_time": "2022-01-02T23:04:58.774Z"
   },
   {
    "duration": 31,
    "start_time": "2022-01-02T23:05:03.006Z"
   },
   {
    "duration": 30,
    "start_time": "2022-01-02T23:05:19.132Z"
   },
   {
    "duration": 30,
    "start_time": "2022-01-02T23:07:37.937Z"
   },
   {
    "duration": 30,
    "start_time": "2022-01-02T23:07:48.469Z"
   },
   {
    "duration": 31,
    "start_time": "2022-01-02T23:08:08.696Z"
   },
   {
    "duration": 97,
    "start_time": "2022-01-02T23:10:51.164Z"
   },
   {
    "duration": 33,
    "start_time": "2022-01-02T23:11:25.886Z"
   },
   {
    "duration": 323,
    "start_time": "2022-01-02T23:11:52.476Z"
   },
   {
    "duration": 105,
    "start_time": "2022-01-02T23:13:22.012Z"
   },
   {
    "duration": 35,
    "start_time": "2022-01-02T23:13:27.031Z"
   },
   {
    "duration": 35,
    "start_time": "2022-01-02T23:13:42.816Z"
   },
   {
    "duration": 43,
    "start_time": "2022-01-02T23:14:13.135Z"
   },
   {
    "duration": 39,
    "start_time": "2022-01-02T23:14:32.464Z"
   },
   {
    "duration": 34,
    "start_time": "2022-01-02T23:14:42.761Z"
   },
   {
    "duration": 96,
    "start_time": "2022-01-02T23:15:10.940Z"
   },
   {
    "duration": 35,
    "start_time": "2022-01-02T23:15:46.111Z"
   },
   {
    "duration": 117,
    "start_time": "2022-01-02T23:16:23.952Z"
   },
   {
    "duration": 33,
    "start_time": "2022-01-02T23:17:03.937Z"
   },
   {
    "duration": 35,
    "start_time": "2022-01-02T23:17:48.438Z"
   },
   {
    "duration": 35,
    "start_time": "2022-01-02T23:18:50.067Z"
   },
   {
    "duration": 38,
    "start_time": "2022-01-02T23:20:10.985Z"
   },
   {
    "duration": 35,
    "start_time": "2022-01-02T23:21:01.202Z"
   },
   {
    "duration": 37,
    "start_time": "2022-01-02T23:21:55.731Z"
   },
   {
    "duration": 39,
    "start_time": "2022-01-02T23:22:23.645Z"
   },
   {
    "duration": 37,
    "start_time": "2022-01-02T23:22:55.526Z"
   },
   {
    "duration": 37,
    "start_time": "2022-01-02T23:23:08.659Z"
   },
   {
    "duration": 34,
    "start_time": "2022-01-02T23:23:34.944Z"
   },
   {
    "duration": 37,
    "start_time": "2022-01-02T23:24:01.752Z"
   },
   {
    "duration": 36,
    "start_time": "2022-01-02T23:24:16.446Z"
   },
   {
    "duration": 34,
    "start_time": "2022-01-02T23:24:26.713Z"
   },
   {
    "duration": 32,
    "start_time": "2022-01-02T23:24:55.097Z"
   },
   {
    "duration": 32,
    "start_time": "2022-01-02T23:25:57.126Z"
   },
   {
    "duration": 35,
    "start_time": "2022-01-02T23:27:20.371Z"
   },
   {
    "duration": 31,
    "start_time": "2022-01-02T23:28:50.558Z"
   },
   {
    "duration": 513,
    "start_time": "2022-01-02T23:33:39.640Z"
   },
   {
    "duration": 4,
    "start_time": "2022-01-02T23:33:40.156Z"
   },
   {
    "duration": 194,
    "start_time": "2022-01-02T23:33:40.162Z"
   },
   {
    "duration": 5,
    "start_time": "2022-01-02T23:33:40.359Z"
   },
   {
    "duration": 7,
    "start_time": "2022-01-02T23:33:40.366Z"
   },
   {
    "duration": 89,
    "start_time": "2022-01-02T23:33:40.375Z"
   },
   {
    "duration": 59,
    "start_time": "2022-01-02T23:33:40.467Z"
   },
   {
    "duration": 51,
    "start_time": "2022-01-02T23:33:40.529Z"
   },
   {
    "duration": 61,
    "start_time": "2022-01-02T23:33:40.583Z"
   },
   {
    "duration": 283,
    "start_time": "2022-01-02T23:33:40.647Z"
   },
   {
    "duration": 140,
    "start_time": "2022-01-02T23:33:40.932Z"
   },
   {
    "duration": 83,
    "start_time": "2022-01-02T23:33:41.074Z"
   },
   {
    "duration": 121,
    "start_time": "2022-01-02T23:33:41.160Z"
   },
   {
    "duration": 900,
    "start_time": "2022-01-02T23:33:41.283Z"
   },
   {
    "duration": 17,
    "start_time": "2022-01-02T23:33:42.185Z"
   },
   {
    "duration": 23,
    "start_time": "2022-01-02T23:33:42.223Z"
   },
   {
    "duration": 32,
    "start_time": "2022-01-02T23:33:42.249Z"
   },
   {
    "duration": 1390,
    "start_time": "2022-01-03T12:21:16.242Z"
   },
   {
    "duration": 3,
    "start_time": "2022-01-03T12:21:17.634Z"
   },
   {
    "duration": 116,
    "start_time": "2022-01-03T12:21:17.639Z"
   },
   {
    "duration": 6,
    "start_time": "2022-01-03T12:21:17.757Z"
   },
   {
    "duration": 8,
    "start_time": "2022-01-03T12:21:17.765Z"
   },
   {
    "duration": 59,
    "start_time": "2022-01-03T12:21:17.774Z"
   },
   {
    "duration": 38,
    "start_time": "2022-01-03T12:21:17.835Z"
   },
   {
    "duration": 51,
    "start_time": "2022-01-03T12:21:17.875Z"
   },
   {
    "duration": 20,
    "start_time": "2022-01-03T12:21:17.928Z"
   },
   {
    "duration": 179,
    "start_time": "2022-01-03T12:21:17.950Z"
   },
   {
    "duration": 84,
    "start_time": "2022-01-03T12:21:18.131Z"
   },
   {
    "duration": 42,
    "start_time": "2022-01-03T12:21:18.216Z"
   },
   {
    "duration": 83,
    "start_time": "2022-01-03T12:21:18.259Z"
   },
   {
    "duration": 633,
    "start_time": "2022-01-03T12:21:18.344Z"
   },
   {
    "duration": 18,
    "start_time": "2022-01-03T12:21:18.979Z"
   },
   {
    "duration": 18,
    "start_time": "2022-01-03T12:21:18.999Z"
   },
   {
    "duration": 22,
    "start_time": "2022-01-03T12:21:19.019Z"
   },
   {
    "duration": 21,
    "start_time": "2022-01-03T12:22:14.114Z"
   },
   {
    "duration": 22,
    "start_time": "2022-01-03T12:22:26.261Z"
   },
   {
    "duration": 21,
    "start_time": "2022-01-03T12:28:16.389Z"
   },
   {
    "duration": 260,
    "start_time": "2022-01-03T12:28:40.588Z"
   },
   {
    "duration": 22,
    "start_time": "2022-01-03T12:28:47.688Z"
   },
   {
    "duration": 22,
    "start_time": "2022-01-03T12:28:54.629Z"
   },
   {
    "duration": 20,
    "start_time": "2022-01-03T12:36:44.842Z"
   },
   {
    "duration": 22,
    "start_time": "2022-01-03T12:37:26.090Z"
   },
   {
    "duration": 22,
    "start_time": "2022-01-03T12:37:31.555Z"
   },
   {
    "duration": 60,
    "start_time": "2022-01-03T12:40:08.050Z"
   },
   {
    "duration": 73,
    "start_time": "2022-01-03T12:40:16.469Z"
   },
   {
    "duration": 22,
    "start_time": "2022-01-03T12:40:26.021Z"
   },
   {
    "duration": 22,
    "start_time": "2022-01-03T12:40:42.890Z"
   },
   {
    "duration": 22,
    "start_time": "2022-01-03T12:40:59.449Z"
   },
   {
    "duration": 22,
    "start_time": "2022-01-03T12:41:17.070Z"
   },
   {
    "duration": 7,
    "start_time": "2022-01-03T12:41:57.514Z"
   },
   {
    "duration": 22,
    "start_time": "2022-01-03T12:42:04.816Z"
   },
   {
    "duration": 23,
    "start_time": "2022-01-03T12:42:12.855Z"
   },
   {
    "duration": 23,
    "start_time": "2022-01-03T12:45:43.536Z"
   },
   {
    "duration": 22,
    "start_time": "2022-01-03T12:50:54.218Z"
   },
   {
    "duration": 59,
    "start_time": "2022-01-03T12:51:17.877Z"
   },
   {
    "duration": 21,
    "start_time": "2022-01-03T12:51:43.765Z"
   },
   {
    "duration": 21,
    "start_time": "2022-01-03T12:52:19.241Z"
   },
   {
    "duration": 21,
    "start_time": "2022-01-03T12:53:42.449Z"
   },
   {
    "duration": 23,
    "start_time": "2022-01-03T12:54:05.797Z"
   },
   {
    "duration": 22,
    "start_time": "2022-01-03T12:54:23.948Z"
   },
   {
    "duration": 22,
    "start_time": "2022-01-03T12:54:41.394Z"
   },
   {
    "duration": 425,
    "start_time": "2022-01-03T12:58:56.680Z"
   },
   {
    "duration": 4,
    "start_time": "2022-01-03T12:58:57.109Z"
   },
   {
    "duration": 134,
    "start_time": "2022-01-03T12:58:57.115Z"
   },
   {
    "duration": 5,
    "start_time": "2022-01-03T12:58:57.250Z"
   },
   {
    "duration": 9,
    "start_time": "2022-01-03T12:58:57.256Z"
   },
   {
    "duration": 54,
    "start_time": "2022-01-03T12:58:57.266Z"
   },
   {
    "duration": 33,
    "start_time": "2022-01-03T12:58:57.322Z"
   },
   {
    "duration": 57,
    "start_time": "2022-01-03T12:58:57.357Z"
   },
   {
    "duration": 19,
    "start_time": "2022-01-03T12:58:57.416Z"
   },
   {
    "duration": 177,
    "start_time": "2022-01-03T12:58:57.437Z"
   },
   {
    "duration": 89,
    "start_time": "2022-01-03T12:58:57.615Z"
   },
   {
    "duration": 39,
    "start_time": "2022-01-03T12:58:57.706Z"
   },
   {
    "duration": 88,
    "start_time": "2022-01-03T12:58:57.747Z"
   },
   {
    "duration": 626,
    "start_time": "2022-01-03T12:58:57.837Z"
   },
   {
    "duration": 27,
    "start_time": "2022-01-03T12:58:58.465Z"
   },
   {
    "duration": 20,
    "start_time": "2022-01-03T12:58:58.494Z"
   },
   {
    "duration": 21,
    "start_time": "2022-01-03T12:58:58.516Z"
   },
   {
    "duration": 430,
    "start_time": "2022-01-03T13:01:11.982Z"
   },
   {
    "duration": 3,
    "start_time": "2022-01-03T13:01:12.414Z"
   },
   {
    "duration": 135,
    "start_time": "2022-01-03T13:01:12.419Z"
   },
   {
    "duration": 5,
    "start_time": "2022-01-03T13:01:12.556Z"
   },
   {
    "duration": 14,
    "start_time": "2022-01-03T13:01:12.562Z"
   },
   {
    "duration": 55,
    "start_time": "2022-01-03T13:01:12.577Z"
   },
   {
    "duration": 35,
    "start_time": "2022-01-03T13:01:12.634Z"
   },
   {
    "duration": 40,
    "start_time": "2022-01-03T13:01:12.692Z"
   },
   {
    "duration": 23,
    "start_time": "2022-01-03T13:01:12.734Z"
   },
   {
    "duration": 192,
    "start_time": "2022-01-03T13:01:12.759Z"
   },
   {
    "duration": 91,
    "start_time": "2022-01-03T13:01:12.953Z"
   },
   {
    "duration": 53,
    "start_time": "2022-01-03T13:01:13.045Z"
   },
   {
    "duration": 66,
    "start_time": "2022-01-03T13:01:13.099Z"
   },
   {
    "duration": 656,
    "start_time": "2022-01-03T13:01:13.167Z"
   },
   {
    "duration": 11,
    "start_time": "2022-01-03T13:01:13.825Z"
   },
   {
    "duration": 33,
    "start_time": "2022-01-03T13:01:13.838Z"
   },
   {
    "duration": 34,
    "start_time": "2022-01-03T13:01:13.872Z"
   },
   {
    "duration": 24,
    "start_time": "2022-01-03T13:08:54.254Z"
   },
   {
    "duration": 23,
    "start_time": "2022-01-03T13:09:02.646Z"
   },
   {
    "duration": 21,
    "start_time": "2022-01-03T13:09:06.327Z"
   },
   {
    "duration": 23,
    "start_time": "2022-01-03T13:09:28.995Z"
   },
   {
    "duration": 431,
    "start_time": "2022-01-03T13:23:45.200Z"
   },
   {
    "duration": 3,
    "start_time": "2022-01-03T13:23:45.633Z"
   },
   {
    "duration": 120,
    "start_time": "2022-01-03T13:23:45.638Z"
   },
   {
    "duration": 4,
    "start_time": "2022-01-03T13:23:45.760Z"
   },
   {
    "duration": 6,
    "start_time": "2022-01-03T13:23:45.766Z"
   },
   {
    "duration": 52,
    "start_time": "2022-01-03T13:23:45.773Z"
   },
   {
    "duration": 36,
    "start_time": "2022-01-03T13:23:45.827Z"
   },
   {
    "duration": 58,
    "start_time": "2022-01-03T13:23:45.865Z"
   },
   {
    "duration": 19,
    "start_time": "2022-01-03T13:23:45.925Z"
   },
   {
    "duration": 175,
    "start_time": "2022-01-03T13:23:45.946Z"
   },
   {
    "duration": 86,
    "start_time": "2022-01-03T13:23:46.122Z"
   },
   {
    "duration": 36,
    "start_time": "2022-01-03T13:23:46.210Z"
   },
   {
    "duration": 86,
    "start_time": "2022-01-03T13:23:46.248Z"
   },
   {
    "duration": 699,
    "start_time": "2022-01-03T13:23:46.336Z"
   },
   {
    "duration": 10,
    "start_time": "2022-01-03T13:23:47.037Z"
   },
   {
    "duration": 19,
    "start_time": "2022-01-03T13:23:47.049Z"
   },
   {
    "duration": 39,
    "start_time": "2022-01-03T13:23:47.070Z"
   },
   {
    "duration": 416,
    "start_time": "2022-01-03T13:29:19.133Z"
   },
   {
    "duration": 4,
    "start_time": "2022-01-03T13:29:19.551Z"
   },
   {
    "duration": 111,
    "start_time": "2022-01-03T13:29:19.557Z"
   },
   {
    "duration": 5,
    "start_time": "2022-01-03T13:29:19.670Z"
   },
   {
    "duration": 15,
    "start_time": "2022-01-03T13:29:19.676Z"
   },
   {
    "duration": 40,
    "start_time": "2022-01-03T13:29:19.693Z"
   },
   {
    "duration": 61,
    "start_time": "2022-01-03T13:29:19.734Z"
   },
   {
    "duration": 41,
    "start_time": "2022-01-03T13:29:19.798Z"
   },
   {
    "duration": 51,
    "start_time": "2022-01-03T13:29:19.842Z"
   },
   {
    "duration": 176,
    "start_time": "2022-01-03T13:29:19.895Z"
   },
   {
    "duration": 90,
    "start_time": "2022-01-03T13:29:20.073Z"
   },
   {
    "duration": 59,
    "start_time": "2022-01-03T13:29:20.165Z"
   },
   {
    "duration": 87,
    "start_time": "2022-01-03T13:29:20.226Z"
   },
   {
    "duration": 636,
    "start_time": "2022-01-03T13:29:20.315Z"
   },
   {
    "duration": 12,
    "start_time": "2022-01-03T13:29:20.954Z"
   },
   {
    "duration": 40,
    "start_time": "2022-01-03T13:29:20.969Z"
   },
   {
    "duration": 23,
    "start_time": "2022-01-03T13:29:21.011Z"
   },
   {
    "duration": 1492,
    "start_time": "2022-01-04T10:43:38.709Z"
   },
   {
    "duration": 4,
    "start_time": "2022-01-04T10:43:40.203Z"
   },
   {
    "duration": 116,
    "start_time": "2022-01-04T10:43:40.209Z"
   },
   {
    "duration": 320,
    "start_time": "2022-01-04T10:43:40.327Z"
   },
   {
    "duration": -106,
    "start_time": "2022-01-04T10:43:40.755Z"
   },
   {
    "duration": -109,
    "start_time": "2022-01-04T10:43:40.759Z"
   },
   {
    "duration": -110,
    "start_time": "2022-01-04T10:43:40.761Z"
   },
   {
    "duration": -111,
    "start_time": "2022-01-04T10:43:40.763Z"
   },
   {
    "duration": -112,
    "start_time": "2022-01-04T10:43:40.765Z"
   },
   {
    "duration": -112,
    "start_time": "2022-01-04T10:43:40.766Z"
   },
   {
    "duration": -114,
    "start_time": "2022-01-04T10:43:40.768Z"
   },
   {
    "duration": -114,
    "start_time": "2022-01-04T10:43:40.769Z"
   },
   {
    "duration": -115,
    "start_time": "2022-01-04T10:43:40.771Z"
   },
   {
    "duration": -115,
    "start_time": "2022-01-04T10:43:40.772Z"
   },
   {
    "duration": -116,
    "start_time": "2022-01-04T10:43:40.774Z"
   },
   {
    "duration": -116,
    "start_time": "2022-01-04T10:43:40.775Z"
   },
   {
    "duration": -122,
    "start_time": "2022-01-04T10:43:40.782Z"
   },
   {
    "duration": 401,
    "start_time": "2022-01-04T10:44:11.091Z"
   },
   {
    "duration": 1416,
    "start_time": "2022-01-04T10:44:16.991Z"
   },
   {
    "duration": 3,
    "start_time": "2022-01-04T10:44:18.409Z"
   },
   {
    "duration": 119,
    "start_time": "2022-01-04T10:44:18.414Z"
   },
   {
    "duration": 6,
    "start_time": "2022-01-04T10:44:18.535Z"
   },
   {
    "duration": 10,
    "start_time": "2022-01-04T10:44:18.543Z"
   },
   {
    "duration": 41,
    "start_time": "2022-01-04T10:44:18.555Z"
   },
   {
    "duration": 48,
    "start_time": "2022-01-04T10:44:18.598Z"
   },
   {
    "duration": 33,
    "start_time": "2022-01-04T10:44:18.649Z"
   },
   {
    "duration": 17,
    "start_time": "2022-01-04T10:44:18.684Z"
   },
   {
    "duration": 185,
    "start_time": "2022-01-04T10:44:18.703Z"
   },
   {
    "duration": 119,
    "start_time": "2022-01-04T10:44:18.890Z"
   },
   {
    "duration": 82,
    "start_time": "2022-01-04T10:44:19.011Z"
   },
   {
    "duration": 60,
    "start_time": "2022-01-04T10:44:19.095Z"
   },
   {
    "duration": 550,
    "start_time": "2022-01-04T10:44:19.157Z"
   },
   {
    "duration": 10,
    "start_time": "2022-01-04T10:44:19.709Z"
   },
   {
    "duration": 31,
    "start_time": "2022-01-04T10:44:19.721Z"
   },
   {
    "duration": 19,
    "start_time": "2022-01-04T10:44:19.754Z"
   },
   {
    "duration": 90,
    "start_time": "2022-01-04T10:45:13.345Z"
   },
   {
    "duration": 74,
    "start_time": "2022-01-04T10:45:53.514Z"
   },
   {
    "duration": 78,
    "start_time": "2022-01-04T10:46:40.868Z"
   },
   {
    "duration": 1636,
    "start_time": "2022-01-04T21:20:14.701Z"
   },
   {
    "duration": 3,
    "start_time": "2022-01-04T21:20:16.339Z"
   },
   {
    "duration": 181,
    "start_time": "2022-01-04T21:20:16.344Z"
   },
   {
    "duration": 8,
    "start_time": "2022-01-04T21:20:16.527Z"
   },
   {
    "duration": 29,
    "start_time": "2022-01-04T21:20:16.537Z"
   },
   {
    "duration": 73,
    "start_time": "2022-01-04T21:20:16.568Z"
   },
   {
    "duration": 47,
    "start_time": "2022-01-04T21:20:16.644Z"
   },
   {
    "duration": 66,
    "start_time": "2022-01-04T21:20:16.694Z"
   },
   {
    "duration": 22,
    "start_time": "2022-01-04T21:20:16.763Z"
   },
   {
    "duration": 186,
    "start_time": "2022-01-04T21:20:16.788Z"
   },
   {
    "duration": 90,
    "start_time": "2022-01-04T21:20:16.977Z"
   },
   {
    "duration": 45,
    "start_time": "2022-01-04T21:20:17.070Z"
   },
   {
    "duration": 92,
    "start_time": "2022-01-04T21:20:17.117Z"
   },
   {
    "duration": 624,
    "start_time": "2022-01-04T21:20:17.211Z"
   },
   {
    "duration": 13,
    "start_time": "2022-01-04T21:20:17.837Z"
   },
   {
    "duration": 79,
    "start_time": "2022-01-04T21:20:17.852Z"
   },
   {
    "duration": 33,
    "start_time": "2022-01-04T21:20:17.933Z"
   }
  ],
  "kernelspec": {
   "display_name": "Python 3.9.13 64-bit (windows store)",
   "language": "python",
   "name": "python3"
  },
  "language_info": {
   "codemirror_mode": {
    "name": "ipython",
    "version": 3
   },
   "file_extension": ".py",
   "mimetype": "text/x-python",
   "name": "python",
   "nbconvert_exporter": "python",
   "pygments_lexer": "ipython3",
   "version": "3.9.13"
  },
  "toc": {
   "base_numbering": 1,
   "nav_menu": {},
   "number_sections": true,
   "sideBar": true,
   "skip_h1_title": true,
   "title_cell": "Содержание",
   "title_sidebar": "Contents",
   "toc_cell": true,
   "toc_position": {},
   "toc_section_display": true,
   "toc_window_display": true
  },
  "vscode": {
   "interpreter": {
    "hash": "591a79bee64ad568ec6f89e3b618efc0f99908eb6ec63c9e71e73f6f1e7a767a"
   }
  }
 },
 "nbformat": 4,
 "nbformat_minor": 2
}
